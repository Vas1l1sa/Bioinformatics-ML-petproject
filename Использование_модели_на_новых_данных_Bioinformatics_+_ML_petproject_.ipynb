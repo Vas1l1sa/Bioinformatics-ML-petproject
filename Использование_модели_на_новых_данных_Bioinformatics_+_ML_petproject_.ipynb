{
  "nbformat": 4,
  "nbformat_minor": 0,
  "metadata": {
    "colab": {
      "provenance": [],
      "mount_file_id": "1_j0q6SYjygriDBOn1SF4owbcKQ-fDRG6",
      "authorship_tag": "ABX9TyMI8aolhjGl/kwpSNRue5T1",
      "include_colab_link": true
    },
    "kernelspec": {
      "name": "python3",
      "display_name": "Python 3"
    },
    "language_info": {
      "name": "python"
    }
  },
  "cells": [
    {
      "cell_type": "markdown",
      "metadata": {
        "id": "view-in-github",
        "colab_type": "text"
      },
      "source": [
        "<a href=\"https://colab.research.google.com/github/Vas1l1sa/Bioinformatics-ML-petproject/blob/main/%D0%98%D1%81%D0%BF%D0%BE%D0%BB%D1%8C%D0%B7%D0%BE%D0%B2%D0%B0%D0%BD%D0%B8%D0%B5_%D0%BC%D0%BE%D0%B4%D0%B5%D0%BB%D0%B8_%D0%BD%D0%B0_%D0%BD%D0%BE%D0%B2%D1%8B%D1%85_%D0%B4%D0%B0%D0%BD%D0%BD%D1%8B%D1%85_Bioinformatics_%2B_ML_petproject_.ipynb\" target=\"_parent\"><img src=\"https://colab.research.google.com/assets/colab-badge.svg\" alt=\"Open In Colab\"/></a>"
      ]
    },
    {
      "cell_type": "code",
      "execution_count": null,
      "metadata": {
        "id": "jWpGr0TLPhWI"
      },
      "outputs": [],
      "source": [
        "import pandas as pd\n",
        "import numpy as np\n",
        "import seaborn as sns\n",
        "import matplotlib.pyplot as plt\n",
        "import sklearn\n"
      ]
    },
    {
      "cell_type": "markdown",
      "source": [
        "###**1. Загрузка модели и всего необходимого для работы написанной далее функции model_input**"
      ],
      "metadata": {
        "id": "ZNcym_2bCSEB"
      }
    },
    {
      "cell_type": "code",
      "source": [
        "df_total = pd.read_csv('/content/drive/MyDrive/данные для петпроджекта/df_total.csv')\n",
        "df_total = df_total.drop('not_null_sum', axis=1)\n",
        "X = df_total.drop(['Index'], axis=1)\n",
        "y = df_total['Index']"
      ],
      "metadata": {
        "id": "009cB3OLTbBo"
      },
      "execution_count": null,
      "outputs": []
    },
    {
      "cell_type": "code",
      "source": [
        "#загрузим нашу модель\n",
        "import joblib\n",
        "gastr_model = joblib.load('/content/drive/MyDrive/данные для петпроджекта/gastr_or_healthy_classification_model.joblib')\n"
      ],
      "metadata": {
        "id": "-X4AdIEbPsq2"
      },
      "execution_count": 1,
      "outputs": []
    },
    {
      "cell_type": "markdown",
      "source": [
        "###**2. Подготовка новых данных для загрузки в модель и вывод результатов результат работы модели**"
      ],
      "metadata": {
        "id": "kzdFuPeuCi5x"
      }
    },
    {
      "cell_type": "code",
      "source": [
        "#напишем функцию для загрузки данных в нашу модель и получения результатов\n",
        "\n",
        "input_data = pd.read_excel('/content/drive/MyDrive/данные для петпроджекта/новые данные.xlsx', decimal=',') #сюда нужно скопировать путь к вашему файлу\n",
        "\n",
        "def model_input(input_data):\n",
        "  input_data = input_data.astype('float64')\n",
        "  input_data.fillna(0, inplace=True)\n",
        "  input_data = input_data[X.columns]\n",
        "  result = gastr_model.predict(input_data)\n",
        "  return result\n",
        "\n",
        "result = model_input(input_data)\n",
        "\n",
        "if result == 1:\n",
        "    print('С высокой вероятностью у данного человека гастрит')\n",
        "else:\n",
        "    print('С высокой вероятностью у данного человека нет гастрита')\n"
      ],
      "metadata": {
        "colab": {
          "base_uri": "https://localhost:8080/"
        },
        "id": "glUJBAkmG8q9",
        "outputId": "aad05e09-d702-4909-95a9-6e49614d2467"
      },
      "execution_count": null,
      "outputs": [
        {
          "output_type": "stream",
          "name": "stdout",
          "text": [
            "С высокой вероятностью у данного человека гастрит\n"
          ]
        }
      ]
    }
  ]
}