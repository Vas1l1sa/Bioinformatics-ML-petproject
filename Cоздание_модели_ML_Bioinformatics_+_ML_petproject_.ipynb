{
  "nbformat": 4,
  "nbformat_minor": 0,
  "metadata": {
    "colab": {
      "provenance": [],
      "mount_file_id": "1I6p5McI9wXzM0u2u5ZOf_p_2r5LTnmcn",
      "authorship_tag": "ABX9TyPyNsEaWdkLl5g750YXbH5s",
      "include_colab_link": true
    },
    "kernelspec": {
      "name": "python3",
      "display_name": "Python 3"
    },
    "language_info": {
      "name": "python"
    }
  },
  "cells": [
    {
      "cell_type": "markdown",
      "metadata": {
        "id": "view-in-github",
        "colab_type": "text"
      },
      "source": [
        "<a href=\"https://colab.research.google.com/github/Vas1l1sa/Bioinformatics-ML-petproject/blob/main/C%D0%BE%D0%B7%D0%B4%D0%B0%D0%BD%D0%B8%D0%B5_%D0%BC%D0%BE%D0%B4%D0%B5%D0%BB%D0%B8_ML_Bioinformatics_%2B_ML_petproject_.ipynb\" target=\"_parent\"><img src=\"https://colab.research.google.com/assets/colab-badge.svg\" alt=\"Open In Colab\"/></a>"
      ]
    },
    {
      "cell_type": "code",
      "execution_count": null,
      "metadata": {
        "id": "7U_AdtPkG4qQ"
      },
      "outputs": [],
      "source": [
        "import pandas as pd\n",
        "import numpy as np\n",
        "import seaborn as sns\n",
        "import matplotlib.pyplot as plt\n",
        "import sklearn\n"
      ]
    },
    {
      "cell_type": "code",
      "source": [
        "import warnings\n",
        "warnings.filterwarnings(\"ignore\", category=FutureWarning)\n",
        "\n",
        "from sklearn.exceptions import FitFailedWarning\n",
        "warnings.simplefilter(\"ignore\", FitFailedWarning)\n"
      ],
      "metadata": {
        "id": "65TyiRakXmSn"
      },
      "execution_count": null,
      "outputs": []
    },
    {
      "cell_type": "markdown",
      "source": [
        "### Как разделить здоровых людей и людей с гастритом на основании различий в их микробиоте кишечника?\n",
        "\n"
      ],
      "metadata": {
        "id": "emnANW3VUTbb"
      }
    },
    {
      "cell_type": "markdown",
      "source": [
        "**Будем осуществлять supervised learning для задачи классификации с использованием следующих моделей машинного обучения:**\n",
        "\n",
        "**1.   Логистическая регрессия**\n",
        "\n",
        "**2.   KNN**\n",
        "\n",
        "**3.   SVM**\n",
        "\n",
        "**4.   Базовые деревья решений**\n",
        "\n",
        "**5.   Random forests**\n",
        "\n",
        "**6.   Boosting и AdaBoosting**\n",
        "\n",
        "**7.   Градиентный бустинг**\n",
        "\n",
        "\n",
        "\n",
        "\n"
      ],
      "metadata": {
        "id": "5t25ldFwJDoZ"
      }
    },
    {
      "cell_type": "markdown",
      "source": [
        "###**1. Общая подготовка данных перед машинным обучением**"
      ],
      "metadata": {
        "id": "LEY2qqpptFKO"
      }
    },
    {
      "cell_type": "code",
      "source": [
        "#загрузим полученные ранее датасеты\n",
        "df = pd.read_csv('/content/drive/MyDrive/данные для петпроджекта/df.csv')\n",
        "df_healthy = pd.read_csv('/content/drive/MyDrive/данные для петпроджекта/df_healthy.csv')\n",
        "df_total = pd.read_csv('/content/drive/MyDrive/данные для петпроджекта/df_total.csv')"
      ],
      "metadata": {
        "id": "GuPRbdwipc0a"
      },
      "execution_count": null,
      "outputs": []
    },
    {
      "cell_type": "code",
      "source": [
        "len(df_total)"
      ],
      "metadata": {
        "colab": {
          "base_uri": "https://localhost:8080/"
        },
        "id": "4eTn6nWKx0Qn",
        "outputId": "a6aff652-498d-495c-cf1e-cbd1a2dd01ad"
      },
      "execution_count": null,
      "outputs": [
        {
          "output_type": "execute_result",
          "data": {
            "text/plain": [
              "274"
            ]
          },
          "metadata": {},
          "execution_count": 6
        }
      ]
    },
    {
      "cell_type": "code",
      "source": [
        "#разделим данные на признаки и отклик\n",
        "\n",
        "X = df_total.drop(['Index'], axis=1)\n",
        "y = df_total['Index']\n"
      ],
      "metadata": {
        "id": "zCBOg6rPqoLN"
      },
      "execution_count": null,
      "outputs": []
    },
    {
      "cell_type": "markdown",
      "source": [
        "**В данной задаче нормировка признаков не требуется, т.к. все данные в датасете - процентное содержание того или иного вида в образце, т.е. по сути они уже отнормированы**"
      ],
      "metadata": {
        "id": "bMYjVLd9wv00"
      }
    },
    {
      "cell_type": "code",
      "source": [
        "#посмотрим корреляцию признаков и отклика (какие признаки больше других влияют на отклик)\n",
        "\n",
        "np.abs(df_total.corr()['Index']).sort_values(ascending=False).drop('Index').head(10)\n"
      ],
      "metadata": {
        "colab": {
          "base_uri": "https://localhost:8080/",
          "height": 398
        },
        "id": "hnGJjmr4wHk5",
        "outputId": "7b68a1f2-2893-4d26-85f5-2761b1806db2"
      },
      "execution_count": null,
      "outputs": [
        {
          "output_type": "execute_result",
          "data": {
            "text/plain": [
              "Faecalibacterium_prausnitzii        0.699834\n",
              "Bacteroides_vulgatus                0.417186\n",
              "Bacteroides_dorei/vulgatus          0.411259\n",
              "Phascolarctobacterium_faecium       0.408868\n",
              "Parabacteroides_merdae              0.397475\n",
              "Lachnospira_pectinoschiza           0.367726\n",
              "Bacteroides_uniformis               0.363811\n",
              "Collinsella_aerofaciens             0.350600\n",
              "Faecalibacterium_cf./prausnitzii    0.346576\n",
              "Alistipes_putredinis                0.330995\n",
              "Name: Index, dtype: float64"
            ],
            "text/html": [
              "<div>\n",
              "<style scoped>\n",
              "    .dataframe tbody tr th:only-of-type {\n",
              "        vertical-align: middle;\n",
              "    }\n",
              "\n",
              "    .dataframe tbody tr th {\n",
              "        vertical-align: top;\n",
              "    }\n",
              "\n",
              "    .dataframe thead th {\n",
              "        text-align: right;\n",
              "    }\n",
              "</style>\n",
              "<table border=\"1\" class=\"dataframe\">\n",
              "  <thead>\n",
              "    <tr style=\"text-align: right;\">\n",
              "      <th></th>\n",
              "      <th>Index</th>\n",
              "    </tr>\n",
              "  </thead>\n",
              "  <tbody>\n",
              "    <tr>\n",
              "      <th>Faecalibacterium_prausnitzii</th>\n",
              "      <td>0.699834</td>\n",
              "    </tr>\n",
              "    <tr>\n",
              "      <th>Bacteroides_vulgatus</th>\n",
              "      <td>0.417186</td>\n",
              "    </tr>\n",
              "    <tr>\n",
              "      <th>Bacteroides_dorei/vulgatus</th>\n",
              "      <td>0.411259</td>\n",
              "    </tr>\n",
              "    <tr>\n",
              "      <th>Phascolarctobacterium_faecium</th>\n",
              "      <td>0.408868</td>\n",
              "    </tr>\n",
              "    <tr>\n",
              "      <th>Parabacteroides_merdae</th>\n",
              "      <td>0.397475</td>\n",
              "    </tr>\n",
              "    <tr>\n",
              "      <th>Lachnospira_pectinoschiza</th>\n",
              "      <td>0.367726</td>\n",
              "    </tr>\n",
              "    <tr>\n",
              "      <th>Bacteroides_uniformis</th>\n",
              "      <td>0.363811</td>\n",
              "    </tr>\n",
              "    <tr>\n",
              "      <th>Collinsella_aerofaciens</th>\n",
              "      <td>0.350600</td>\n",
              "    </tr>\n",
              "    <tr>\n",
              "      <th>Faecalibacterium_cf./prausnitzii</th>\n",
              "      <td>0.346576</td>\n",
              "    </tr>\n",
              "    <tr>\n",
              "      <th>Alistipes_putredinis</th>\n",
              "      <td>0.330995</td>\n",
              "    </tr>\n",
              "  </tbody>\n",
              "</table>\n",
              "</div><br><label><b>dtype:</b> float64</label>"
            ]
          },
          "metadata": {},
          "execution_count": 8
        }
      ]
    },
    {
      "cell_type": "markdown",
      "source": [
        "**Ввиду того, что датасет получился довольно маленьким, сделаем разбивку данных только на обучающую и тестовую выборки (без hold-out test set).**\n",
        "\n",
        "**Для подбора оптимальных гиперпараметров будем применять кросс-валидацию (GridSearchCV) для тестовой выборки, т.к. от изменения разбивки данных результаты ошибок тоже будут меняться.**"
      ],
      "metadata": {
        "id": "zTiWOfQixNw0"
      }
    },
    {
      "cell_type": "code",
      "source": [
        "#разделим данные на тренировочную и тестовую выборки\n",
        "\n",
        "from sklearn.model_selection import train_test_split\n",
        "\n",
        "X_train, X_test, y_train, y_test = train_test_split(X, y, test_size=0.3, random_state=42)\n"
      ],
      "metadata": {
        "id": "DEakQV_vrgEB"
      },
      "execution_count": null,
      "outputs": []
    },
    {
      "cell_type": "markdown",
      "source": [
        "###**2. Создание модели бинарной классификации на основе алгоритма логистической регрессии**\n"
      ],
      "metadata": {
        "id": "Sja6I-hrp3GA"
      }
    },
    {
      "cell_type": "code",
      "source": [
        "#создадим модель логистической регрессии и подберем оптимальные гиперпараметры при помощи поиска по сетке и кросс-валидации\n",
        "\n",
        "from sklearn.linear_model import LogisticRegressionCV\n",
        "test_model1 = LogisticRegressionCV(cv = 5, max_iter = 50000, random_state=42) #устанавливаем параметр random_state, чтобы при нескольких запусках GridSearchCV со скорректированным списком гиперпараметров результаты получались уточненными, а не совершенно новыми\n"
      ],
      "metadata": {
        "id": "AlukpuXbDuUF"
      },
      "execution_count": null,
      "outputs": []
    },
    {
      "cell_type": "code",
      "source": [
        "#посмотрим информацию по гиперпараметрам этого алгоритма и на основании нее составим словарь parem_grid\n",
        "#help(LogisticRegressionCV())"
      ],
      "metadata": {
        "id": "rrKu9dMy57oX"
      },
      "execution_count": null,
      "outputs": []
    },
    {
      "cell_type": "code",
      "source": [
        "#сделаем поиск по сетке для нахождения оптимальных гиперпараметров\n",
        "\n",
        "from sklearn.model_selection import GridSearchCV\n",
        "param_grid1 = [\n",
        "    {'Cs': [1, 2, 3], 'solver': ['lbfgs', 'newton-cg', 'sag', 'saga'], 'dual': [False]},\n",
        "    {'Cs': [1, 2, 3], 'solver': ['liblinear'], 'dual': [True, False]},\n",
        "]\n",
        "#разбила param_grid1 на 2 части, чтобы не выпадали ошибки при переборе некоторых комбинаций solver и dual\n",
        "grid1 = GridSearchCV(test_model1, param_grid1, error_score=np.nan)\n",
        "\n",
        "grid1.fit(X_train, y_train)\n",
        "grid1.best_params_"
      ],
      "metadata": {
        "id": "bwtp_NHTvQr_",
        "colab": {
          "base_uri": "https://localhost:8080/"
        },
        "outputId": "25002db6-dd66-4cb5-fe11-58b57afd3642"
      },
      "execution_count": null,
      "outputs": [
        {
          "output_type": "execute_result",
          "data": {
            "text/plain": [
              "{'Cs': 3, 'dual': False, 'solver': 'sag'}"
            ]
          },
          "metadata": {},
          "execution_count": 44
        }
      ]
    },
    {
      "cell_type": "code",
      "source": [
        "#создадим модель с найденными оптимальными гиперпараметрами\n",
        "logistic_regression_model = LogisticRegressionCV(cv = 5, max_iter = 50000, Cs = 3, dual=False, solver='sag')\n",
        "logistic_regression_model.fit(X_train, y_train)\n",
        "y_pred1 = logistic_regression_model.predict(X_test)\n",
        "y_pred1"
      ],
      "metadata": {
        "id": "k6FPnM1QETBW",
        "colab": {
          "base_uri": "https://localhost:8080/"
        },
        "outputId": "7c0179d5-f9ea-44bd-caaf-a0cdca4154ce"
      },
      "execution_count": null,
      "outputs": [
        {
          "output_type": "execute_result",
          "data": {
            "text/plain": [
              "array([0., 1., 0., 0., 1., 1., 1., 1., 1., 0., 1., 1., 1., 1., 1., 1., 1.,\n",
              "       0., 0., 1., 0., 0., 1., 0., 1., 1., 0., 0., 0., 0., 0., 0., 0., 0.,\n",
              "       0., 1., 1., 1., 0., 0., 0., 0., 0., 0., 0., 1., 0., 1., 0., 1., 0.,\n",
              "       1., 1., 0., 1., 0., 1., 0., 0., 1., 1., 0., 0., 0., 0., 1., 1., 0.,\n",
              "       1., 0., 0., 1., 1., 1., 0., 1., 1., 0., 1., 0., 0., 0., 1.])"
            ]
          },
          "metadata": {},
          "execution_count": 11
        }
      ]
    },
    {
      "cell_type": "markdown",
      "source": [
        "###**3. Создание модели бинарной классификации на основе алгоритма KNN**"
      ],
      "metadata": {
        "id": "5Mxx_lJtuMx3"
      }
    },
    {
      "cell_type": "code",
      "source": [
        "#создадим модель логистической регрессии и подберем оптимальные гиперпараметры при помощи поиска по сетке и кросс-валидации\n",
        "from sklearn.neighbors import KNeighborsClassifier\n",
        "test_model2 = KNeighborsClassifier()"
      ],
      "metadata": {
        "id": "7QT14qk5uuW5"
      },
      "execution_count": null,
      "outputs": []
    },
    {
      "cell_type": "code",
      "source": [
        "#help(KNeighborsClassifier)"
      ],
      "metadata": {
        "id": "qh67S_I5uudr"
      },
      "execution_count": null,
      "outputs": []
    },
    {
      "cell_type": "code",
      "source": [
        "#сделаем поиск по сетке для нахождения оптимальных гиперпараметров\n",
        "from sklearn.model_selection import GridSearchCV\n",
        "\n",
        "param_grid2 = {'n_neighbors': list(range(1,20))}\n",
        "\n",
        "grid2 = GridSearchCV(test_model2, param_grid2, cv=5, scoring='accuracy')\n",
        "grid2.fit(X_train, y_train)\n",
        "grid2.best_params_\n",
        "#{'n_neighbors': 1}"
      ],
      "metadata": {
        "id": "YMaP2J4nuua8",
        "colab": {
          "base_uri": "https://localhost:8080/"
        },
        "outputId": "ce73349e-5b83-4053-a073-5c4e40547696"
      },
      "execution_count": null,
      "outputs": [
        {
          "output_type": "execute_result",
          "data": {
            "text/plain": [
              "{'n_neighbors': 1}"
            ]
          },
          "metadata": {},
          "execution_count": 14
        }
      ]
    },
    {
      "cell_type": "code",
      "source": [
        "#создадим модель с найденными оптимальными гиперпараметрами\n",
        "knn_model = KNeighborsClassifier(n_neighbors=1)\n",
        "knn_model.fit(X_train, y_train)\n",
        "y_pred2 = knn_model.predict(X_test)\n",
        "y_pred2"
      ],
      "metadata": {
        "id": "D0qXSh85xgKt",
        "colab": {
          "base_uri": "https://localhost:8080/"
        },
        "outputId": "bab3685f-715b-4408-d32b-3af1332686d3"
      },
      "execution_count": null,
      "outputs": [
        {
          "output_type": "execute_result",
          "data": {
            "text/plain": [
              "array([0., 1., 0., 0., 0., 1., 0., 1., 0., 0., 1., 1., 1., 1., 1., 1., 1.,\n",
              "       0., 0., 0., 0., 0., 1., 0., 1., 1., 0., 0., 0., 0., 0., 0., 0., 0.,\n",
              "       0., 1., 1., 1., 0., 0., 0., 0., 0., 0., 0., 1., 0., 1., 0., 1., 0.,\n",
              "       1., 1., 0., 1., 0., 1., 0., 0., 1., 1., 0., 0., 0., 0., 1., 1., 0.,\n",
              "       1., 0., 0., 1., 1., 1., 0., 1., 1., 0., 1., 0., 0., 0., 0.])"
            ]
          },
          "metadata": {},
          "execution_count": 15
        }
      ]
    },
    {
      "cell_type": "markdown",
      "source": [
        "###**4. Создание модели бинарной классификации на основе алгоритма SVM**"
      ],
      "metadata": {
        "id": "qoiHqeCnx91b"
      }
    },
    {
      "cell_type": "code",
      "source": [
        "#создадим модель логистической регрессии и подберем оптимальные гиперпараметры при помощи поиска по сетке и кросс-валидации\n",
        "from sklearn.svm import SVC\n",
        "test_model3 = SVC()\n",
        "\n"
      ],
      "metadata": {
        "id": "Lor1apF0uugw"
      },
      "execution_count": null,
      "outputs": []
    },
    {
      "cell_type": "code",
      "source": [
        "#help(SVC)"
      ],
      "metadata": {
        "id": "sMwEIjSZy2PX"
      },
      "execution_count": null,
      "outputs": []
    },
    {
      "cell_type": "code",
      "source": [
        "#сделаем поиск по сетке для нахождения оптимальных гиперпараметров\n",
        "from sklearn.model_selection import GridSearchCV\n",
        "\n",
        "param_grid3 = {'kernel': ['linear', 'poly', 'rbf', 'sigmoid'], 'C': [0.01, 0.1, 1, 1.2, 1.4, 1.45, 1.46, 1.465, 1.47, 1.475, 1.48, 1.5, 1.52, 1.55, 1.7, 2, 5, 10, 15, 20, 25, 30]}\n",
        "\n",
        "grid3 = GridSearchCV(test_model3, cv=5, param_grid = param_grid3, scoring='accuracy')\n",
        "grid3.fit(X_train, y_train)\n",
        "grid3.best_params_\n",
        "#когда мы получили какое-то предварительно хорошее значение 'C', потом обязательно добавляем в список для перебора ближайшие к этому числу значения и запускаем повторный поиск по сетке"
      ],
      "metadata": {
        "id": "H3bOTKduyoV_",
        "colab": {
          "base_uri": "https://localhost:8080/"
        },
        "outputId": "5ac70c2e-c2c4-420d-f960-4a5596a183b1"
      },
      "execution_count": null,
      "outputs": [
        {
          "output_type": "execute_result",
          "data": {
            "text/plain": [
              "{'C': 1.465, 'kernel': 'sigmoid'}"
            ]
          },
          "metadata": {},
          "execution_count": 18
        }
      ]
    },
    {
      "cell_type": "code",
      "source": [
        "#создадим модель с найденными оптимальными гиперпараметрами\n",
        "svm_model = SVC(C=1.465, kernel='sigmoid')\n",
        "svm_model.fit(X_train, y_train)\n",
        "y_pred3 = svm_model.predict(X_test)\n",
        "y_pred3"
      ],
      "metadata": {
        "id": "-1QWjPfw2__R",
        "colab": {
          "base_uri": "https://localhost:8080/"
        },
        "outputId": "ec84a9be-9ee2-4234-bd39-e3b4d241c5ed"
      },
      "execution_count": null,
      "outputs": [
        {
          "output_type": "execute_result",
          "data": {
            "text/plain": [
              "array([0., 1., 1., 0., 1., 1., 1., 1., 0., 1., 1., 1., 1., 1., 1., 1., 1.,\n",
              "       0., 0., 1., 0., 0., 1., 1., 1., 1., 0., 0., 0., 0., 0., 0., 0., 0.,\n",
              "       0., 1., 1., 1., 0., 0., 0., 0., 0., 0., 0., 1., 0., 1., 0., 1., 0.,\n",
              "       1., 1., 0., 1., 0., 1., 0., 0., 1., 1., 0., 0., 0., 0., 1., 1., 0.,\n",
              "       1., 0., 0., 1., 1., 1., 0., 1., 1., 0., 1., 0., 0., 0., 1.])"
            ]
          },
          "metadata": {},
          "execution_count": 19
        }
      ]
    },
    {
      "cell_type": "markdown",
      "source": [
        "###**5. Создание модели бинарной классификации на основе алгоритма базовых деревьев решений**"
      ],
      "metadata": {
        "id": "9Zypps6GmYM1"
      }
    },
    {
      "cell_type": "code",
      "source": [
        "#создадим модель логистической регрессии и подберем оптимальные гиперпараметры при помощи поиска по сетке и кросс-валидации\n",
        "from sklearn.tree import DecisionTreeClassifier\n",
        "test_model4 = DecisionTreeClassifier(random_state=42) #устанавливаем параметр random_state, чтобы при нескольких запусках GridSearchCV со скорректированным списком гиперпараметров результаты получались уточненными, а не совершенно новыми\n"
      ],
      "metadata": {
        "id": "ieH8PqcJpA1o"
      },
      "execution_count": null,
      "outputs": []
    },
    {
      "cell_type": "code",
      "source": [
        "#help(DecisionTreeClassifier())"
      ],
      "metadata": {
        "id": "XMl1OTLppseX"
      },
      "execution_count": null,
      "outputs": []
    },
    {
      "cell_type": "code",
      "source": [
        "#сделаем поиск по сетке для нахождения оптимальных гиперпараметров\n",
        "from sklearn.model_selection import GridSearchCV\n",
        "param_grid4 = {'max_depth': [1, 2, 3, 4, 5, 6, 7, 8, 9, 10], 'criterion': [\"gini\", \"entropy\", \"log_loss\"]}\n",
        "grid4 = GridSearchCV(test_model4, param_grid4, cv=5, scoring='accuracy')\n",
        "grid4.fit(X_train, y_train)\n",
        "grid4.best_params_"
      ],
      "metadata": {
        "colab": {
          "base_uri": "https://localhost:8080/"
        },
        "id": "G5lTe_q5pshH",
        "outputId": "b19a43a5-a7d1-443e-9d44-7e24c89ca4f7"
      },
      "execution_count": null,
      "outputs": [
        {
          "output_type": "execute_result",
          "data": {
            "text/plain": [
              "{'criterion': 'gini', 'max_depth': 2}"
            ]
          },
          "metadata": {},
          "execution_count": 22
        }
      ]
    },
    {
      "cell_type": "code",
      "source": [
        "#создадим модель с найденными оптимальными гиперпараметрами\n",
        "decision_tree_model = DecisionTreeClassifier(criterion='gini', max_depth=2)\n",
        "decision_tree_model.fit(X_train, y_train)\n",
        "y_pred4 = decision_tree_model.predict(X_test)\n",
        "y_pred4"
      ],
      "metadata": {
        "colab": {
          "base_uri": "https://localhost:8080/"
        },
        "id": "FEaNLvAhrgRZ",
        "outputId": "d7573631-db95-498b-bea4-1c800e09c2e8"
      },
      "execution_count": null,
      "outputs": [
        {
          "output_type": "execute_result",
          "data": {
            "text/plain": [
              "array([0., 1., 1., 0., 1., 1., 1., 1., 1., 0., 1., 1., 1., 0., 1., 1., 1.,\n",
              "       0., 0., 1., 0., 1., 1., 1., 1., 1., 0., 0., 0., 0., 0., 0., 0., 0.,\n",
              "       0., 1., 1., 1., 0., 0., 0., 0., 0., 0., 0., 1., 0., 1., 0., 1., 0.,\n",
              "       1., 1., 0., 1., 0., 1., 0., 0., 1., 1., 0., 0., 0., 0., 0., 1., 0.,\n",
              "       1., 0., 0., 1., 1., 1., 0., 1., 1., 0., 0., 0., 0., 0., 0.])"
            ]
          },
          "metadata": {},
          "execution_count": 23
        }
      ]
    },
    {
      "cell_type": "markdown",
      "source": [
        "###**6. Создание модели бинарной классификации на основе алгоритма Random forests**"
      ],
      "metadata": {
        "id": "XQLmNLt8mxb8"
      }
    },
    {
      "cell_type": "code",
      "source": [
        "#создадим модель логистической регрессии и подберем оптимальные гиперпараметры при помощи поиска по сетке и кросс-валидации\n",
        "from sklearn.ensemble import RandomForestClassifier\n",
        "test_model5 = RandomForestClassifier(random_state=42) #устанавливаем параметр random_state, чтобы при нескольких запусках GridSearchCV со скорректированным списком гиперпараметров результаты получались уточненными, а не совершенно новыми"
      ],
      "metadata": {
        "id": "3zmY7rEcpi-_"
      },
      "execution_count": null,
      "outputs": []
    },
    {
      "cell_type": "code",
      "source": [
        "#help(RandomForestClassifier())"
      ],
      "metadata": {
        "id": "_c1bjiClHlC1"
      },
      "execution_count": null,
      "outputs": []
    },
    {
      "cell_type": "code",
      "source": [
        "#сделаем поиск по сетке для нахождения оптимальных гиперпараметров\n",
        "from sklearn.model_selection import GridSearchCV\n",
        "param_grid5 = {'n_estimators': [5, 6, 7, 8, 9, 10, 12, 15, 20, 30, 40, 45, 50, 55, 60, 65, 70, 75, 80, 90, 100, 120, 140, 200, 300, 400, 500], 'max_features': ['sqrt', 'log2']}\n",
        "grid5 = GridSearchCV(test_model5, param_grid5, cv=5, scoring='accuracy', error_score=np.nan)\n",
        "grid5.fit(X_train, y_train)\n",
        "grid5.best_params_\n",
        "#когда мы получили какое-то предварительно хорошее значение 'n_estimators', потом обязательно добавляем в список для перебора ближайшие к этому числу значения и запускаем повторный поиск по сетке\n"
      ],
      "metadata": {
        "colab": {
          "base_uri": "https://localhost:8080/"
        },
        "id": "K47f1tilu6Ia",
        "outputId": "9ceead57-cfbd-43c0-a361-620e6f1dcdb9"
      },
      "execution_count": null,
      "outputs": [
        {
          "output_type": "execute_result",
          "data": {
            "text/plain": [
              "{'max_features': 'sqrt', 'n_estimators': 8}"
            ]
          },
          "metadata": {},
          "execution_count": 26
        }
      ]
    },
    {
      "cell_type": "code",
      "source": [
        "#создадим модель с найденными оптимальными гиперпараметрами\n",
        "random_forest_model = RandomForestClassifier(max_features='sqrt', n_estimators=8)\n",
        "random_forest_model.fit(X_train, y_train)\n",
        "y_pred5 = random_forest_model.predict(X_test)\n",
        "y_pred5"
      ],
      "metadata": {
        "colab": {
          "base_uri": "https://localhost:8080/"
        },
        "id": "n6Hj22hNvrMy",
        "outputId": "9d74f0c5-aa1c-485f-9ec6-c25f2d71f3f8"
      },
      "execution_count": null,
      "outputs": [
        {
          "output_type": "execute_result",
          "data": {
            "text/plain": [
              "array([0., 1., 1., 0., 1., 1., 1., 1., 1., 0., 1., 1., 1., 1., 1., 1., 1.,\n",
              "       0., 0., 1., 0., 1., 1., 1., 1., 1., 0., 0., 0., 0., 0., 0., 0., 0.,\n",
              "       0., 1., 1., 1., 0., 0., 0., 0., 0., 0., 0., 1., 0., 1., 0., 1., 0.,\n",
              "       1., 1., 0., 1., 0., 1., 0., 0., 1., 1., 0., 0., 0., 0., 0., 1., 0.,\n",
              "       1., 0., 0., 1., 1., 1., 0., 1., 1., 0., 0., 0., 0., 0., 1.])"
            ]
          },
          "metadata": {},
          "execution_count": 27
        }
      ]
    },
    {
      "cell_type": "markdown",
      "source": [
        "###**7. Создание модели бинарной классификации на основе алгоритма Boosting и AdaBoosting**"
      ],
      "metadata": {
        "id": "odBiE4y0mydr"
      }
    },
    {
      "cell_type": "code",
      "source": [
        "#создадим модель логистической регрессии и подберем оптимальные гиперпараметры при помощи поиска по сетке и кросс-валидации\n",
        "from sklearn.ensemble import AdaBoostClassifier\n",
        "test_model6 = AdaBoostClassifier()\n"
      ],
      "metadata": {
        "id": "6-QDtZkqpjoX"
      },
      "execution_count": null,
      "outputs": []
    },
    {
      "cell_type": "code",
      "source": [
        "#help(AdaBoostClassifier())"
      ],
      "metadata": {
        "id": "WwZbNYrK_6f-"
      },
      "execution_count": null,
      "outputs": []
    },
    {
      "cell_type": "code",
      "source": [
        "#сделаем поиск по сетке для нахождения оптимальных гиперпараметров\n",
        "from sklearn.model_selection import GridSearchCV\n",
        "\n",
        "param_grid6 = {'n_estimators': [5, 7, 8, 9, 10, 11, 12, 15, 20, 30, 40, 50, 60, 70, 80, 90, 100, 120, 150]}\n",
        "\n",
        "grid6 = GridSearchCV(test_model6, param_grid6, cv=5, scoring='accuracy')\n",
        "grid6.fit(X_train, y_train)\n",
        "grid6.best_params_"
      ],
      "metadata": {
        "colab": {
          "base_uri": "https://localhost:8080/"
        },
        "id": "KTP_EiZF9bfN",
        "outputId": "929713d9-598c-40fd-c212-0586fbb6278b"
      },
      "execution_count": null,
      "outputs": [
        {
          "output_type": "execute_result",
          "data": {
            "text/plain": [
              "{'n_estimators': 10}"
            ]
          },
          "metadata": {},
          "execution_count": 30
        }
      ]
    },
    {
      "cell_type": "code",
      "source": [
        "#создадим модель с найденными оптимальными гиперпараметрами\n",
        "ada_boosting_model = AdaBoostClassifier(n_estimators=10)\n",
        "ada_boosting_model.fit(X_train, y_train)\n",
        "y_pred6 = ada_boosting_model.predict(X_test)\n",
        "y_pred6"
      ],
      "metadata": {
        "colab": {
          "base_uri": "https://localhost:8080/"
        },
        "id": "4tkVWel39doV",
        "outputId": "065bb367-f84c-4d59-d13a-4ffd31533c16"
      },
      "execution_count": null,
      "outputs": [
        {
          "output_type": "execute_result",
          "data": {
            "text/plain": [
              "array([0., 1., 1., 0., 1., 1., 1., 1., 1., 0., 1., 1., 1., 0., 1., 1., 1.,\n",
              "       0., 0., 1., 0., 1., 1., 0., 1., 1., 0., 0., 0., 0., 0., 0., 0., 0.,\n",
              "       0., 1., 1., 1., 0., 0., 0., 0., 0., 0., 0., 1., 0., 1., 0., 1., 0.,\n",
              "       1., 1., 0., 1., 0., 1., 0., 0., 1., 1., 0., 0., 0., 0., 0., 1., 0.,\n",
              "       1., 0., 0., 1., 1., 1., 0., 1., 1., 0., 0., 0., 0., 0., 0.])"
            ]
          },
          "metadata": {},
          "execution_count": 31
        }
      ]
    },
    {
      "cell_type": "markdown",
      "source": [
        "###**8. Создание модели бинарной классификации на основе алгоритма градиентного бустинга**"
      ],
      "metadata": {
        "id": "49sNCV5dnAWU"
      }
    },
    {
      "cell_type": "code",
      "source": [
        "#создадим модель логистической регрессии и подберем оптимальные гиперпараметры при помощи поиска по сетке и кросс-валидации\n",
        "\n",
        "from sklearn.ensemble import GradientBoostingClassifier\n",
        "test_model7 = GradientBoostingClassifier(random_state=42) #устанавливаем параметр random_state, чтобы при нескольких запусках GridSearchCV со скорректированным списком гиперпараметров результаты получались уточненными, а не совершенно новыми\n"
      ],
      "metadata": {
        "id": "xwyAfSwTpkPn"
      },
      "execution_count": null,
      "outputs": []
    },
    {
      "cell_type": "code",
      "source": [
        "#help(GradientBoostingClassifier())"
      ],
      "metadata": {
        "id": "alY5nW8oBld-"
      },
      "execution_count": null,
      "outputs": []
    },
    {
      "cell_type": "code",
      "source": [
        "#сделаем поиск по сетке для нахождения оптимальных гиперпараметров\n",
        "from sklearn.model_selection import GridSearchCV\n",
        "#param_grid7 = {'n_estimators': [10, 30, 50, 90, 100, 115, 118, 119, 120, 121, 122, 125, 150], 'learning_rate': [0.0005, 0.001, 0.0015, 0.002, 0.005, 0.01], 'max_depth': [3, 4, 5, 6, 7, 8, 9, 10, 11, 12], 'max_features' : ['None', 'sqrt', 'log2'], 'loss' : ['log_loss', 'exponential']}\n",
        "param_grid7 = {'n_estimators': [118, 119, 120, 121, 122, 125], 'learning_rate': [0.0005, 0.001, 0.0015, 0.002], 'max_depth': [8, 9, 10, 11, 12], 'max_features' : ['log2'], 'loss' : ['exponential']}\n",
        "grid7 = GridSearchCV(test_model7, param_grid7, cv=5, scoring='accuracy')\n",
        "grid7.fit(X_train, y_train)\n",
        "grid7.best_params_"
      ],
      "metadata": {
        "colab": {
          "base_uri": "https://localhost:8080/"
        },
        "id": "B2AfQis3BllG",
        "outputId": "f4751f69-1bc9-44df-c579-bf9e702eef90"
      },
      "execution_count": null,
      "outputs": [
        {
          "output_type": "execute_result",
          "data": {
            "text/plain": [
              "{'learning_rate': 0.001,\n",
              " 'loss': 'exponential',\n",
              " 'max_depth': 10,\n",
              " 'max_features': 'log2',\n",
              " 'n_estimators': 120}"
            ]
          },
          "metadata": {},
          "execution_count": 10
        }
      ]
    },
    {
      "cell_type": "code",
      "source": [
        "#создадим модель с найденными оптимальными гиперпараметрами\n",
        "gradient_boosting_model = GradientBoostingClassifier(learning_rate=0.001, loss='exponential', max_depth=10, max_features='log2', n_estimators=120)\n",
        "gradient_boosting_model.fit(X_train, y_train)\n",
        "y_pred7 = gradient_boosting_model.predict(X_test)\n",
        "y_pred7"
      ],
      "metadata": {
        "colab": {
          "base_uri": "https://localhost:8080/"
        },
        "id": "juUlqzE6FnSH",
        "outputId": "50715d26-c9d5-4642-e363-6835f32bf1c3"
      },
      "execution_count": null,
      "outputs": [
        {
          "output_type": "execute_result",
          "data": {
            "text/plain": [
              "array([0., 1., 1., 0., 1., 1., 1., 1., 1., 0., 1., 1., 1., 1., 1., 1., 1.,\n",
              "       0., 0., 1., 0., 0., 1., 0., 1., 1., 0., 0., 0., 0., 0., 0., 0., 0.,\n",
              "       0., 1., 1., 1., 0., 0., 0., 0., 0., 0., 0., 1., 0., 1., 0., 1., 0.,\n",
              "       1., 1., 0., 1., 0., 1., 0., 0., 1., 1., 0., 0., 0., 0., 0., 1., 0.,\n",
              "       1., 0., 0., 1., 1., 1., 0., 1., 1., 0., 1., 0., 0., 0., 1.])"
            ]
          },
          "metadata": {},
          "execution_count": 11
        }
      ]
    },
    {
      "cell_type": "markdown",
      "source": [
        "###**9. Напишем функцию для сранения всех этих моделей между собой**"
      ],
      "metadata": {
        "id": "9Em4P8ED9SBG"
      }
    },
    {
      "cell_type": "code",
      "source": [
        "from sklearn.metrics import mean_absolute_error, mean_squared_error, accuracy_score, classification_report, confusion_matrix\n",
        "from sklearn.metrics import ConfusionMatrixDisplay\n",
        "\n",
        "def run_models(models, X_train, y_train, X_test, y_test):\n",
        "    for model in models:\n",
        "        print(f\"Evaluating model: {model.__class__.__name__}\")\n",
        "\n",
        "        model.fit(X_train, y_train)\n",
        "        y_pred = model.predict(X_test)\n",
        "\n",
        "        # Вычисление метрик\n",
        "        accuracy = accuracy_score(y_test, y_pred)\n",
        "\n",
        "        # Вывод метрик\n",
        "        print(f'Accuracy: {accuracy}')\n",
        "        print('\\n')\n",
        "        print(classification_report(y_test, y_pred))\n",
        "\n",
        "        # Построение матрицы ошибок\n",
        "\n",
        "        ConfusionMatrixDisplay.from_estimator(model, X_test, y_test)\n",
        "        plt.title('Confusion Matrix for the model')\n",
        "        plt.show()\n",
        "\n",
        "        print('\\n')\n",
        "\n",
        "# Пример использования:\n",
        "models = [logistic_regression_model, knn_model, svm_model, decision_tree_model, random_forest_model, ada_boosting_model, gradient_boosting_model]\n",
        "\n",
        "run_models(models, X_train, y_train, X_test, y_test)\n"
      ],
      "metadata": {
        "colab": {
          "base_uri": "https://localhost:8080/",
          "height": 1000
        },
        "id": "BBss72yCiuFH",
        "outputId": "353d0fec-477a-4d48-c363-f3edaed55c30"
      },
      "execution_count": null,
      "outputs": [
        {
          "output_type": "stream",
          "name": "stdout",
          "text": [
            "Evaluating model: LogisticRegressionCV\n",
            "Accuracy: 0.963855421686747\n",
            "\n",
            "\n",
            "              precision    recall  f1-score   support\n",
            "\n",
            "         0.0       0.95      0.98      0.97        43\n",
            "         1.0       0.97      0.95      0.96        40\n",
            "\n",
            "    accuracy                           0.96        83\n",
            "   macro avg       0.96      0.96      0.96        83\n",
            "weighted avg       0.96      0.96      0.96        83\n",
            "\n"
          ]
        },
        {
          "output_type": "display_data",
          "data": {
            "text/plain": [
              "<Figure size 640x480 with 2 Axes>"
            ],
            "image/png": "[encoded data removed]"
          },
          "metadata": {}
        },
        {
          "output_type": "stream",
          "name": "stdout",
          "text": [
            "\n",
            "\n",
            "Evaluating model: KNeighborsClassifier\n",
            "Accuracy: 0.9036144578313253\n",
            "\n",
            "\n",
            "              precision    recall  f1-score   support\n",
            "\n",
            "         0.0       0.86      0.98      0.91        43\n",
            "         1.0       0.97      0.82      0.89        40\n",
            "\n",
            "    accuracy                           0.90        83\n",
            "   macro avg       0.91      0.90      0.90        83\n",
            "weighted avg       0.91      0.90      0.90        83\n",
            "\n"
          ]
        },
        {
          "output_type": "display_data",
          "data": {
            "text/plain": [
              "<Figure size 640x480 with 2 Axes>"
            ],
            "image/png": "[encoded data removed]"
          },
          "metadata": {}
        },
        {
          "output_type": "stream",
          "name": "stdout",
          "text": [
            "\n",
            "\n",
            "Evaluating model: SVC\n",
            "Accuracy: 0.9397590361445783\n",
            "\n",
            "\n",
            "              precision    recall  f1-score   support\n",
            "\n",
            "         0.0       0.95      0.93      0.94        43\n",
            "         1.0       0.93      0.95      0.94        40\n",
            "\n",
            "    accuracy                           0.94        83\n",
            "   macro avg       0.94      0.94      0.94        83\n",
            "weighted avg       0.94      0.94      0.94        83\n",
            "\n"
          ]
        },
        {
          "output_type": "display_data",
          "data": {
            "text/plain": [
              "<Figure size 640x480 with 2 Axes>"
            ],
            "image/png": "[encoded data removed]"
          },
          "metadata": {}
        },
        {
          "output_type": "stream",
          "name": "stdout",
          "text": [
            "\n",
            "\n",
            "Evaluating model: DecisionTreeClassifier\n",
            "Accuracy: 0.9518072289156626\n",
            "\n",
            "\n",
            "              precision    recall  f1-score   support\n",
            "\n",
            "         0.0       0.93      0.98      0.95        43\n",
            "         1.0       0.97      0.93      0.95        40\n",
            "\n",
            "    accuracy                           0.95        83\n",
            "   macro avg       0.95      0.95      0.95        83\n",
            "weighted avg       0.95      0.95      0.95        83\n",
            "\n"
          ]
        },
        {
          "output_type": "display_data",
          "data": {
            "text/plain": [
              "<Figure size 640x480 with 2 Axes>"
            ],
            "image/png": "[encoded data removed]"
          },
          "metadata": {}
        },
        {
          "output_type": "stream",
          "name": "stdout",
          "text": [
            "\n",
            "\n",
            "Evaluating model: RandomForestClassifier\n",
            "Accuracy: 0.9759036144578314\n",
            "\n",
            "\n",
            "              precision    recall  f1-score   support\n",
            "\n",
            "         0.0       0.98      0.98      0.98        43\n",
            "         1.0       0.97      0.97      0.97        40\n",
            "\n",
            "    accuracy                           0.98        83\n",
            "   macro avg       0.98      0.98      0.98        83\n",
            "weighted avg       0.98      0.98      0.98        83\n",
            "\n"
          ]
        },
        {
          "output_type": "display_data",
          "data": {
            "text/plain": [
              "<Figure size 640x480 with 2 Axes>"
            ],
            "image/png": "[encoded data removed]"
          },
          "metadata": {}
        },
        {
          "output_type": "stream",
          "name": "stdout",
          "text": [
            "\n",
            "\n",
            "Evaluating model: AdaBoostClassifier\n",
            "Accuracy: 0.963855421686747\n",
            "\n",
            "\n",
            "              precision    recall  f1-score   support\n",
            "\n",
            "         0.0       0.93      1.00      0.97        43\n",
            "         1.0       1.00      0.93      0.96        40\n",
            "\n",
            "    accuracy                           0.96        83\n",
            "   macro avg       0.97      0.96      0.96        83\n",
            "weighted avg       0.97      0.96      0.96        83\n",
            "\n"
          ]
        },
        {
          "output_type": "display_data",
          "data": {
            "text/plain": [
              "<Figure size 640x480 with 2 Axes>"
            ],
            "image/png": "[encoded data removed]"
          },
          "metadata": {}
        },
        {
          "output_type": "stream",
          "name": "stdout",
          "text": [
            "\n",
            "\n",
            "Evaluating model: GradientBoostingClassifier\n",
            "Accuracy: 0.9879518072289156\n",
            "\n",
            "\n",
            "              precision    recall  f1-score   support\n",
            "\n",
            "         0.0       0.98      1.00      0.99        43\n",
            "         1.0       1.00      0.97      0.99        40\n",
            "\n",
            "    accuracy                           0.99        83\n",
            "   macro avg       0.99      0.99      0.99        83\n",
            "weighted avg       0.99      0.99      0.99        83\n",
            "\n"
          ]
        },
        {
          "output_type": "display_data",
          "data": {
            "text/plain": [
              "<Figure size 640x480 with 2 Axes>"
            ],
            "image/png": "[encoded data removed]"
          },
          "metadata": {}
        },
        {
          "output_type": "stream",
          "name": "stdout",
          "text": [
            "\n",
            "\n"
          ]
        }
      ]
    },
    {
      "cell_type": "markdown",
      "source": [
        "###**10. Напишем функцию для выбора наилучшей модели машинного обучения для этой задачи**"
      ],
      "metadata": {
        "id": "_D8bFqg4Xf4z"
      }
    },
    {
      "cell_type": "markdown",
      "source": [
        "**Выберем модель, которая показала наилучшие результаты. В нашем датасете классы сбалансированы, поэтому для оценки моделей можно смотреть на показатель accuracy**"
      ],
      "metadata": {
        "id": "qBYJXhJcnTR5"
      }
    },
    {
      "cell_type": "code",
      "source": [
        "#посмотрим, у какой из воделей наилучшая метрика accuracy\n",
        "def best_accuracy(models, X_train, y_train, X_test, y_test):\n",
        "    best_accuracy = 0\n",
        "    best_model_by_accuracy = None\n",
        "\n",
        "    for model in models:\n",
        "        model.fit(X_train, y_train)\n",
        "        y_pred = model.predict(X_test)\n",
        "        accuracy = accuracy_score(y_test, y_pred)\n",
        "\n",
        "        if accuracy > best_accuracy:\n",
        "            best_accuracy = accuracy\n",
        "            best_model_by_accuracy = model\n",
        "    print(f\"Best model by accuracy: {best_model_by_accuracy.__class__.__name__} with accuracy: {best_accuracy}\")\n",
        "\n",
        "\n",
        "\n",
        "models = [logistic_regression_model, knn_model, svm_model, decision_tree_model, random_forest_model, ada_boosting_model, gradient_boosting_model]\n",
        "best_accuracy(models, X_train, y_train, X_test, y_test)"
      ],
      "metadata": {
        "colab": {
          "base_uri": "https://localhost:8080/"
        },
        "outputId": "9c5d1904-d802-4382-9f6b-63cfe4c425c2",
        "id": "_rBfSsC5vzpx"
      },
      "execution_count": null,
      "outputs": [
        {
          "output_type": "stream",
          "name": "stdout",
          "text": [
            "Best model by accuracy: GradientBoostingClassifier with accuracy: 0.9879518072289156\n"
          ]
        }
      ]
    },
    {
      "cell_type": "markdown",
      "source": [
        "**Таким образом, модель gradient_boosting_model (GradientBoostingClassifier ()) с подобранными гиперпараметрами оказалась наилучшей**"
      ],
      "metadata": {
        "id": "WWFEH9lG36w9"
      }
    },
    {
      "cell_type": "markdown",
      "source": [
        "###**11. Посмотрим на лучшую модель отдельно**"
      ],
      "metadata": {
        "id": "zxYR1lucpNxq"
      }
    },
    {
      "cell_type": "code",
      "source": [
        "gradient_boosting_model.fit(X_train, y_train)\n",
        "y_pred = gradient_boosting_model.predict(X_test)\n",
        "\n",
        "# Вычисление метрик\n",
        "rmse = np.sqrt(mean_squared_error(y_test, y_pred))\n",
        "mae = mean_absolute_error(y_test, y_pred)\n",
        "accuracy = accuracy_score(y_test, y_pred)\n",
        "\n",
        "# Вывод метрик\n",
        "print('Метрики для gradient_boosting_model')\n",
        "print(f'Accuracy: {accuracy}')\n",
        "print('\\n')\n",
        "print(classification_report(y_test, y_pred))\n",
        "\n",
        "# Построение матрицы ошибок\n",
        "\n",
        "ConfusionMatrixDisplay.from_estimator(gradient_boosting_model, X_test, y_test)\n",
        "plt.title('Confusion Matrix for gradient_boosting_model')\n",
        "plt.show()"
      ],
      "metadata": {
        "colab": {
          "base_uri": "https://localhost:8080/",
          "height": 698
        },
        "id": "shNX_NB2dkN4",
        "outputId": "ec4c2c32-fa8b-4126-faf7-000b0e68109f"
      },
      "execution_count": null,
      "outputs": [
        {
          "output_type": "stream",
          "name": "stdout",
          "text": [
            "Метрики для gradient_boosting_model\n",
            "Accuracy: 0.9879518072289156\n",
            "\n",
            "\n",
            "              precision    recall  f1-score   support\n",
            "\n",
            "         0.0       0.98      1.00      0.99        43\n",
            "         1.0       1.00      0.97      0.99        40\n",
            "\n",
            "    accuracy                           0.99        83\n",
            "   macro avg       0.99      0.99      0.99        83\n",
            "weighted avg       0.99      0.99      0.99        83\n",
            "\n"
          ]
        },
        {
          "output_type": "display_data",
          "data": {
            "text/plain": [
              "<Figure size 640x480 with 2 Axes>"
            ],
            "image/png": "[encoded data removed]"
          },
          "metadata": {}
        }
      ]
    },
    {
      "cell_type": "markdown",
      "source": [
        "###**12. Проверим, нет ли переобучения у нашей модели, т.к. метрики показывают довольно высокие значения**"
      ],
      "metadata": {
        "id": "EByz3mLbzBJf"
      }
    },
    {
      "cell_type": "code",
      "source": [
        "#посморим на лучший средний результат accuracy на кросс-валидации на обучающей выборке\n",
        "best_cv_score = grid7.best_score_\n",
        "print(f'Лучший средний результат на кросс-валидации (accuracy): {best_cv_score}')"
      ],
      "metadata": {
        "colab": {
          "base_uri": "https://localhost:8080/"
        },
        "id": "_V3DUa33zFvu",
        "outputId": "18db740f-98e5-4ff6-d465-95780f54acff"
      },
      "execution_count": null,
      "outputs": [
        {
          "output_type": "stream",
          "name": "stdout",
          "text": [
            "Лучший средний результат на кросс-валидации (accuracy): 1.0\n"
          ]
        }
      ]
    },
    {
      "cell_type": "code",
      "source": [
        "#посморим на метрики accuracy и др. на тестовой выборке\n",
        "from sklearn.metrics import accuracy_score, precision_score, recall_score, f1_score\n",
        "\n",
        "y_pred_test = gradient_boosting_model.predict(X_test)\n",
        "\n",
        "\n",
        "test_accuracy = accuracy_score(y_test, y_pred_test)\n",
        "test_precision = precision_score(y_test, y_pred_test)\n",
        "test_recall = recall_score(y_test, y_pred_test)\n",
        "test_f1 = f1_score(y_test, y_pred_test)\n",
        "\n",
        "print(f'Точность (accuracy) на тестовой выборке: {test_accuracy}')\n",
        "print(f'Точность (precision) на тестовой выборке: {test_precision}')\n",
        "print(f'Полнота (recall) на тестовой выборке: {test_recall}')\n",
        "print(f'F1-метрика на тестовой выборке: {test_f1}')"
      ],
      "metadata": {
        "colab": {
          "base_uri": "https://localhost:8080/"
        },
        "id": "_3RlWQaL44Xh",
        "outputId": "832bbb3e-2694-4aaf-bcf4-64cc301892d5"
      },
      "execution_count": null,
      "outputs": [
        {
          "output_type": "stream",
          "name": "stdout",
          "text": [
            "Точность (accuracy) на тестовой выборке: 0.9879518072289156\n",
            "Точность (precision) на тестовой выборке: 1.0\n",
            "Полнота (recall) на тестовой выборке: 0.975\n",
            "F1-метрика на тестовой выборке: 0.9873417721518988\n"
          ]
        }
      ]
    },
    {
      "cell_type": "markdown",
      "source": [
        "**Интерпретация метрик и их анализ на предмет переобучения**\n",
        "\n",
        "\n",
        "Точность 1.0 на кросс-валидации говорит о том, что модель очень хорошо обучилась на данных из обучающей выборки.\n",
        "\n",
        "На тестовой выборке точность составляет 0.9879, а F1-метрика — 0.9873, что всего лишь немного ниже, чем результаты кросс-валидации.\n",
        "Precision и recall также достаточно высоки и близки к результатам на обучении. Это говорит о том, что модель не сильно потеряла в качестве на данных, которых она ранее не видела.\n",
        "\n",
        "Обычно при переобучении модель показывает существенно лучшие результаты на кросс-валидации или обучающей выборке, чем на тестовых данных.\n",
        "Здесь же расхождение метрик минимальное (разница в точности менее 1.2%), что указывает на то, что модель хорошо справляется и с новыми данными.\n",
        "\n",
        "Таким образом, переобучение, вероятно, отсутствует.\n",
        "Высокие значения всех метрик указывают на хороший подбор всех гиперпараметров и хорошее обучение модели - модель можно считать хорошо настроенной."
      ],
      "metadata": {
        "id": "LzV2YI7B5gkR"
      }
    },
    {
      "cell_type": "markdown",
      "source": [
        "###**13. Отдельно посмотрим на данные, которые модель классифицировала неверно**"
      ],
      "metadata": {
        "id": "WGqF9pKPWWKb"
      }
    },
    {
      "cell_type": "code",
      "source": [
        "#индексы ложнопредсказанных точек\n",
        "false_predictions = np.where(y_pred != y_test)[0] #получим массив индексов таких точек\n",
        "false_predictions\n",
        "#найдем строки с тамики индексами в нашем датасете\n",
        "false_row = df_total.iloc[false_predictions]\n",
        "false_row"
      ],
      "metadata": {
        "colab": {
          "base_uri": "https://localhost:8080/",
          "height": 211
        },
        "id": "hp1xFSuAO1Zy",
        "outputId": "ce05b286-2c47-46ee-faaa-4db69d823ef9"
      },
      "execution_count": null,
      "outputs": [
        {
          "output_type": "error",
          "ename": "NameError",
          "evalue": "name 'np' is not defined",
          "traceback": [
            "\u001b[0;31m---------------------------------------------------------------------------\u001b[0m",
            "\u001b[0;31mNameError\u001b[0m                                 Traceback (most recent call last)",
            "\u001b[0;32m<ipython-input-1-800488959c05>\u001b[0m in \u001b[0;36m<cell line: 2>\u001b[0;34m()\u001b[0m\n\u001b[1;32m      1\u001b[0m \u001b[0;31m#индексы ложнопредсказанных точек\u001b[0m\u001b[0;34m\u001b[0m\u001b[0;34m\u001b[0m\u001b[0m\n\u001b[0;32m----> 2\u001b[0;31m \u001b[0mfalse_predictions\u001b[0m \u001b[0;34m=\u001b[0m \u001b[0mnp\u001b[0m\u001b[0;34m.\u001b[0m\u001b[0mwhere\u001b[0m\u001b[0;34m(\u001b[0m\u001b[0my_pred\u001b[0m \u001b[0;34m!=\u001b[0m \u001b[0my_test\u001b[0m\u001b[0;34m)\u001b[0m\u001b[0;34m[\u001b[0m\u001b[0;36m0\u001b[0m\u001b[0;34m]\u001b[0m \u001b[0;31m#получим массив индексов таких точек\u001b[0m\u001b[0;34m\u001b[0m\u001b[0;34m\u001b[0m\u001b[0m\n\u001b[0m\u001b[1;32m      3\u001b[0m \u001b[0mfalse_predictions\u001b[0m\u001b[0;34m\u001b[0m\u001b[0;34m\u001b[0m\u001b[0m\n\u001b[1;32m      4\u001b[0m \u001b[0;31m#найдем строки с тамики индексами в нашем датасете\u001b[0m\u001b[0;34m\u001b[0m\u001b[0;34m\u001b[0m\u001b[0m\n\u001b[1;32m      5\u001b[0m \u001b[0mfalse_row\u001b[0m \u001b[0;34m=\u001b[0m \u001b[0mdf_total\u001b[0m\u001b[0;34m.\u001b[0m\u001b[0miloc\u001b[0m\u001b[0;34m[\u001b[0m\u001b[0mfalse_predictions\u001b[0m\u001b[0;34m]\u001b[0m\u001b[0;34m\u001b[0m\u001b[0;34m\u001b[0m\u001b[0m\n",
            "\u001b[0;31mNameError\u001b[0m: name 'np' is not defined"
          ]
        }
      ]
    },
    {
      "cell_type": "code",
      "source": [
        "#проверим, есть ли вообще в колонках ненулевые значения\n",
        "false_row.sum(axis=1)\n",
        "1.50853"
      ],
      "metadata": {
        "id": "fUKXLPn3WkJx"
      },
      "execution_count": null,
      "outputs": []
    },
    {
      "cell_type": "code",
      "source": [
        "#посотрим, это значение одного признака или сумма значений нескольких признаков\n",
        "df_total.columns[false_row.isin([1.50853]).any()]"
      ],
      "metadata": {
        "colab": {
          "base_uri": "https://localhost:8080/"
        },
        "id": "a5pEZ1zDRTkC",
        "outputId": "319dd80e-673b-4d32-ab6e-d9ae863728c5"
      },
      "execution_count": null,
      "outputs": [
        {
          "output_type": "execute_result",
          "data": {
            "text/plain": [
              "Index(['Fusobacterium_nucleatum'], dtype='object')"
            ]
          },
          "metadata": {},
          "execution_count": 72
        }
      ]
    },
    {
      "cell_type": "markdown",
      "source": [
        "**Почему данный образец был ошибочно классифицирован?** Как мы видим, данная строка содержит числовые значения всего одного признака из 131, что дает слишком мало информации об исследуемом образце для корректной работы модели."
      ],
      "metadata": {
        "id": "PHINv346SoH8"
      }
    },
    {
      "cell_type": "markdown",
      "source": [
        "###**14. Сохраним нашу модель**"
      ],
      "metadata": {
        "id": "AnWHklDWbgn8"
      }
    },
    {
      "cell_type": "code",
      "source": [
        "gastr_or_healthy_classification_model = gradient_boosting_model"
      ],
      "metadata": {
        "id": "jWS6RjeRbi9C"
      },
      "execution_count": null,
      "outputs": []
    },
    {
      "cell_type": "code",
      "source": [
        "#сохранение модели\n",
        "\n",
        "from joblib import dump, load\n",
        "\n",
        "dump(gastr_or_healthy_classification_model, '/content/drive/MyDrive/данные для петпроджекта/gastr_or_healthy_classification_model.joblib')\n"
      ],
      "metadata": {
        "id": "mWQDFTqXbjAD",
        "colab": {
          "base_uri": "https://localhost:8080/"
        },
        "outputId": "3122afcb-9eb1-40a9-c053-056f606749de"
      },
      "execution_count": null,
      "outputs": [
        {
          "output_type": "execute_result",
          "data": {
            "text/plain": [
              "['/content/drive/MyDrive/данные для петпроджекта/gastr_or_healthy_classification_model.joblib']"
            ]
          },
          "metadata": {},
          "execution_count": 13
        }
      ]
    },
    {
      "cell_type": "markdown",
      "source": [
        "###**15. Определим, какие виды бактерий больше всего влияют на результат классификации и на основе этой информации создадим шаблон для загрузки новых данных в нашу модель**"
      ],
      "metadata": {
        "id": "htV2h91cYX1Z"
      }
    },
    {
      "cell_type": "code",
      "source": [
        "#посмотрим корреляцию признаков и отклика (какие признаки больше других влияют на отклик)\n",
        "\n",
        "corr_ser = np.abs(df_total.corr()['Index']).sort_values(ascending=False).drop('Index')\n",
        "corr_ser = pd.DataFrame(corr_ser)\n",
        "col_names = corr_ser.index.tolist()\n",
        "col_names"
      ],
      "metadata": {
        "colab": {
          "base_uri": "https://localhost:8080/"
        },
        "outputId": "6476b8cc-3dff-4ef3-d0d3-999c4fb8ce75",
        "id": "_IiKlVuyARdo"
      },
      "execution_count": null,
      "outputs": [
        {
          "output_type": "execute_result",
          "data": {
            "text/plain": [
              "['Faecalibacterium_prausnitzii',\n",
              " 'Bacteroides_vulgatus',\n",
              " 'Bacteroides_dorei/vulgatus',\n",
              " 'Phascolarctobacterium_faecium',\n",
              " 'Parabacteroides_merdae',\n",
              " 'Lachnospira_pectinoschiza',\n",
              " 'Bacteroides_uniformis',\n",
              " 'Collinsella_aerofaciens',\n",
              " 'Faecalibacterium_cf./prausnitzii',\n",
              " 'Alistipes_putredinis',\n",
              " 'Alistipes_finegoldii/onderdonkii',\n",
              " 'Akkermansia_muciniphila',\n",
              " 'Erysipelotrichaceae_UCG-003_bacterium',\n",
              " 'Desulfovibrio_piger',\n",
              " 'Bifidobacterium_adolescentis/faecale/stercoris',\n",
              " 'Bacteroides_caccae',\n",
              " 'Parasutterella_excrementihominis',\n",
              " 'Bifidobacterium_longum',\n",
              " 'Sutterella_wadsworthensis',\n",
              " 'Prevotella_copri',\n",
              " 'Dialister_invisus',\n",
              " 'Bacteroides_cellulosilyticus/intestinalis',\n",
              " 'Bacteroides_fragilis',\n",
              " 'Bacteroides_massiliensis',\n",
              " 'Lachnospiraceae_NK4A136_group_bacterium',\n",
              " 'Bacteroides_fragilis/ovatus',\n",
              " 'Fusobacterium_nucleatum',\n",
              " 'Escherichia/Shigella_albertii/boydii/coli/dysenteriae/fergusonii/flexneri/marmotae/sonnei',\n",
              " 'Alistipes_inops',\n",
              " 'Parabacteroides_distasonis',\n",
              " 'Fusicatenibacter_saccharivorans',\n",
              " 'Bacteroides_fragilis/xylanisolvens',\n",
              " 'Roseburia_intestinalis',\n",
              " 'Bifidobacterium_catenulatum/kashiwanohense/pseudocatenulatum',\n",
              " 'Ruminococcus_bromii',\n",
              " 'Bacteroides_plebeius',\n",
              " 'Bacteroides_stercoris',\n",
              " 'Roseburia_inulinivorans',\n",
              " 'Ruminococcus_bicirculans',\n",
              " 'Bacteroides_finegoldii',\n",
              " 'Bacteroides_thetaiotaomicron/xylanisolvens',\n",
              " 'Bacteroides_coprocola',\n",
              " 'Coprococcus_comes',\n",
              " 'Barnesiella_intestinihominis',\n",
              " 'Odoribacter_splanchnicus',\n",
              " 'Dorea_longicatena',\n",
              " 'Bifidobacterium_adolescentis/faecale/ruminantium/stercoris',\n",
              " 'Blautia_obeum/wexlerae',\n",
              " 'Alistipes_shahii',\n",
              " 'Bacteroides_clarus',\n",
              " 'Coprococcus_eutactus',\n",
              " 'Parabacteroides_johnsonii',\n",
              " 'Phascolarctobacterium_succinatutens',\n",
              " 'Lactobacillus_ruminis',\n",
              " 'Bacteroides_eggerthii',\n",
              " 'Slackia_isoflavoniconvertens',\n",
              " 'Bilophila_wadsworthia',\n",
              " 'Bacteroides_ovatus/xylanisolvens',\n",
              " 'Alistipes_finegoldii',\n",
              " 'Bacteroides_fragilis/koreensis/kribbi/ovatus',\n",
              " 'Bacteroides_fragilis/ovatus/xylanisolvens',\n",
              " 'Flavonifractor_plautii',\n",
              " 'Escherichia/Shigella_coli',\n",
              " 'Bacteroides_dorei/fragilis',\n",
              " 'Streptococcus_lutetiensis/salivarius/thermophilus',\n",
              " 'Bacteroides_thetaiotaomicron',\n",
              " 'Klebsiella_aerogenes/oxytoca/pneumoniae/quasivariicola/variicola',\n",
              " 'Dialister_succinatiphilus',\n",
              " 'Erysipelatoclostridium_ramosum',\n",
              " 'Dorea_formicigenerans',\n",
              " 'Blautia_faecis',\n",
              " 'Bacteroides_salyersiae',\n",
              " 'Alistipes_massiliensis',\n",
              " 'Alistipes_obesi',\n",
              " 'Blautia_faecis/glucerasea/phocaeensis',\n",
              " 'Ruminococcus_champanellensis',\n",
              " 'Veillonella_dispar/parvula',\n",
              " 'Blautia_obeum',\n",
              " 'Roseburia_faecis',\n",
              " 'Anaerostipes_hadrus',\n",
              " 'Roseburia_hominis',\n",
              " 'Alistipes_ihumii',\n",
              " 'Klebsiella spp.',\n",
              " 'Holdemanella_biformis',\n",
              " 'Coprobacter_fastidiosus',\n",
              " 'Lachnoclostridium_urinimassiliense',\n",
              " 'Bacteroides_faecis/thetaiotaomicron',\n",
              " 'Megasphaera_elsdenii',\n",
              " 'Megamonas_funiformis',\n",
              " 'Parasutterella_secunda',\n",
              " 'Bacteroides_intestinalis',\n",
              " 'Haemophilus_influenzae/parainfluenzae',\n",
              " 'Blautia_coccoides/hansenii/marasmi/producta',\n",
              " 'Lactobacillus_brevis/casei/delbrueckii/paracasei/rhamnosus',\n",
              " 'Mitsuokella_jalaludinii',\n",
              " 'Actinomyces_turicensis',\n",
              " 'Negativibacillus_massiliensis',\n",
              " 'Lactobacillus_phage/plantarum/reuteri/salivarius',\n",
              " 'Enterococcus_azikeevi/casseliflavus/durans/faecalis/faecium/hirae/lactis/mundtii/raffinosus/ratti/rivorum/thailandicus/villorum',\n",
              " 'Bacteroides_dorei',\n",
              " 'Streptococcus_alactolyticus/equinus/gallolyticus/macedonicus/pasteuri/pasteurianus',\n",
              " 'Lactobacillus_fermentum/gasseri/reuteri/vaginalis',\n",
              " 'Lactobacillus_crispatus/gasseri/helveticus/johnsonii/kefiranofaciens/paragasseri',\n",
              " 'Bacteroides_rodentium',\n",
              " 'Butyricimonas_virosa',\n",
              " 'Blautia_massiliensis',\n",
              " 'Alistipes_indistinctus',\n",
              " 'Bacteroides_barnesiae',\n",
              " 'Cloacibacillus_evryensis',\n",
              " 'Parabacteroides_goldsteinii',\n",
              " 'Streptococcus_mitis/parasanguinis',\n",
              " 'Eggerthella_lenta',\n",
              " 'Bifidobacterium_pullorum/saeculare/subtile',\n",
              " 'Eisenbergiella_massiliensis',\n",
              " 'Streptococcus_anginosus/milleri/mitis',\n",
              " 'Monoglobus_pectinilyticus',\n",
              " 'Acidaminococcus_intestini',\n",
              " 'Clostridium_sensu_stricto_1_perfringens/thermophilus',\n",
              " 'Lactococcus_formosensis/garvieae/lactis',\n",
              " 'Bacteroides_coprophilus',\n",
              " 'Intestinibacter_bartlettii',\n",
              " 'Fusobacterium_ulcerans/varium',\n",
              " 'Weissella_cibaria/confusa/koreensis/minor',\n",
              " 'Catenibacterium_mitsuokai',\n",
              " 'Prevotella_timonensis',\n",
              " 'Romboutsia_ilealis/timonensis',\n",
              " 'Porphyromonas_asaccharolytica',\n",
              " 'Bacteroides_ovatus',\n",
              " 'Bifidobacterium_dentium']"
            ]
          },
          "metadata": {},
          "execution_count": 15
        }
      ]
    },
    {
      "cell_type": "code",
      "source": [
        "#создаем шаблон датафрейма, в самом начале которого располагаются самые важные поля для заполнения (они больше всего влияют на результат)\n",
        "new_data = pd.DataFrame()\n",
        "for i in col_names:\n",
        "  new_data1 = pd.DataFrame(({i: [ ]}))\n",
        "  new_data = pd.concat([new_data, new_data1], axis=1)\n",
        "new_data\n",
        "\n",
        "#сохраним датафрейм\n",
        "new_data.to_excel('/content/drive/MyDrive/данные для петпроджекта/шаблон для загрузки новых данных.xlsx')\n"
      ],
      "metadata": {
        "id": "bhjTqyFzAa08"
      },
      "execution_count": null,
      "outputs": []
    }
  ]
}