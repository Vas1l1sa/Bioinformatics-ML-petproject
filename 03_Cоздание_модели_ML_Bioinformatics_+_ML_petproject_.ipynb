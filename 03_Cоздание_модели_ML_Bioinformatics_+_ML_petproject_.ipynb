{
  "cells": [
    {
      "cell_type": "markdown",
      "metadata": {
        "id": "view-in-github",
        "colab_type": "text"
      },
      "source": [
        "<a href=\"https://colab.research.google.com/github/Vas1l1sa/Bioinformatics-ML-petproject/blob/main/04_C%D0%BE%D0%B7%D0%B4%D0%B0%D0%BD%D0%B8%D0%B5_%D0%BC%D0%BE%D0%B4%D0%B5%D0%BB%D0%B8_ML_Bioinformatics_%2B_ML_petproject_.ipynb\" target=\"_parent\"><img src=\"https://colab.research.google.com/assets/colab-badge.svg\" alt=\"Open In Colab\"/></a>"
      ]
    },
    {
      "cell_type": "code",
      "execution_count": 1,
      "metadata": {
        "id": "7U_AdtPkG4qQ"
      },
      "outputs": [],
      "source": [
        "import pandas as pd\n",
        "import numpy as np\n",
        "import seaborn as sns\n",
        "import matplotlib.pyplot as plt\n",
        "import sklearn\n"
      ]
    },
    {
      "cell_type": "code",
      "execution_count": 2,
      "metadata": {
        "id": "65TyiRakXmSn"
      },
      "outputs": [],
      "source": [
        "import warnings\n",
        "warnings.filterwarnings(\"ignore\", category=FutureWarning)\n",
        "warnings.filterwarnings(\"ignore\", category=RuntimeWarning)\n",
        "\n",
        "from sklearn.exceptions import FitFailedWarning\n",
        "warnings.simplefilter(\"ignore\", FitFailedWarning)\n"
      ]
    },
    {
      "cell_type": "markdown",
      "metadata": {
        "id": "emnANW3VUTbb"
      },
      "source": [
        "### Как разделить здоровых людей и людей с гастритом на основании различий в их микробиоте кишечника?\n",
        "\n"
      ]
    },
    {
      "cell_type": "markdown",
      "metadata": {
        "id": "5t25ldFwJDoZ"
      },
      "source": [
        "**Будем осуществлять supervised learning для задачи классификации с использованием следующих моделей машинного обучения:**\n",
        "\n",
        "**1.   Логистическая регрессия**\n",
        "\n",
        "**2.   KNN**\n",
        "\n",
        "**3.   SVM**\n",
        "\n",
        "**4.   Базовые деревья решений**\n",
        "\n",
        "**5.   Random forests**\n",
        "\n",
        "**6.   Boosting и AdaBoosting**\n",
        "\n",
        "**7.   Градиентный бустинг**\n",
        "\n",
        "\n",
        "\n",
        "\n"
      ]
    },
    {
      "cell_type": "markdown",
      "metadata": {
        "id": "LEY2qqpptFKO"
      },
      "source": [
        "###**1. Общая подготовка данных перед машинным обучением**"
      ]
    },
    {
      "cell_type": "code",
      "execution_count": 3,
      "metadata": {
        "id": "GuPRbdwipc0a"
      },
      "outputs": [],
      "source": [
        "#загрузим полученный ранее датасет\n",
        "df_total = pd.read_csv('/content/drive/MyDrive/данные для петпроджекта/df_total.csv')\n",
        "df_total = df_total.drop(['not_null_sum'], axis=1)\n"
      ]
    },
    {
      "cell_type": "code",
      "execution_count": 4,
      "metadata": {
        "colab": {
          "base_uri": "https://localhost:8080/"
        },
        "id": "4eTn6nWKx0Qn",
        "outputId": "c4596339-d014-46e0-b69e-b35735a3febf"
      },
      "outputs": [
        {
          "output_type": "execute_result",
          "data": {
            "text/plain": [
              "274"
            ]
          },
          "metadata": {},
          "execution_count": 4
        }
      ],
      "source": [
        "len(df_total)"
      ]
    },
    {
      "cell_type": "code",
      "execution_count": 5,
      "metadata": {
        "id": "zCBOg6rPqoLN"
      },
      "outputs": [],
      "source": [
        "#разделим данные на признаки и отклик\n",
        "\n",
        "X = df_total.drop(['Index'], axis=1)\n",
        "y = df_total['Index']\n"
      ]
    },
    {
      "cell_type": "markdown",
      "metadata": {
        "id": "bMYjVLd9wv00"
      },
      "source": [
        "**В данной задаче нормировка признаков не требуется, т.к. все данные в датасете - процентное содержание того или иного вида в образце, т.е. по сути они уже отнормированы**"
      ]
    },
    {
      "cell_type": "markdown",
      "metadata": {
        "id": "zTiWOfQixNw0"
      },
      "source": [
        "**Ввиду того, что датасет получился довольно маленьким, сделаем разбивку данных только на обучающую и тестовую выборки (без hold-out test set).**\n",
        "\n",
        "**Для подбора оптимальных гиперпараметров будем применять кросс-валидацию (GridSearchCV) для тестовой выборки, т.к. от изменения разбивки данных результаты ошибок тоже будут меняться.**"
      ]
    },
    {
      "cell_type": "code",
      "execution_count": 6,
      "metadata": {
        "id": "DEakQV_vrgEB"
      },
      "outputs": [],
      "source": [
        "#разделим данные на тренировочную и тестовую выборки\n",
        "\n",
        "from sklearn.model_selection import train_test_split\n",
        "\n",
        "X_train, X_test, y_train, y_test = train_test_split(X, y, test_size=0.3, random_state=42)\n"
      ]
    },
    {
      "cell_type": "markdown",
      "metadata": {
        "id": "Sja6I-hrp3GA"
      },
      "source": [
        "###**2. Создание модели бинарной классификации на основе алгоритма логистической регрессии**\n"
      ]
    },
    {
      "cell_type": "code",
      "execution_count": 7,
      "metadata": {
        "id": "AlukpuXbDuUF"
      },
      "outputs": [],
      "source": [
        "#создадим модель логистической регрессии и подберем оптимальные гиперпараметры при помощи поиска по сетке и кросс-валидации\n",
        "\n",
        "from sklearn.linear_model import LogisticRegression\n",
        "test_model1 = LogisticRegression(random_state=42, max_iter=50000) #устанавливаем параметр random_state, чтобы при нескольких запусках GridSearchCV со скорректированным списком гиперпараметров результаты получались уточненными, а не совершенно новыми\n"
      ]
    },
    {
      "cell_type": "code",
      "execution_count": 8,
      "metadata": {
        "id": "rrKu9dMy57oX"
      },
      "outputs": [],
      "source": [
        "#посмотрим информацию по гиперпараметрам этого алгоритма и на основании нее составим словарь param_grid\n",
        "#help(LogisticRegression())"
      ]
    },
    {
      "cell_type": "code",
      "execution_count": 9,
      "metadata": {
        "id": "bwtp_NHTvQr_",
        "colab": {
          "base_uri": "https://localhost:8080/"
        },
        "outputId": "2b72af59-72c7-4b82-b64c-d4465178c753"
      },
      "outputs": [
        {
          "output_type": "execute_result",
          "data": {
            "text/plain": [
              "{'C': 0.05, 'dual': True, 'solver': 'liblinear'}"
            ]
          },
          "metadata": {},
          "execution_count": 9
        }
      ],
      "source": [
        "#сделаем поиск по сетке для нахождения оптимальных гиперпараметров\n",
        "\n",
        "from sklearn.model_selection import GridSearchCV\n",
        "param_grid1 = [\n",
        "    {'C': [0.01, 0.05, 0.06, 0.07, 0.075, 0.078, 0.079, 0.08, 0.081, 0.082, 0.085, 0.09, 0.1, 0.12, 0.15, 0.2, 0.3, 0.4, 0.5, 0.6, 0.7, 0.8, 0.9, 1, 1.2, 1.5, 1.7, 1.9, 2, 3, 5, 7, 10, 12, 15], 'solver': ['lbfgs', 'newton-cg', 'sag', 'saga'], 'dual': [False]},\n",
        "    {'C': [0.01, 0.05, 0.06, 0.07, 0.075, 0.078, 0.079, 0.08, 0.081, 0.082, 0.085, 0.09, 0.1, 0.12, 0.15, 0.2, 0.3, 0.4, 0.5, 0.6, 0.7, 0.8, 0.9, 1, 1.2, 1.5, 1.7, 1.9, 2, 3, 5, 7, 10, 12, 15], 'solver': ['liblinear'], 'dual': [True, False]},\n",
        "]\n",
        "#разбила param_grid1 на 2 части, чтобы не выпадали ошибки при переборе некоторых комбинаций solver и dual\n",
        "grid1 = GridSearchCV(test_model1, param_grid1, cv = 5, scoring='accuracy', error_score=np.nan)\n",
        "\n",
        "grid1.fit(X_train, y_train)\n",
        "grid1.best_params_\n",
        "#старые гиперпараметры от LogisticRegressionCV - {'Cs': 2, 'dual': False, 'solver': 'lbfgs'}\n",
        "#{'C': 0.08, 'dual': False, 'solver': 'saga'}"
      ]
    },
    {
      "cell_type": "code",
      "execution_count": 10,
      "metadata": {
        "id": "k6FPnM1QETBW",
        "colab": {
          "base_uri": "https://localhost:8080/"
        },
        "outputId": "33a90618-e46c-4e74-a0f2-0a76a1ed9349"
      },
      "outputs": [
        {
          "output_type": "execute_result",
          "data": {
            "text/plain": [
              "array([0., 1., 1., 0., 1., 1., 1., 1., 1., 0., 1., 1., 1., 1., 1., 1., 1.,\n",
              "       0., 0., 1., 0., 0., 1., 1., 1., 1., 0., 0., 0., 0., 0., 0., 0., 0.,\n",
              "       0., 1., 1., 1., 0., 0., 0., 0., 0., 0., 0., 1., 0., 1., 0., 1., 0.,\n",
              "       1., 1., 0., 1., 0., 1., 0., 0., 1., 1., 0., 0., 0., 0., 1., 1., 0.,\n",
              "       1., 0., 0., 1., 1., 1., 0., 1., 1., 0., 1., 0., 0., 0., 1.])"
            ]
          },
          "metadata": {},
          "execution_count": 10
        }
      ],
      "source": [
        "#создадим модель с найденными оптимальными гиперпараметрами\n",
        "logistic_regression_model = LogisticRegression(C = 0.05, dual=True, solver='liblinear')\n",
        "logistic_regression_model.fit(X_train, y_train)\n",
        "y_pred1 = logistic_regression_model.predict(X_test)\n",
        "y_pred1"
      ]
    },
    {
      "cell_type": "markdown",
      "metadata": {
        "id": "5Mxx_lJtuMx3"
      },
      "source": [
        "###**3. Создание модели бинарной классификации на основе алгоритма KNN**"
      ]
    },
    {
      "cell_type": "code",
      "execution_count": 11,
      "metadata": {
        "id": "7QT14qk5uuW5"
      },
      "outputs": [],
      "source": [
        "#создадим модель логистической регрессии и подберем оптимальные гиперпараметры при помощи поиска по сетке и кросс-валидации\n",
        "from sklearn.neighbors import KNeighborsClassifier\n",
        "test_model2 = KNeighborsClassifier()"
      ]
    },
    {
      "cell_type": "code",
      "execution_count": 12,
      "metadata": {
        "id": "qh67S_I5uudr"
      },
      "outputs": [],
      "source": [
        "#help(KNeighborsClassifier)"
      ]
    },
    {
      "cell_type": "code",
      "execution_count": 13,
      "metadata": {
        "id": "YMaP2J4nuua8",
        "colab": {
          "base_uri": "https://localhost:8080/"
        },
        "outputId": "f89993e9-85cd-4981-cd0a-1888cf70d05f"
      },
      "outputs": [
        {
          "output_type": "execute_result",
          "data": {
            "text/plain": [
              "{'n_neighbors': 1}"
            ]
          },
          "metadata": {},
          "execution_count": 13
        }
      ],
      "source": [
        "#сделаем поиск по сетке для нахождения оптимальных гиперпараметров\n",
        "from sklearn.model_selection import GridSearchCV\n",
        "\n",
        "param_grid2 = {'n_neighbors': list(range(1,20))}\n",
        "\n",
        "grid2 = GridSearchCV(test_model2, param_grid2, cv=5, scoring='accuracy')\n",
        "grid2.fit(X_train, y_train)\n",
        "grid2.best_params_\n",
        "#{'n_neighbors': 1}"
      ]
    },
    {
      "cell_type": "code",
      "execution_count": 14,
      "metadata": {
        "id": "D0qXSh85xgKt",
        "colab": {
          "base_uri": "https://localhost:8080/"
        },
        "outputId": "8d74fd09-0b24-4e94-ad32-3bcbf66b349f"
      },
      "outputs": [
        {
          "output_type": "execute_result",
          "data": {
            "text/plain": [
              "array([0., 1., 0., 0., 0., 1., 0., 1., 0., 0., 1., 1., 1., 1., 1., 1., 1.,\n",
              "       0., 0., 0., 0., 0., 1., 0., 1., 1., 0., 0., 0., 0., 0., 0., 0., 0.,\n",
              "       0., 1., 1., 1., 0., 0., 0., 0., 0., 0., 0., 1., 0., 1., 0., 1., 0.,\n",
              "       1., 1., 0., 1., 0., 1., 0., 0., 1., 1., 0., 0., 0., 0., 1., 1., 0.,\n",
              "       1., 0., 0., 1., 1., 1., 0., 1., 1., 0., 1., 0., 0., 0., 0.])"
            ]
          },
          "metadata": {},
          "execution_count": 14
        }
      ],
      "source": [
        "#создадим модель с найденными оптимальными гиперпараметрами\n",
        "knn_model = KNeighborsClassifier(n_neighbors=1)\n",
        "knn_model.fit(X_train, y_train)\n",
        "y_pred2 = knn_model.predict(X_test)\n",
        "y_pred2"
      ]
    },
    {
      "cell_type": "markdown",
      "metadata": {
        "id": "qoiHqeCnx91b"
      },
      "source": [
        "###**4. Создание модели бинарной классификации на основе алгоритма SVM**"
      ]
    },
    {
      "cell_type": "code",
      "execution_count": 15,
      "metadata": {
        "id": "Lor1apF0uugw"
      },
      "outputs": [],
      "source": [
        "#создадим модель логистической регрессии и подберем оптимальные гиперпараметры при помощи поиска по сетке и кросс-валидации\n",
        "from sklearn.svm import SVC\n",
        "test_model3 = SVC()\n",
        "\n"
      ]
    },
    {
      "cell_type": "code",
      "execution_count": 16,
      "metadata": {
        "id": "sMwEIjSZy2PX"
      },
      "outputs": [],
      "source": [
        "#help(SVC)"
      ]
    },
    {
      "cell_type": "code",
      "execution_count": 17,
      "metadata": {
        "id": "H3bOTKduyoV_",
        "colab": {
          "base_uri": "https://localhost:8080/"
        },
        "outputId": "db63e92e-4fce-48d0-c4c3-c09272761851"
      },
      "outputs": [
        {
          "output_type": "execute_result",
          "data": {
            "text/plain": [
              "{'C': 1.465, 'kernel': 'sigmoid'}"
            ]
          },
          "metadata": {},
          "execution_count": 17
        }
      ],
      "source": [
        "#сделаем поиск по сетке для нахождения оптимальных гиперпараметров\n",
        "from sklearn.model_selection import GridSearchCV\n",
        "\n",
        "param_grid3 = {'kernel': ['linear', 'poly', 'rbf', 'sigmoid'], 'C': [0.01, 0.1, 1, 1.2, 1.4, 1.45, 1.46, 1.465, 1.47, 1.475, 1.48, 1.5, 1.52, 1.55, 1.7, 2, 5, 10, 15, 20, 25, 30]}\n",
        "\n",
        "grid3 = GridSearchCV(test_model3, cv=5, param_grid = param_grid3, scoring='accuracy')\n",
        "grid3.fit(X_train, y_train)\n",
        "grid3.best_params_\n",
        "#когда мы получили какое-то предварительно хорошее значение 'C', потом обязательно добавляем в список для перебора ближайшие к этому числу значения и запускаем повторный поиск по сетке\n",
        "#{'C': 0.01, 'kernel': 'linear'}"
      ]
    },
    {
      "cell_type": "code",
      "execution_count": 18,
      "metadata": {
        "id": "-1QWjPfw2__R",
        "colab": {
          "base_uri": "https://localhost:8080/"
        },
        "outputId": "bc3a1fc3-de5c-4fac-8685-2e8fa68101b9"
      },
      "outputs": [
        {
          "output_type": "execute_result",
          "data": {
            "text/plain": [
              "array([0., 1., 1., 0., 1., 1., 1., 1., 0., 1., 1., 1., 1., 1., 1., 1., 1.,\n",
              "       0., 0., 1., 0., 0., 1., 1., 1., 1., 0., 0., 0., 0., 0., 0., 0., 0.,\n",
              "       0., 1., 1., 1., 0., 0., 0., 0., 0., 0., 0., 1., 0., 1., 0., 1., 0.,\n",
              "       1., 1., 0., 1., 0., 1., 0., 0., 1., 1., 0., 0., 0., 0., 1., 1., 0.,\n",
              "       1., 0., 0., 1., 1., 1., 0., 1., 1., 0., 1., 0., 0., 0., 1.])"
            ]
          },
          "metadata": {},
          "execution_count": 18
        }
      ],
      "source": [
        "#создадим модель с найденными оптимальными гиперпараметрами\n",
        "svm_model = SVC(C=1.465, kernel='sigmoid')\n",
        "svm_model.fit(X_train, y_train)\n",
        "y_pred3 = svm_model.predict(X_test)\n",
        "y_pred3"
      ]
    },
    {
      "cell_type": "markdown",
      "metadata": {
        "id": "9Zypps6GmYM1"
      },
      "source": [
        "###**5. Создание модели бинарной классификации на основе алгоритма базовых деревьев решений**"
      ]
    },
    {
      "cell_type": "code",
      "execution_count": 19,
      "metadata": {
        "id": "ieH8PqcJpA1o"
      },
      "outputs": [],
      "source": [
        "#создадим модель логистической регрессии и подберем оптимальные гиперпараметры при помощи поиска по сетке и кросс-валидации\n",
        "from sklearn.tree import DecisionTreeClassifier\n",
        "test_model4 = DecisionTreeClassifier(random_state=42) #устанавливаем параметр random_state, чтобы при нескольких запусках GridSearchCV со скорректированным списком гиперпараметров результаты получались уточненными, а не совершенно новыми\n"
      ]
    },
    {
      "cell_type": "code",
      "execution_count": 20,
      "metadata": {
        "id": "XMl1OTLppseX"
      },
      "outputs": [],
      "source": [
        "#help(DecisionTreeClassifier())"
      ]
    },
    {
      "cell_type": "code",
      "execution_count": 21,
      "metadata": {
        "id": "G5lTe_q5pshH",
        "colab": {
          "base_uri": "https://localhost:8080/"
        },
        "outputId": "e7058015-5921-462b-bef8-7a9f91006dc4"
      },
      "outputs": [
        {
          "output_type": "execute_result",
          "data": {
            "text/plain": [
              "{'criterion': 'gini', 'max_depth': 2}"
            ]
          },
          "metadata": {},
          "execution_count": 21
        }
      ],
      "source": [
        "#сделаем поиск по сетке для нахождения оптимальных гиперпараметров\n",
        "from sklearn.model_selection import GridSearchCV\n",
        "param_grid4 = {'max_depth': [1, 2, 3, 4, 5, 6, 7, 8, 9, 10], 'criterion': [\"gini\", \"entropy\", \"log_loss\"]}\n",
        "grid4 = GridSearchCV(test_model4, param_grid4, cv=5, scoring='accuracy')\n",
        "grid4.fit(X_train, y_train)\n",
        "grid4.best_params_\n",
        "#{'criterion': 'entropy', 'max_depth': 3}"
      ]
    },
    {
      "cell_type": "code",
      "execution_count": 22,
      "metadata": {
        "id": "FEaNLvAhrgRZ",
        "colab": {
          "base_uri": "https://localhost:8080/"
        },
        "outputId": "82358b6a-f8e7-48d8-e035-d0b8096adde2"
      },
      "outputs": [
        {
          "output_type": "execute_result",
          "data": {
            "text/plain": [
              "array([0., 1., 1., 0., 1., 1., 1., 1., 1., 0., 1., 1., 1., 0., 1., 1., 1.,\n",
              "       0., 0., 1., 0., 1., 1., 1., 1., 1., 0., 0., 0., 0., 0., 0., 0., 0.,\n",
              "       0., 1., 1., 1., 0., 0., 0., 0., 0., 0., 0., 1., 0., 1., 0., 1., 0.,\n",
              "       1., 1., 0., 1., 0., 1., 0., 0., 1., 1., 0., 0., 0., 0., 0., 1., 0.,\n",
              "       1., 0., 0., 1., 1., 1., 0., 1., 1., 0., 0., 0., 0., 0., 1.])"
            ]
          },
          "metadata": {},
          "execution_count": 22
        }
      ],
      "source": [
        "#создадим модель с найденными оптимальными гиперпараметрами\n",
        "decision_tree_model = DecisionTreeClassifier(criterion='gini', max_depth=2)\n",
        "decision_tree_model.fit(X_train, y_train)\n",
        "y_pred4 = decision_tree_model.predict(X_test)\n",
        "y_pred4"
      ]
    },
    {
      "cell_type": "markdown",
      "metadata": {
        "id": "XQLmNLt8mxb8"
      },
      "source": [
        "###**6. Создание модели бинарной классификации на основе алгоритма Random forests**"
      ]
    },
    {
      "cell_type": "code",
      "execution_count": 23,
      "metadata": {
        "id": "3zmY7rEcpi-_"
      },
      "outputs": [],
      "source": [
        "#создадим модель логистической регрессии и подберем оптимальные гиперпараметры при помощи поиска по сетке и кросс-валидации\n",
        "from sklearn.ensemble import RandomForestClassifier\n",
        "test_model5 = RandomForestClassifier(random_state=42) #устанавливаем параметр random_state, чтобы при нескольких запусках GridSearchCV со скорректированным списком гиперпараметров результаты получались уточненными, а не совершенно новыми"
      ]
    },
    {
      "cell_type": "code",
      "execution_count": 24,
      "metadata": {
        "id": "_c1bjiClHlC1"
      },
      "outputs": [],
      "source": [
        "#help(RandomForestClassifier())"
      ]
    },
    {
      "cell_type": "code",
      "execution_count": 25,
      "metadata": {
        "id": "K47f1tilu6Ia",
        "colab": {
          "base_uri": "https://localhost:8080/"
        },
        "outputId": "cfdaac73-4717-42a9-fa1f-af1e4c98d6a2"
      },
      "outputs": [
        {
          "output_type": "execute_result",
          "data": {
            "text/plain": [
              "{'max_features': 'sqrt', 'n_estimators': 8}"
            ]
          },
          "metadata": {},
          "execution_count": 25
        }
      ],
      "source": [
        "#сделаем поиск по сетке для нахождения оптимальных гиперпараметров\n",
        "from sklearn.model_selection import GridSearchCV\n",
        "param_grid5 = {'n_estimators': [5, 6, 7, 8, 9, 10, 12, 15, 20, 30, 40, 45, 50, 55, 60, 65, 70, 75, 80, 90, 100, 120, 140, 200, 300, 400, 500], 'max_features': ['sqrt', 'log2']}\n",
        "grid5 = GridSearchCV(test_model5, param_grid5, cv=5, scoring='accuracy', error_score=np.nan)\n",
        "grid5.fit(X_train, y_train)\n",
        "grid5.best_params_\n",
        "#когда мы получили какое-то предварительно хорошее значение 'n_estimators', потом обязательно добавляем в список для перебора ближайшие к этому числу значения и запускаем повторный поиск по сетке\n",
        "#{'max_features': 'sqrt', 'n_estimators': 10}\n"
      ]
    },
    {
      "cell_type": "code",
      "execution_count": 26,
      "metadata": {
        "id": "n6Hj22hNvrMy",
        "colab": {
          "base_uri": "https://localhost:8080/"
        },
        "outputId": "67a0c302-7643-45c2-c050-a4cc9ebcae01"
      },
      "outputs": [
        {
          "output_type": "execute_result",
          "data": {
            "text/plain": [
              "array([0., 1., 1., 0., 1., 1., 1., 1., 1., 0., 1., 1., 1., 1., 1., 1., 1.,\n",
              "       0., 0., 1., 0., 0., 1., 0., 1., 1., 0., 0., 0., 0., 0., 0., 0., 0.,\n",
              "       0., 1., 1., 1., 0., 0., 0., 0., 0., 0., 0., 0., 0., 1., 0., 1., 0.,\n",
              "       1., 1., 0., 1., 0., 1., 0., 0., 1., 1., 0., 0., 0., 0., 0., 1., 0.,\n",
              "       1., 0., 0., 1., 1., 1., 0., 1., 1., 0., 1., 0., 0., 0., 1.])"
            ]
          },
          "metadata": {},
          "execution_count": 26
        }
      ],
      "source": [
        "#создадим модель с найденными оптимальными гиперпараметрами\n",
        "random_forest_model = RandomForestClassifier(max_features='sqrt', n_estimators=8)\n",
        "random_forest_model.fit(X_train, y_train)\n",
        "y_pred5 = random_forest_model.predict(X_test)\n",
        "y_pred5"
      ]
    },
    {
      "cell_type": "markdown",
      "metadata": {
        "id": "odBiE4y0mydr"
      },
      "source": [
        "###**7. Создание модели бинарной классификации на основе алгоритма Boosting и AdaBoosting**"
      ]
    },
    {
      "cell_type": "code",
      "execution_count": 27,
      "metadata": {
        "id": "6-QDtZkqpjoX"
      },
      "outputs": [],
      "source": [
        "#создадим модель логистической регрессии и подберем оптимальные гиперпараметры при помощи поиска по сетке и кросс-валидации\n",
        "from sklearn.ensemble import AdaBoostClassifier\n",
        "test_model6 = AdaBoostClassifier()\n"
      ]
    },
    {
      "cell_type": "code",
      "execution_count": 28,
      "metadata": {
        "id": "WwZbNYrK_6f-"
      },
      "outputs": [],
      "source": [
        "#help(AdaBoostClassifier())"
      ]
    },
    {
      "cell_type": "code",
      "execution_count": 29,
      "metadata": {
        "id": "KTP_EiZF9bfN",
        "colab": {
          "base_uri": "https://localhost:8080/"
        },
        "outputId": "ca3ce210-36b6-4037-c7d2-86b812877d67"
      },
      "outputs": [
        {
          "output_type": "execute_result",
          "data": {
            "text/plain": [
              "{'n_estimators': 10}"
            ]
          },
          "metadata": {},
          "execution_count": 29
        }
      ],
      "source": [
        "#сделаем поиск по сетке для нахождения оптимальных гиперпараметров\n",
        "from sklearn.model_selection import GridSearchCV\n",
        "\n",
        "param_grid6 = {'n_estimators': [5, 7, 8, 9, 10, 11, 12, 15, 20, 30, 40, 50, 60, 70, 80, 90, 100, 120, 150]}\n",
        "\n",
        "grid6 = GridSearchCV(test_model6, param_grid6, cv=5, scoring='accuracy')\n",
        "grid6.fit(X_train, y_train)\n",
        "grid6.best_params_\n",
        "#{'n_estimators': 30}"
      ]
    },
    {
      "cell_type": "code",
      "execution_count": 30,
      "metadata": {
        "id": "4tkVWel39doV",
        "colab": {
          "base_uri": "https://localhost:8080/"
        },
        "outputId": "a2d468d5-9803-4414-9135-420333e717d8"
      },
      "outputs": [
        {
          "output_type": "execute_result",
          "data": {
            "text/plain": [
              "array([0., 1., 1., 0., 1., 1., 1., 1., 1., 0., 1., 1., 1., 0., 1., 1., 1.,\n",
              "       0., 0., 1., 0., 1., 1., 0., 1., 1., 0., 0., 0., 0., 0., 0., 0., 0.,\n",
              "       0., 1., 1., 1., 0., 0., 0., 0., 0., 0., 0., 1., 0., 1., 0., 1., 0.,\n",
              "       1., 1., 0., 1., 0., 1., 0., 0., 1., 1., 0., 0., 0., 0., 0., 1., 0.,\n",
              "       1., 0., 0., 1., 1., 1., 0., 1., 1., 0., 0., 0., 0., 0., 0.])"
            ]
          },
          "metadata": {},
          "execution_count": 30
        }
      ],
      "source": [
        "#создадим модель с найденными оптимальными гиперпараметрами\n",
        "ada_boosting_model = AdaBoostClassifier(n_estimators=10)\n",
        "ada_boosting_model.fit(X_train, y_train)\n",
        "y_pred6 = ada_boosting_model.predict(X_test)\n",
        "y_pred6"
      ]
    },
    {
      "cell_type": "markdown",
      "metadata": {
        "id": "49sNCV5dnAWU"
      },
      "source": [
        "###**8. Создание модели бинарной классификации на основе алгоритма градиентного бустинга**"
      ]
    },
    {
      "cell_type": "code",
      "execution_count": 31,
      "metadata": {
        "id": "xwyAfSwTpkPn"
      },
      "outputs": [],
      "source": [
        "#создадим модель логистической регрессии и подберем оптимальные гиперпараметры при помощи поиска по сетке и кросс-валидации\n",
        "\n",
        "from sklearn.ensemble import GradientBoostingClassifier\n",
        "test_model7 = GradientBoostingClassifier(random_state=42) #устанавливаем параметр random_state, чтобы при нескольких запусках GridSearchCV со скорректированным списком гиперпараметров результаты получались уточненными, а не совершенно новыми\n"
      ]
    },
    {
      "cell_type": "code",
      "execution_count": 32,
      "metadata": {
        "id": "alY5nW8oBld-"
      },
      "outputs": [],
      "source": [
        "#help(GradientBoostingClassifier())"
      ]
    },
    {
      "cell_type": "code",
      "execution_count": 33,
      "metadata": {
        "id": "B2AfQis3BllG",
        "colab": {
          "base_uri": "https://localhost:8080/"
        },
        "outputId": "da32dcb2-8b9f-49a5-8f71-8582f376f07d"
      },
      "outputs": [
        {
          "output_type": "execute_result",
          "data": {
            "text/plain": [
              "{'learning_rate': 0.001,\n",
              " 'loss': 'exponential',\n",
              " 'max_depth': 10,\n",
              " 'max_features': 'log2',\n",
              " 'n_estimators': 120}"
            ]
          },
          "metadata": {},
          "execution_count": 33
        }
      ],
      "source": [
        "#сделаем поиск по сетке для нахождения оптимальных гиперпараметров\n",
        "from sklearn.model_selection import GridSearchCV\n",
        "#param_grid7 = {'n_estimators': [10, 30, 50, 90, 100, 115, 118, 119, 120, 121, 122, 125, 150], 'learning_rate': [0.0005, 0.001, 0.0015, 0.002, 0.005, 0.01], 'max_depth': [3, 4, 5, 6, 7, 8, 9, 10, 11, 12], 'max_features' : ['None', 'sqrt', 'log2'], 'loss' : ['log_loss', 'exponential']}\n",
        "param_grid7 = {'n_estimators': [118, 119, 120, 121, 122, 125], 'learning_rate': [0.0005, 0.001, 0.0015, 0.002], 'max_depth': [8, 9, 10, 11, 12], 'max_features' : ['log2'], 'loss' : ['exponential']}\n",
        "grid7 = GridSearchCV(test_model7, param_grid7, cv=5, scoring='accuracy')\n",
        "grid7.fit(X_train, y_train)\n",
        "grid7.best_params_\n",
        "#{'learning_rate': 0.0005,'loss': 'exponential','max_depth': 10,'max_features': 'log2','n_estimators': 118}"
      ]
    },
    {
      "cell_type": "code",
      "execution_count": 34,
      "metadata": {
        "id": "juUlqzE6FnSH",
        "colab": {
          "base_uri": "https://localhost:8080/"
        },
        "outputId": "40db24f6-8fed-4b96-a141-0d86c2e171c9"
      },
      "outputs": [
        {
          "output_type": "execute_result",
          "data": {
            "text/plain": [
              "array([0., 1., 1., 0., 1., 1., 1., 1., 1., 0., 1., 1., 1., 1., 1., 1., 1.,\n",
              "       0., 0., 1., 0., 0., 1., 0., 1., 1., 0., 0., 0., 0., 0., 0., 0., 0.,\n",
              "       0., 1., 1., 1., 0., 0., 0., 0., 0., 0., 0., 1., 0., 1., 0., 1., 0.,\n",
              "       1., 1., 0., 1., 0., 1., 0., 0., 1., 1., 0., 0., 0., 0., 0., 1., 0.,\n",
              "       1., 0., 0., 1., 1., 1., 0., 1., 1., 0., 1., 0., 0., 0., 1.])"
            ]
          },
          "metadata": {},
          "execution_count": 34
        }
      ],
      "source": [
        "#создадим модель с найденными оптимальными гиперпараметрами\n",
        "gradient_boosting_model = GradientBoostingClassifier(learning_rate=0.001, loss='exponential', max_depth=10, max_features='log2', n_estimators=120)\n",
        "gradient_boosting_model.fit(X_train, y_train)\n",
        "y_pred7 = gradient_boosting_model.predict(X_test)\n",
        "y_pred7"
      ]
    },
    {
      "cell_type": "markdown",
      "metadata": {
        "id": "9Em4P8ED9SBG"
      },
      "source": [
        "###**9. Напишем функцию для сравнения всех этих моделей между собой**"
      ]
    },
    {
      "cell_type": "code",
      "execution_count": 35,
      "metadata": {
        "id": "BBss72yCiuFH",
        "colab": {
          "base_uri": "https://localhost:8080/",
          "height": 1000
        },
        "outputId": "ae600f79-b46a-4977-b554-28078a91f166"
      },
      "outputs": [
        {
          "output_type": "stream",
          "name": "stdout",
          "text": [
            "Evaluating model: LogisticRegression\n",
            "Accuracy: 0.963855421686747\n",
            "\n",
            "\n",
            "              precision    recall  f1-score   support\n",
            "\n",
            "         0.0       0.98      0.95      0.96        43\n",
            "         1.0       0.95      0.97      0.96        40\n",
            "\n",
            "    accuracy                           0.96        83\n",
            "   macro avg       0.96      0.96      0.96        83\n",
            "weighted avg       0.96      0.96      0.96        83\n",
            "\n"
          ]
        },
        {
          "output_type": "display_data",
          "data": {
            "text/plain": [
              "<Figure size 640x480 with 2 Axes>"
            ],
            "image/png": "[encoded data removed]"
          },
          "metadata": {}
        },
        {
          "output_type": "stream",
          "name": "stdout",
          "text": [
            "\n",
            "\n",
            "Evaluating model: KNeighborsClassifier\n",
            "Accuracy: 0.9036144578313253\n",
            "\n",
            "\n",
            "              precision    recall  f1-score   support\n",
            "\n",
            "         0.0       0.86      0.98      0.91        43\n",
            "         1.0       0.97      0.82      0.89        40\n",
            "\n",
            "    accuracy                           0.90        83\n",
            "   macro avg       0.91      0.90      0.90        83\n",
            "weighted avg       0.91      0.90      0.90        83\n",
            "\n"
          ]
        },
        {
          "output_type": "display_data",
          "data": {
            "text/plain": [
              "<Figure size 640x480 with 2 Axes>"
            ],
            "image/png": "[encoded data removed]"
          },
          "metadata": {}
        },
        {
          "output_type": "stream",
          "name": "stdout",
          "text": [
            "\n",
            "\n",
            "Evaluating model: SVC\n",
            "Accuracy: 0.9397590361445783\n",
            "\n",
            "\n",
            "              precision    recall  f1-score   support\n",
            "\n",
            "         0.0       0.95      0.93      0.94        43\n",
            "         1.0       0.93      0.95      0.94        40\n",
            "\n",
            "    accuracy                           0.94        83\n",
            "   macro avg       0.94      0.94      0.94        83\n",
            "weighted avg       0.94      0.94      0.94        83\n",
            "\n"
          ]
        },
        {
          "output_type": "display_data",
          "data": {
            "text/plain": [
              "<Figure size 640x480 with 2 Axes>"
            ],
            "image/png": "[encoded data removed]"
          },
          "metadata": {}
        },
        {
          "output_type": "stream",
          "name": "stdout",
          "text": [
            "\n",
            "\n",
            "Evaluating model: DecisionTreeClassifier\n",
            "Accuracy: 0.9518072289156626\n",
            "\n",
            "\n",
            "              precision    recall  f1-score   support\n",
            "\n",
            "         0.0       0.93      0.98      0.95        43\n",
            "         1.0       0.97      0.93      0.95        40\n",
            "\n",
            "    accuracy                           0.95        83\n",
            "   macro avg       0.95      0.95      0.95        83\n",
            "weighted avg       0.95      0.95      0.95        83\n",
            "\n"
          ]
        },
        {
          "output_type": "display_data",
          "data": {
            "text/plain": [
              "<Figure size 640x480 with 2 Axes>"
            ],
            "image/png": "[encoded data removed]"
          },
          "metadata": {}
        },
        {
          "output_type": "stream",
          "name": "stdout",
          "text": [
            "\n",
            "\n",
            "Evaluating model: RandomForestClassifier\n",
            "Accuracy: 0.963855421686747\n",
            "\n",
            "\n",
            "              precision    recall  f1-score   support\n",
            "\n",
            "         0.0       0.93      1.00      0.97        43\n",
            "         1.0       1.00      0.93      0.96        40\n",
            "\n",
            "    accuracy                           0.96        83\n",
            "   macro avg       0.97      0.96      0.96        83\n",
            "weighted avg       0.97      0.96      0.96        83\n",
            "\n"
          ]
        },
        {
          "output_type": "display_data",
          "data": {
            "text/plain": [
              "<Figure size 640x480 with 2 Axes>"
            ],
            "image/png": "[encoded data removed]"
          },
          "metadata": {}
        },
        {
          "output_type": "stream",
          "name": "stdout",
          "text": [
            "\n",
            "\n",
            "Evaluating model: AdaBoostClassifier\n",
            "Accuracy: 0.963855421686747\n",
            "\n",
            "\n",
            "              precision    recall  f1-score   support\n",
            "\n",
            "         0.0       0.93      1.00      0.97        43\n",
            "         1.0       1.00      0.93      0.96        40\n",
            "\n",
            "    accuracy                           0.96        83\n",
            "   macro avg       0.97      0.96      0.96        83\n",
            "weighted avg       0.97      0.96      0.96        83\n",
            "\n"
          ]
        },
        {
          "output_type": "display_data",
          "data": {
            "text/plain": [
              "<Figure size 640x480 with 2 Axes>"
            ],
            "image/png": "[encoded data removed]"
          },
          "metadata": {}
        },
        {
          "output_type": "stream",
          "name": "stdout",
          "text": [
            "\n",
            "\n",
            "Evaluating model: GradientBoostingClassifier\n",
            "Accuracy: 0.9879518072289156\n",
            "\n",
            "\n",
            "              precision    recall  f1-score   support\n",
            "\n",
            "         0.0       0.98      1.00      0.99        43\n",
            "         1.0       1.00      0.97      0.99        40\n",
            "\n",
            "    accuracy                           0.99        83\n",
            "   macro avg       0.99      0.99      0.99        83\n",
            "weighted avg       0.99      0.99      0.99        83\n",
            "\n"
          ]
        },
        {
          "output_type": "display_data",
          "data": {
            "text/plain": [
              "<Figure size 640x480 with 2 Axes>"
            ],
            "image/png": "[encoded data removed]"
          },
          "metadata": {}
        },
        {
          "output_type": "stream",
          "name": "stdout",
          "text": [
            "\n",
            "\n"
          ]
        }
      ],
      "source": [
        "from sklearn.metrics import mean_absolute_error, mean_squared_error, accuracy_score, classification_report, confusion_matrix\n",
        "from sklearn.metrics import ConfusionMatrixDisplay\n",
        "\n",
        "def run_models(models, X_train, y_train, X_test, y_test):\n",
        "    for model in models:\n",
        "        print(f\"Evaluating model: {model.__class__.__name__}\")\n",
        "\n",
        "        model.fit(X_train, y_train)\n",
        "        y_pred = model.predict(X_test)\n",
        "\n",
        "\n",
        "        accuracy = accuracy_score(y_test, y_pred)\n",
        "\n",
        "\n",
        "        print(f'Accuracy: {accuracy}')\n",
        "        print('\\n')\n",
        "        print(classification_report(y_test, y_pred))\n",
        "\n",
        "\n",
        "\n",
        "        ConfusionMatrixDisplay.from_estimator(model, X_test, y_test)\n",
        "        plt.title('Confusion Matrix for the model')\n",
        "        plt.show()\n",
        "\n",
        "        print('\\n')\n",
        "\n",
        "\n",
        "models = [logistic_regression_model, knn_model, svm_model, decision_tree_model, random_forest_model, ada_boosting_model, gradient_boosting_model]\n",
        "\n",
        "run_models(models, X_train, y_train, X_test, y_test)\n"
      ]
    },
    {
      "cell_type": "markdown",
      "metadata": {
        "id": "_D8bFqg4Xf4z"
      },
      "source": [
        "###**10. Напишем функцию для выбора наилучшей модели машинного обучения для этой задачи**"
      ]
    },
    {
      "cell_type": "markdown",
      "metadata": {
        "id": "qBYJXhJcnTR5"
      },
      "source": [
        "**Выберем модель, которая показала наилучшие результаты. В нашем датасете классы сбалансированы, поэтому для оценки моделей можно смотреть на показатель accuracy**"
      ]
    },
    {
      "cell_type": "code",
      "execution_count": 36,
      "metadata": {
        "id": "_rBfSsC5vzpx",
        "colab": {
          "base_uri": "https://localhost:8080/"
        },
        "outputId": "20e414ff-0934-4a4d-efc8-e96c83294c3b"
      },
      "outputs": [
        {
          "output_type": "stream",
          "name": "stdout",
          "text": [
            "Best model(s) by accuracy (0.9879518072289156):\n",
            " - GradientBoostingClassifier \n",
            "\n"
          ]
        }
      ],
      "source": [
        "#посмотрим, у какой из воделей наилучшая метрика accuracy\n",
        "def best_accuracy(models, X_train, y_train, X_test, y_test):\n",
        "    best_accuracy = 0\n",
        "    models_with_best_accuracy = []\n",
        "\n",
        "    for model in models:\n",
        "        model.fit(X_train, y_train)\n",
        "        y_pred = model.predict(X_test)\n",
        "        accuracy = accuracy_score(y_test, y_pred)\n",
        "\n",
        "        if accuracy > best_accuracy:\n",
        "            best_accuracy = accuracy\n",
        "            models_with_best_accuracy = [model]\n",
        "        #посмотрим, нет ли моделей с одинаковым accuracy\n",
        "        elif accuracy == best_accuracy:\n",
        "          models_with_best_accuracy.append(model)\n",
        "\n",
        "    print(f\"Best model(s) by accuracy ({best_accuracy:}):\")\n",
        "    for model in models_with_best_accuracy:\n",
        "        print(f\" - {model.__class__.__name__}\", '\\n')\n",
        "    return models_with_best_accuracy\n",
        "\n",
        "\n",
        "models = [logistic_regression_model, knn_model, svm_model, decision_tree_model, random_forest_model, ada_boosting_model, gradient_boosting_model]\n",
        "best_models = best_accuracy(models, X_train, y_train, X_test, y_test)\n"
      ]
    },
    {
      "cell_type": "markdown",
      "metadata": {
        "id": "WWFEH9lG36w9"
      },
      "source": [
        "**Таким образом, модель на основе GradientBoostingClassifier показала наилучшие результаты по метрике accuracy и кол-ву False Negative результатов, что особенно важно для медицинских задач.**"
      ]
    },
    {
      "cell_type": "code",
      "execution_count": 37,
      "metadata": {
        "id": "RlLyApspUJNA",
        "colab": {
          "base_uri": "https://localhost:8080/",
          "height": 98
        },
        "outputId": "986d286c-4510-473b-8544-39ccf208c3df"
      },
      "outputs": [
        {
          "output_type": "execute_result",
          "data": {
            "text/plain": [
              "GradientBoostingClassifier(learning_rate=0.001, loss='exponential',\n",
              "                           max_depth=10, max_features='log2', n_estimators=120)"
            ],
            "text/html": [
              "<style>#sk-container-id-1 {\n",
              "  /* Definition of color scheme common for light and dark mode */\n",
              "  --sklearn-color-text: black;\n",
              "  --sklearn-color-line: gray;\n",
              "  /* Definition of color scheme for unfitted estimators */\n",
              "  --sklearn-color-unfitted-level-0: #fff5e6;\n",
              "  --sklearn-color-unfitted-level-1: #f6e4d2;\n",
              "  --sklearn-color-unfitted-level-2: #ffe0b3;\n",
              "  --sklearn-color-unfitted-level-3: chocolate;\n",
              "  /* Definition of color scheme for fitted estimators */\n",
              "  --sklearn-color-fitted-level-0: #f0f8ff;\n",
              "  --sklearn-color-fitted-level-1: #d4ebff;\n",
              "  --sklearn-color-fitted-level-2: #b3dbfd;\n",
              "  --sklearn-color-fitted-level-3: cornflowerblue;\n",
              "\n",
              "  /* Specific color for light theme */\n",
              "  --sklearn-color-text-on-default-background: var(--sg-text-color, var(--theme-code-foreground, var(--jp-content-font-color1, black)));\n",
              "  --sklearn-color-background: var(--sg-background-color, var(--theme-background, var(--jp-layout-color0, white)));\n",
              "  --sklearn-color-border-box: var(--sg-text-color, var(--theme-code-foreground, var(--jp-content-font-color1, black)));\n",
              "  --sklearn-color-icon: #696969;\n",
              "\n",
              "  @media (prefers-color-scheme: dark) {\n",
              "    /* Redefinition of color scheme for dark theme */\n",
              "    --sklearn-color-text-on-default-background: var(--sg-text-color, var(--theme-code-foreground, var(--jp-content-font-color1, white)));\n",
              "    --sklearn-color-background: var(--sg-background-color, var(--theme-background, var(--jp-layout-color0, #111)));\n",
              "    --sklearn-color-border-box: var(--sg-text-color, var(--theme-code-foreground, var(--jp-content-font-color1, white)));\n",
              "    --sklearn-color-icon: #878787;\n",
              "  }\n",
              "}\n",
              "\n",
              "#sk-container-id-1 {\n",
              "  color: var(--sklearn-color-text);\n",
              "}\n",
              "\n",
              "#sk-container-id-1 pre {\n",
              "  padding: 0;\n",
              "}\n",
              "\n",
              "#sk-container-id-1 input.sk-hidden--visually {\n",
              "  border: 0;\n",
              "  clip: rect(1px 1px 1px 1px);\n",
              "  clip: rect(1px, 1px, 1px, 1px);\n",
              "  height: 1px;\n",
              "  margin: -1px;\n",
              "  overflow: hidden;\n",
              "  padding: 0;\n",
              "  position: absolute;\n",
              "  width: 1px;\n",
              "}\n",
              "\n",
              "#sk-container-id-1 div.sk-dashed-wrapped {\n",
              "  border: 1px dashed var(--sklearn-color-line);\n",
              "  margin: 0 0.4em 0.5em 0.4em;\n",
              "  box-sizing: border-box;\n",
              "  padding-bottom: 0.4em;\n",
              "  background-color: var(--sklearn-color-background);\n",
              "}\n",
              "\n",
              "#sk-container-id-1 div.sk-container {\n",
              "  /* jupyter's `normalize.less` sets `[hidden] { display: none; }`\n",
              "     but bootstrap.min.css set `[hidden] { display: none !important; }`\n",
              "     so we also need the `!important` here to be able to override the\n",
              "     default hidden behavior on the sphinx rendered scikit-learn.org.\n",
              "     See: https://github.com/scikit-learn/scikit-learn/issues/21755 */\n",
              "  display: inline-block !important;\n",
              "  position: relative;\n",
              "}\n",
              "\n",
              "#sk-container-id-1 div.sk-text-repr-fallback {\n",
              "  display: none;\n",
              "}\n",
              "\n",
              "div.sk-parallel-item,\n",
              "div.sk-serial,\n",
              "div.sk-item {\n",
              "  /* draw centered vertical line to link estimators */\n",
              "  background-image: linear-gradient(var(--sklearn-color-text-on-default-background), var(--sklearn-color-text-on-default-background));\n",
              "  background-size: 2px 100%;\n",
              "  background-repeat: no-repeat;\n",
              "  background-position: center center;\n",
              "}\n",
              "\n",
              "/* Parallel-specific style estimator block */\n",
              "\n",
              "#sk-container-id-1 div.sk-parallel-item::after {\n",
              "  content: \"\";\n",
              "  width: 100%;\n",
              "  border-bottom: 2px solid var(--sklearn-color-text-on-default-background);\n",
              "  flex-grow: 1;\n",
              "}\n",
              "\n",
              "#sk-container-id-1 div.sk-parallel {\n",
              "  display: flex;\n",
              "  align-items: stretch;\n",
              "  justify-content: center;\n",
              "  background-color: var(--sklearn-color-background);\n",
              "  position: relative;\n",
              "}\n",
              "\n",
              "#sk-container-id-1 div.sk-parallel-item {\n",
              "  display: flex;\n",
              "  flex-direction: column;\n",
              "}\n",
              "\n",
              "#sk-container-id-1 div.sk-parallel-item:first-child::after {\n",
              "  align-self: flex-end;\n",
              "  width: 50%;\n",
              "}\n",
              "\n",
              "#sk-container-id-1 div.sk-parallel-item:last-child::after {\n",
              "  align-self: flex-start;\n",
              "  width: 50%;\n",
              "}\n",
              "\n",
              "#sk-container-id-1 div.sk-parallel-item:only-child::after {\n",
              "  width: 0;\n",
              "}\n",
              "\n",
              "/* Serial-specific style estimator block */\n",
              "\n",
              "#sk-container-id-1 div.sk-serial {\n",
              "  display: flex;\n",
              "  flex-direction: column;\n",
              "  align-items: center;\n",
              "  background-color: var(--sklearn-color-background);\n",
              "  padding-right: 1em;\n",
              "  padding-left: 1em;\n",
              "}\n",
              "\n",
              "\n",
              "/* Toggleable style: style used for estimator/Pipeline/ColumnTransformer box that is\n",
              "clickable and can be expanded/collapsed.\n",
              "- Pipeline and ColumnTransformer use this feature and define the default style\n",
              "- Estimators will overwrite some part of the style using the `sk-estimator` class\n",
              "*/\n",
              "\n",
              "/* Pipeline and ColumnTransformer style (default) */\n",
              "\n",
              "#sk-container-id-1 div.sk-toggleable {\n",
              "  /* Default theme specific background. It is overwritten whether we have a\n",
              "  specific estimator or a Pipeline/ColumnTransformer */\n",
              "  background-color: var(--sklearn-color-background);\n",
              "}\n",
              "\n",
              "/* Toggleable label */\n",
              "#sk-container-id-1 label.sk-toggleable__label {\n",
              "  cursor: pointer;\n",
              "  display: block;\n",
              "  width: 100%;\n",
              "  margin-bottom: 0;\n",
              "  padding: 0.5em;\n",
              "  box-sizing: border-box;\n",
              "  text-align: center;\n",
              "}\n",
              "\n",
              "#sk-container-id-1 label.sk-toggleable__label-arrow:before {\n",
              "  /* Arrow on the left of the label */\n",
              "  content: \"▸\";\n",
              "  float: left;\n",
              "  margin-right: 0.25em;\n",
              "  color: var(--sklearn-color-icon);\n",
              "}\n",
              "\n",
              "#sk-container-id-1 label.sk-toggleable__label-arrow:hover:before {\n",
              "  color: var(--sklearn-color-text);\n",
              "}\n",
              "\n",
              "/* Toggleable content - dropdown */\n",
              "\n",
              "#sk-container-id-1 div.sk-toggleable__content {\n",
              "  max-height: 0;\n",
              "  max-width: 0;\n",
              "  overflow: hidden;\n",
              "  text-align: left;\n",
              "  /* unfitted */\n",
              "  background-color: var(--sklearn-color-unfitted-level-0);\n",
              "}\n",
              "\n",
              "#sk-container-id-1 div.sk-toggleable__content.fitted {\n",
              "  /* fitted */\n",
              "  background-color: var(--sklearn-color-fitted-level-0);\n",
              "}\n",
              "\n",
              "#sk-container-id-1 div.sk-toggleable__content pre {\n",
              "  margin: 0.2em;\n",
              "  border-radius: 0.25em;\n",
              "  color: var(--sklearn-color-text);\n",
              "  /* unfitted */\n",
              "  background-color: var(--sklearn-color-unfitted-level-0);\n",
              "}\n",
              "\n",
              "#sk-container-id-1 div.sk-toggleable__content.fitted pre {\n",
              "  /* unfitted */\n",
              "  background-color: var(--sklearn-color-fitted-level-0);\n",
              "}\n",
              "\n",
              "#sk-container-id-1 input.sk-toggleable__control:checked~div.sk-toggleable__content {\n",
              "  /* Expand drop-down */\n",
              "  max-height: 200px;\n",
              "  max-width: 100%;\n",
              "  overflow: auto;\n",
              "}\n",
              "\n",
              "#sk-container-id-1 input.sk-toggleable__control:checked~label.sk-toggleable__label-arrow:before {\n",
              "  content: \"▾\";\n",
              "}\n",
              "\n",
              "/* Pipeline/ColumnTransformer-specific style */\n",
              "\n",
              "#sk-container-id-1 div.sk-label input.sk-toggleable__control:checked~label.sk-toggleable__label {\n",
              "  color: var(--sklearn-color-text);\n",
              "  background-color: var(--sklearn-color-unfitted-level-2);\n",
              "}\n",
              "\n",
              "#sk-container-id-1 div.sk-label.fitted input.sk-toggleable__control:checked~label.sk-toggleable__label {\n",
              "  background-color: var(--sklearn-color-fitted-level-2);\n",
              "}\n",
              "\n",
              "/* Estimator-specific style */\n",
              "\n",
              "/* Colorize estimator box */\n",
              "#sk-container-id-1 div.sk-estimator input.sk-toggleable__control:checked~label.sk-toggleable__label {\n",
              "  /* unfitted */\n",
              "  background-color: var(--sklearn-color-unfitted-level-2);\n",
              "}\n",
              "\n",
              "#sk-container-id-1 div.sk-estimator.fitted input.sk-toggleable__control:checked~label.sk-toggleable__label {\n",
              "  /* fitted */\n",
              "  background-color: var(--sklearn-color-fitted-level-2);\n",
              "}\n",
              "\n",
              "#sk-container-id-1 div.sk-label label.sk-toggleable__label,\n",
              "#sk-container-id-1 div.sk-label label {\n",
              "  /* The background is the default theme color */\n",
              "  color: var(--sklearn-color-text-on-default-background);\n",
              "}\n",
              "\n",
              "/* On hover, darken the color of the background */\n",
              "#sk-container-id-1 div.sk-label:hover label.sk-toggleable__label {\n",
              "  color: var(--sklearn-color-text);\n",
              "  background-color: var(--sklearn-color-unfitted-level-2);\n",
              "}\n",
              "\n",
              "/* Label box, darken color on hover, fitted */\n",
              "#sk-container-id-1 div.sk-label.fitted:hover label.sk-toggleable__label.fitted {\n",
              "  color: var(--sklearn-color-text);\n",
              "  background-color: var(--sklearn-color-fitted-level-2);\n",
              "}\n",
              "\n",
              "/* Estimator label */\n",
              "\n",
              "#sk-container-id-1 div.sk-label label {\n",
              "  font-family: monospace;\n",
              "  font-weight: bold;\n",
              "  display: inline-block;\n",
              "  line-height: 1.2em;\n",
              "}\n",
              "\n",
              "#sk-container-id-1 div.sk-label-container {\n",
              "  text-align: center;\n",
              "}\n",
              "\n",
              "/* Estimator-specific */\n",
              "#sk-container-id-1 div.sk-estimator {\n",
              "  font-family: monospace;\n",
              "  border: 1px dotted var(--sklearn-color-border-box);\n",
              "  border-radius: 0.25em;\n",
              "  box-sizing: border-box;\n",
              "  margin-bottom: 0.5em;\n",
              "  /* unfitted */\n",
              "  background-color: var(--sklearn-color-unfitted-level-0);\n",
              "}\n",
              "\n",
              "#sk-container-id-1 div.sk-estimator.fitted {\n",
              "  /* fitted */\n",
              "  background-color: var(--sklearn-color-fitted-level-0);\n",
              "}\n",
              "\n",
              "/* on hover */\n",
              "#sk-container-id-1 div.sk-estimator:hover {\n",
              "  /* unfitted */\n",
              "  background-color: var(--sklearn-color-unfitted-level-2);\n",
              "}\n",
              "\n",
              "#sk-container-id-1 div.sk-estimator.fitted:hover {\n",
              "  /* fitted */\n",
              "  background-color: var(--sklearn-color-fitted-level-2);\n",
              "}\n",
              "\n",
              "/* Specification for estimator info (e.g. \"i\" and \"?\") */\n",
              "\n",
              "/* Common style for \"i\" and \"?\" */\n",
              "\n",
              ".sk-estimator-doc-link,\n",
              "a:link.sk-estimator-doc-link,\n",
              "a:visited.sk-estimator-doc-link {\n",
              "  float: right;\n",
              "  font-size: smaller;\n",
              "  line-height: 1em;\n",
              "  font-family: monospace;\n",
              "  background-color: var(--sklearn-color-background);\n",
              "  border-radius: 1em;\n",
              "  height: 1em;\n",
              "  width: 1em;\n",
              "  text-decoration: none !important;\n",
              "  margin-left: 1ex;\n",
              "  /* unfitted */\n",
              "  border: var(--sklearn-color-unfitted-level-1) 1pt solid;\n",
              "  color: var(--sklearn-color-unfitted-level-1);\n",
              "}\n",
              "\n",
              ".sk-estimator-doc-link.fitted,\n",
              "a:link.sk-estimator-doc-link.fitted,\n",
              "a:visited.sk-estimator-doc-link.fitted {\n",
              "  /* fitted */\n",
              "  border: var(--sklearn-color-fitted-level-1) 1pt solid;\n",
              "  color: var(--sklearn-color-fitted-level-1);\n",
              "}\n",
              "\n",
              "/* On hover */\n",
              "div.sk-estimator:hover .sk-estimator-doc-link:hover,\n",
              ".sk-estimator-doc-link:hover,\n",
              "div.sk-label-container:hover .sk-estimator-doc-link:hover,\n",
              ".sk-estimator-doc-link:hover {\n",
              "  /* unfitted */\n",
              "  background-color: var(--sklearn-color-unfitted-level-3);\n",
              "  color: var(--sklearn-color-background);\n",
              "  text-decoration: none;\n",
              "}\n",
              "\n",
              "div.sk-estimator.fitted:hover .sk-estimator-doc-link.fitted:hover,\n",
              ".sk-estimator-doc-link.fitted:hover,\n",
              "div.sk-label-container:hover .sk-estimator-doc-link.fitted:hover,\n",
              ".sk-estimator-doc-link.fitted:hover {\n",
              "  /* fitted */\n",
              "  background-color: var(--sklearn-color-fitted-level-3);\n",
              "  color: var(--sklearn-color-background);\n",
              "  text-decoration: none;\n",
              "}\n",
              "\n",
              "/* Span, style for the box shown on hovering the info icon */\n",
              ".sk-estimator-doc-link span {\n",
              "  display: none;\n",
              "  z-index: 9999;\n",
              "  position: relative;\n",
              "  font-weight: normal;\n",
              "  right: .2ex;\n",
              "  padding: .5ex;\n",
              "  margin: .5ex;\n",
              "  width: min-content;\n",
              "  min-width: 20ex;\n",
              "  max-width: 50ex;\n",
              "  color: var(--sklearn-color-text);\n",
              "  box-shadow: 2pt 2pt 4pt #999;\n",
              "  /* unfitted */\n",
              "  background: var(--sklearn-color-unfitted-level-0);\n",
              "  border: .5pt solid var(--sklearn-color-unfitted-level-3);\n",
              "}\n",
              "\n",
              ".sk-estimator-doc-link.fitted span {\n",
              "  /* fitted */\n",
              "  background: var(--sklearn-color-fitted-level-0);\n",
              "  border: var(--sklearn-color-fitted-level-3);\n",
              "}\n",
              "\n",
              ".sk-estimator-doc-link:hover span {\n",
              "  display: block;\n",
              "}\n",
              "\n",
              "/* \"?\"-specific style due to the `<a>` HTML tag */\n",
              "\n",
              "#sk-container-id-1 a.estimator_doc_link {\n",
              "  float: right;\n",
              "  font-size: 1rem;\n",
              "  line-height: 1em;\n",
              "  font-family: monospace;\n",
              "  background-color: var(--sklearn-color-background);\n",
              "  border-radius: 1rem;\n",
              "  height: 1rem;\n",
              "  width: 1rem;\n",
              "  text-decoration: none;\n",
              "  /* unfitted */\n",
              "  color: var(--sklearn-color-unfitted-level-1);\n",
              "  border: var(--sklearn-color-unfitted-level-1) 1pt solid;\n",
              "}\n",
              "\n",
              "#sk-container-id-1 a.estimator_doc_link.fitted {\n",
              "  /* fitted */\n",
              "  border: var(--sklearn-color-fitted-level-1) 1pt solid;\n",
              "  color: var(--sklearn-color-fitted-level-1);\n",
              "}\n",
              "\n",
              "/* On hover */\n",
              "#sk-container-id-1 a.estimator_doc_link:hover {\n",
              "  /* unfitted */\n",
              "  background-color: var(--sklearn-color-unfitted-level-3);\n",
              "  color: var(--sklearn-color-background);\n",
              "  text-decoration: none;\n",
              "}\n",
              "\n",
              "#sk-container-id-1 a.estimator_doc_link.fitted:hover {\n",
              "  /* fitted */\n",
              "  background-color: var(--sklearn-color-fitted-level-3);\n",
              "}\n",
              "</style><div id=\"sk-container-id-1\" class=\"sk-top-container\"><div class=\"sk-text-repr-fallback\"><pre>GradientBoostingClassifier(learning_rate=0.001, loss=&#x27;exponential&#x27;,\n",
              "                           max_depth=10, max_features=&#x27;log2&#x27;, n_estimators=120)</pre><b>In a Jupyter environment, please rerun this cell to show the HTML representation or trust the notebook. <br />On GitHub, the HTML representation is unable to render, please try loading this page with nbviewer.org.</b></div><div class=\"sk-container\" hidden><div class=\"sk-item\"><div class=\"sk-estimator fitted sk-toggleable\"><input class=\"sk-toggleable__control sk-hidden--visually\" id=\"sk-estimator-id-1\" type=\"checkbox\" checked><label for=\"sk-estimator-id-1\" class=\"sk-toggleable__label fitted sk-toggleable__label-arrow fitted\">&nbsp;&nbsp;GradientBoostingClassifier<a class=\"sk-estimator-doc-link fitted\" rel=\"noreferrer\" target=\"_blank\" href=\"https://scikit-learn.org/1.5/modules/generated/sklearn.ensemble.GradientBoostingClassifier.html\">?<span>Documentation for GradientBoostingClassifier</span></a><span class=\"sk-estimator-doc-link fitted\">i<span>Fitted</span></span></label><div class=\"sk-toggleable__content fitted\"><pre>GradientBoostingClassifier(learning_rate=0.001, loss=&#x27;exponential&#x27;,\n",
              "                           max_depth=10, max_features=&#x27;log2&#x27;, n_estimators=120)</pre></div> </div></div></div></div>"
            ]
          },
          "metadata": {},
          "execution_count": 37
        }
      ],
      "source": [
        "gradient_boosting_model"
      ]
    },
    {
      "cell_type": "markdown",
      "metadata": {
        "id": "EByz3mLbzBJf"
      },
      "source": [
        "###**12. Проверим, нет ли переобучения у нашей модели, т.к. метрики показывают довольно высокие значения**"
      ]
    },
    {
      "cell_type": "code",
      "execution_count": 38,
      "metadata": {
        "id": "_V3DUa33zFvu",
        "colab": {
          "base_uri": "https://localhost:8080/"
        },
        "outputId": "6239ff3d-cc29-4a11-9a6a-797e2d219479"
      },
      "outputs": [
        {
          "output_type": "stream",
          "name": "stdout",
          "text": [
            "Лучший средний результат на кросс-валидации (accuracy): 1.0\n",
            "Точность (accuracy) на тестовой выборке: 0.9879518072289156\n",
            "Точность (precision) на тестовой выборке: 1.0\n",
            "Полнота (recall) на тестовой выборке: 0.975\n",
            "F1-метрика на тестовой выборке: 0.9873417721518988\n"
          ]
        }
      ],
      "source": [
        "#посморим на лучший средний результат accuracy на кросс-валидации на обучающей выборке для ada_boosting_model\n",
        "best_cv_score = grid7.best_score_\n",
        "print(f'Лучший средний результат на кросс-валидации (accuracy): {best_cv_score}')\n",
        "\n",
        "#посморим на метрики accuracy и др. на тестовой выборке\n",
        "from sklearn.metrics import accuracy_score, precision_score, recall_score, f1_score\n",
        "\n",
        "y_pred_test = gradient_boosting_model.predict(X_test)\n",
        "\n",
        "\n",
        "test_accuracy = accuracy_score(y_test, y_pred_test)\n",
        "test_precision = precision_score(y_test, y_pred_test)\n",
        "test_recall = recall_score(y_test, y_pred_test)\n",
        "test_f1 = f1_score(y_test, y_pred_test)\n",
        "\n",
        "print(f'Точность (accuracy) на тестовой выборке: {test_accuracy}')\n",
        "print(f'Точность (precision) на тестовой выборке: {test_precision}')\n",
        "print(f'Полнота (recall) на тестовой выборке: {test_recall}')\n",
        "print(f'F1-метрика на тестовой выборке: {test_f1}')"
      ]
    },
    {
      "cell_type": "markdown",
      "source": [
        "\n",
        "\n",
        "Идеальный результат на кросс-валидации (1.0) может быть признаком того, что модель идеально обучается на фолдах кросс-валидации и имеет переобучение."
      ],
      "metadata": {
        "id": "wqdd_pCiF_Ta"
      }
    },
    {
      "cell_type": "markdown",
      "source": [
        "**Скорректируем гиперпараметры нашей модели**"
      ],
      "metadata": {
        "id": "_ri1xcHQJZkz"
      }
    },
    {
      "cell_type": "code",
      "execution_count": 52,
      "metadata": {
        "id": "IpsC02iFJyAo"
      },
      "outputs": [],
      "source": [
        "#создадим модель логистической регрессии и подберем оптимальные гиперпараметры при помощи поиска по сетке и кросс-валидации\n",
        "\n",
        "from sklearn.ensemble import GradientBoostingClassifier\n",
        "test_model7_new = GradientBoostingClassifier(random_state=42) #устанавливаем параметр random_state, чтобы при нескольких запусках GridSearchCV со скорректированным списком гиперпараметров результаты получались уточненными, а не совершенно новыми\n"
      ]
    },
    {
      "cell_type": "code",
      "execution_count": 53,
      "metadata": {
        "colab": {
          "base_uri": "https://localhost:8080/"
        },
        "outputId": "b3257e8f-9720-49b4-a5ed-042ca591a912",
        "id": "-isMoFMpJyAq"
      },
      "outputs": [
        {
          "output_type": "execute_result",
          "data": {
            "text/plain": [
              "{'learning_rate': 0.01,\n",
              " 'loss': 'exponential',\n",
              " 'max_depth': 4,\n",
              " 'max_features': 'sqrt',\n",
              " 'n_estimators': 90}"
            ]
          },
          "metadata": {},
          "execution_count": 53
        }
      ],
      "source": [
        "#сделаем поиск по сетке для нахождения оптимальных гиперпараметров\n",
        "from sklearn.model_selection import GridSearchCV\n",
        "param_grid7_new = {'n_estimators': [50, 60, 70, 80, 85, 87, 89, 90, 91, 92, 95, 100], 'learning_rate': [0.01, 0.02, 0.03, 0.04, 0.05], 'max_depth': [3, 4, 5, 6, 7], 'max_features' : ['sqrt'], 'loss' : ['exponential']}\n",
        "grid7_new = GridSearchCV(test_model7_new, param_grid7_new, cv=5, scoring='accuracy')\n",
        "grid7_new.fit(X_train, y_train)\n",
        "grid7_new.best_params_\n",
        "#{'learning_rate': 0.0005,'loss': 'exponential','max_depth': 10,'max_features': 'log2','n_estimators': 118}"
      ]
    },
    {
      "cell_type": "code",
      "execution_count": 57,
      "metadata": {
        "colab": {
          "base_uri": "https://localhost:8080/"
        },
        "outputId": "bdd8a2cb-6fb8-438c-aaa2-a341e5c3a75d",
        "id": "1fXgmJVPJyAr"
      },
      "outputs": [
        {
          "output_type": "execute_result",
          "data": {
            "text/plain": [
              "array([0., 1., 1., 0., 1., 1., 1., 1., 1., 0., 1., 1., 1., 1., 1., 1., 1.,\n",
              "       0., 0., 1., 0., 0., 1., 1., 1., 1., 0., 0., 0., 0., 0., 0., 0., 0.,\n",
              "       0., 1., 1., 1., 0., 0., 0., 0., 0., 0., 0., 1., 0., 1., 0., 1., 0.,\n",
              "       1., 1., 0., 1., 0., 1., 0., 0., 1., 1., 0., 0., 0., 0., 0., 1., 0.,\n",
              "       1., 0., 0., 1., 1., 1., 0., 1., 1., 0., 0., 0., 0., 0., 1.])"
            ]
          },
          "metadata": {},
          "execution_count": 57
        }
      ],
      "source": [
        "#создадим модель с найденными оптимальными гиперпараметрами\n",
        "gradient_boosting_model_new = GradientBoostingClassifier(learning_rate=0.01, loss='exponential', max_depth=4, max_features='sqrt', n_estimators=90)\n",
        "gradient_boosting_model_new.fit(X_train, y_train)\n",
        "y_pred7 = gradient_boosting_model_new.predict(X_test)\n",
        "y_pred7"
      ]
    },
    {
      "cell_type": "markdown",
      "source": [
        "**Построим матрицу ошибок для скорректированной модели**"
      ],
      "metadata": {
        "id": "s0oVfV6UXTkx"
      }
    },
    {
      "cell_type": "code",
      "execution_count": 63,
      "metadata": {
        "colab": {
          "base_uri": "https://localhost:8080/",
          "height": 767
        },
        "outputId": "4a57974d-7ee5-4b4f-a599-b96591989c67",
        "id": "lbTWPgviWIa6"
      },
      "outputs": [
        {
          "output_type": "stream",
          "name": "stdout",
          "text": [
            "Evaluating model: GradientBoostingClassifier\n",
            "Accuracy: 0.9879518072289156\n",
            "F1 Score: 0.9876543209876543\n",
            "\n",
            "\n",
            "              precision    recall  f1-score   support\n",
            "\n",
            "         0.0       1.00      0.98      0.99        43\n",
            "         1.0       0.98      1.00      0.99        40\n",
            "\n",
            "    accuracy                           0.99        83\n",
            "   macro avg       0.99      0.99      0.99        83\n",
            "weighted avg       0.99      0.99      0.99        83\n",
            "\n"
          ]
        },
        {
          "output_type": "display_data",
          "data": {
            "text/plain": [
              "<Figure size 640x480 with 2 Axes>"
            ],
            "image/png": "[encoded data removed]"
          },
          "metadata": {}
        },
        {
          "output_type": "stream",
          "name": "stdout",
          "text": [
            "\n",
            "\n"
          ]
        }
      ],
      "source": [
        "from sklearn.metrics import mean_absolute_error, mean_squared_error, accuracy_score, classification_report, confusion_matrix, f1_score\n",
        "from sklearn.metrics import ConfusionMatrixDisplay\n",
        "\n",
        "def run_models(models, X_train, y_train, X_test, y_test):\n",
        "    for model in models:\n",
        "        print(f\"Evaluating model: {model.__class__.__name__}\")\n",
        "\n",
        "        model.fit(X_train, y_train)\n",
        "        y_pred = model.predict(X_test)\n",
        "\n",
        "\n",
        "        accuracy = accuracy_score(y_test, y_pred)\n",
        "        f1 = f1_score(y_test, y_pred, average='binary')\n",
        "\n",
        "        print(f'Accuracy: {accuracy}')\n",
        "        print(f'F1 Score: {f1}')\n",
        "        print('\\n')\n",
        "        print(classification_report(y_test, y_pred))\n",
        "\n",
        "\n",
        "        ConfusionMatrixDisplay.from_estimator(model, X_test, y_test)\n",
        "        plt.title('Confusion Matrix for the model')\n",
        "        plt.show()\n",
        "\n",
        "        print('\\n')\n",
        "\n",
        "\n",
        "models = [gradient_boosting_model_new]\n",
        "\n",
        "run_models(models, X_train, y_train, X_test, y_test)\n"
      ]
    },
    {
      "cell_type": "code",
      "execution_count": 64,
      "metadata": {
        "colab": {
          "base_uri": "https://localhost:8080/"
        },
        "outputId": "dfece3f6-ffdf-4cba-c52e-c94150b4e30e",
        "id": "aKTDKNMhTmbD"
      },
      "outputs": [
        {
          "output_type": "stream",
          "name": "stdout",
          "text": [
            "Лучший средний результат на кросс-валидации (accuracy): 0.9947368421052631\n",
            "Точность (accuracy) на тестовой выборке: 0.9879518072289156\n",
            "Точность (precision) на тестовой выборке: 0.975609756097561\n",
            "Полнота (recall) на тестовой выборке: 1.0\n",
            "F1-метрика на тестовой выборке: 0.9876543209876543\n"
          ]
        }
      ],
      "source": [
        "#посморим на лучший средний результат accuracy на кросс-валидации на обучающей выборке для ada_boosting_model\n",
        "best_cv_score = grid7_new.best_score_\n",
        "print(f'Лучший средний результат на кросс-валидации (accuracy): {best_cv_score}')\n",
        "\n",
        "#посморим на метрики accuracy и др. на тестовой выборке\n",
        "from sklearn.metrics import accuracy_score, precision_score, recall_score, f1_score\n",
        "\n",
        "y_pred_test = gradient_boosting_model_new.predict(X_test)\n",
        "\n",
        "\n",
        "test_accuracy = accuracy_score(y_test, y_pred_test)\n",
        "test_precision = precision_score(y_test, y_pred_test)\n",
        "test_recall = recall_score(y_test, y_pred_test)\n",
        "test_f1 = f1_score(y_test, y_pred_test)\n",
        "\n",
        "print(f'Точность (accuracy) на тестовой выборке: {test_accuracy}')\n",
        "print(f'Точность (precision) на тестовой выборке: {test_precision}')\n",
        "print(f'Полнота (recall) на тестовой выборке: {test_recall}')\n",
        "print(f'F1-метрика на тестовой выборке: {test_f1}')"
      ]
    },
    {
      "cell_type": "markdown",
      "metadata": {
        "id": "LzV2YI7B5gkR"
      },
      "source": [
        "**Интерпретация метрик и их анализ на предмет переобучения**\n",
        "\n",
        "\n",
        "Точность 0.9947368421052631 на кросс-валидации говорит о том, что модель очень хорошо обучилась на данных из обучающей выборки.\n",
        "\n",
        "На тестовой выборке точность составляет 0.9759036144578314, а F1-метрика — 0.975, что всего лишь немного ниже, чем результаты кросс-валидации.\n",
        "Precision и recall также достаточно высоки и близки к результатам на обучении. Это говорит о том, что модель не сильно потеряла в качестве на данных, которых она ранее не видела.\n",
        "\n",
        "Обычно при переобучении модель показывает существенно лучшие результаты на кросс-валидации или обучающей выборке, чем на тестовых данных.\n",
        "Здесь же расхождение метрик минимальное, что указывает на то, что модель хорошо справляется и с новыми данными.\n",
        "\n",
        "Таким образом, переобучение, вероятно, отсутствует.\n",
        "Высокие значения всех метрик указывают на хороший подбор всех гиперпараметров и хорошее обучение модели - модель можно считать хорошо настроенной."
      ]
    },
    {
      "cell_type": "markdown",
      "metadata": {
        "id": "qh0Slx9sEJ0D"
      },
      "source": [
        "**Найдем еще несколько метрик для оценки нашей модели**"
      ]
    },
    {
      "cell_type": "code",
      "execution_count": 44,
      "metadata": {
        "id": "XJZ8iiYmCsDr",
        "colab": {
          "base_uri": "https://localhost:8080/"
        },
        "outputId": "0a60bdb9-6fd9-4988-cec9-c066e479863c"
      },
      "outputs": [
        {
          "output_type": "stream",
          "name": "stdout",
          "text": [
            "AUC-ROC:  0.9988372093023257\n",
            "PRC-AUC:  0.9987496091307069\n"
          ]
        }
      ],
      "source": [
        "#найдем метрики AUC-ROC и PRC-AUC для gradient_boosting_model_new\n",
        "from sklearn.metrics import roc_curve, auc, precision_recall_curve\n",
        "\n",
        "\n",
        "gradient_boosting_model_new.fit(X_train, y_train)\n",
        "y_probs = gradient_boosting_model_new.predict_proba(X_test)[:, 1]\n",
        "\n",
        "fpr, tpr, _ = roc_curve(y_test, y_probs)\n",
        "roc_auc = auc(fpr, tpr)\n",
        "\n",
        "print(f\"AUC-ROC: {roc_auc: }\")\n",
        "\n",
        "precision, recall, _ = precision_recall_curve(y_test, y_probs)\n",
        "prc_auc = auc(recall, precision)\n",
        "\n",
        "print(f\"PRC-AUC: {prc_auc: }\")\n"
      ]
    },
    {
      "cell_type": "markdown",
      "source": [
        "Как мы видим по этим метрикам, модель очень хорошо справляется с задачей бинарной классификации, и вероятность ошибочной классификации (FP и FN) минимальна."
      ],
      "metadata": {
        "id": "7egpFj8jQt0-"
      }
    },
    {
      "cell_type": "markdown",
      "metadata": {
        "id": "WGqF9pKPWWKb"
      },
      "source": [
        "###**13. Отдельно посмотрим на данные, которые модель классифицировала неверно**"
      ]
    },
    {
      "cell_type": "code",
      "execution_count": 45,
      "metadata": {
        "id": "hp1xFSuAO1Zy",
        "colab": {
          "base_uri": "https://localhost:8080/",
          "height": 193
        },
        "outputId": "7ac151fb-8388-4484-98fb-951c656b9bd2"
      },
      "outputs": [
        {
          "output_type": "execute_result",
          "data": {
            "text/plain": [
              "    Akkermansia_muciniphila  Alistipes_finegoldii  \\\n",
              "21                 0.000000                   0.0   \n",
              "23                 0.000000                   0.0   \n",
              "78                 2.163093                   0.0   \n",
              "\n",
              "    Alistipes_finegoldii/onderdonkii  Alistipes_inops  Alistipes_massiliensis  \\\n",
              "21                               0.0              0.0                     0.0   \n",
              "23                               0.0              0.0                     0.0   \n",
              "78                               0.0              0.0                     0.0   \n",
              "\n",
              "    Alistipes_putredinis  Alistipes_shahii  Anaerostipes_hadrus  \\\n",
              "21                   0.0               0.0                  0.0   \n",
              "23                   0.0               0.0                  0.0   \n",
              "78                   0.0               0.0                  0.0   \n",
              "\n",
              "    Bacteroides_barnesiae  Bacteroides_caccae  ...  Dorea_formicigenerans  \\\n",
              "21                    0.0                 0.0  ...                    0.0   \n",
              "23                    0.0                 0.0  ...                    0.0   \n",
              "78                    0.0                 0.0  ...                    0.0   \n",
              "\n",
              "    Enterococcus_azikeevi/casseliflavus/durans/faecalis/faecium/hirae/lactis/mundtii/raffinosus/ratti/rivorum/thailandicus/villorum  \\\n",
              "21                                                0.0                                                                                 \n",
              "23                                                0.0                                                                                 \n",
              "78                                                0.0                                                                                 \n",
              "\n",
              "    Fusobacterium_ulcerans/varium  Lachnoclostridium_urinimassiliense  \\\n",
              "21                            0.0                                 0.0   \n",
              "23                            0.0                                 0.0   \n",
              "78                            0.0                                 0.0   \n",
              "\n",
              "    Lactobacillus_crispatus/gasseri/helveticus/johnsonii/kefiranofaciens/paragasseri  \\\n",
              "21                                                0.0                                  \n",
              "23                                                0.0                                  \n",
              "78                                                0.0                                  \n",
              "\n",
              "    Lactobacillus_fermentum/gasseri/reuteri/vaginalis  \\\n",
              "21                                                0.0   \n",
              "23                                                0.0   \n",
              "78                                                0.0   \n",
              "\n",
              "    Lactobacillus_phage/plantarum/reuteri/salivarius  Roseburia_faecis  \\\n",
              "21                                               0.0               0.0   \n",
              "23                                               0.0               0.0   \n",
              "78                                               0.0               0.0   \n",
              "\n",
              "    Weissella_cibaria/confusa/koreensis/minor  Index  \n",
              "21                                        0.0    0.0  \n",
              "23                                        0.0    0.0  \n",
              "78                                        0.0    1.0  \n",
              "\n",
              "[3 rows x 130 columns]"
            ],
            "text/html": [
              "\n",
              "  <div id=\"df-c3cf4abb-7f38-4eac-b3cf-988a75bfa2ea\" class=\"colab-df-container\">\n",
              "    <div>\n",
              "<style scoped>\n",
              "    .dataframe tbody tr th:only-of-type {\n",
              "        vertical-align: middle;\n",
              "    }\n",
              "\n",
              "    .dataframe tbody tr th {\n",
              "        vertical-align: top;\n",
              "    }\n",
              "\n",
              "    .dataframe thead th {\n",
              "        text-align: right;\n",
              "    }\n",
              "</style>\n",
              "<table border=\"1\" class=\"dataframe\">\n",
              "  <thead>\n",
              "    <tr style=\"text-align: right;\">\n",
              "      <th></th>\n",
              "      <th>Akkermansia_muciniphila</th>\n",
              "      <th>Alistipes_finegoldii</th>\n",
              "      <th>Alistipes_finegoldii/onderdonkii</th>\n",
              "      <th>Alistipes_inops</th>\n",
              "      <th>Alistipes_massiliensis</th>\n",
              "      <th>Alistipes_putredinis</th>\n",
              "      <th>Alistipes_shahii</th>\n",
              "      <th>Anaerostipes_hadrus</th>\n",
              "      <th>Bacteroides_barnesiae</th>\n",
              "      <th>Bacteroides_caccae</th>\n",
              "      <th>...</th>\n",
              "      <th>Dorea_formicigenerans</th>\n",
              "      <th>Enterococcus_azikeevi/casseliflavus/durans/faecalis/faecium/hirae/lactis/mundtii/raffinosus/ratti/rivorum/thailandicus/villorum</th>\n",
              "      <th>Fusobacterium_ulcerans/varium</th>\n",
              "      <th>Lachnoclostridium_urinimassiliense</th>\n",
              "      <th>Lactobacillus_crispatus/gasseri/helveticus/johnsonii/kefiranofaciens/paragasseri</th>\n",
              "      <th>Lactobacillus_fermentum/gasseri/reuteri/vaginalis</th>\n",
              "      <th>Lactobacillus_phage/plantarum/reuteri/salivarius</th>\n",
              "      <th>Roseburia_faecis</th>\n",
              "      <th>Weissella_cibaria/confusa/koreensis/minor</th>\n",
              "      <th>Index</th>\n",
              "    </tr>\n",
              "  </thead>\n",
              "  <tbody>\n",
              "    <tr>\n",
              "      <th>21</th>\n",
              "      <td>0.000000</td>\n",
              "      <td>0.0</td>\n",
              "      <td>0.0</td>\n",
              "      <td>0.0</td>\n",
              "      <td>0.0</td>\n",
              "      <td>0.0</td>\n",
              "      <td>0.0</td>\n",
              "      <td>0.0</td>\n",
              "      <td>0.0</td>\n",
              "      <td>0.0</td>\n",
              "      <td>...</td>\n",
              "      <td>0.0</td>\n",
              "      <td>0.0</td>\n",
              "      <td>0.0</td>\n",
              "      <td>0.0</td>\n",
              "      <td>0.0</td>\n",
              "      <td>0.0</td>\n",
              "      <td>0.0</td>\n",
              "      <td>0.0</td>\n",
              "      <td>0.0</td>\n",
              "      <td>0.0</td>\n",
              "    </tr>\n",
              "    <tr>\n",
              "      <th>23</th>\n",
              "      <td>0.000000</td>\n",
              "      <td>0.0</td>\n",
              "      <td>0.0</td>\n",
              "      <td>0.0</td>\n",
              "      <td>0.0</td>\n",
              "      <td>0.0</td>\n",
              "      <td>0.0</td>\n",
              "      <td>0.0</td>\n",
              "      <td>0.0</td>\n",
              "      <td>0.0</td>\n",
              "      <td>...</td>\n",
              "      <td>0.0</td>\n",
              "      <td>0.0</td>\n",
              "      <td>0.0</td>\n",
              "      <td>0.0</td>\n",
              "      <td>0.0</td>\n",
              "      <td>0.0</td>\n",
              "      <td>0.0</td>\n",
              "      <td>0.0</td>\n",
              "      <td>0.0</td>\n",
              "      <td>0.0</td>\n",
              "    </tr>\n",
              "    <tr>\n",
              "      <th>78</th>\n",
              "      <td>2.163093</td>\n",
              "      <td>0.0</td>\n",
              "      <td>0.0</td>\n",
              "      <td>0.0</td>\n",
              "      <td>0.0</td>\n",
              "      <td>0.0</td>\n",
              "      <td>0.0</td>\n",
              "      <td>0.0</td>\n",
              "      <td>0.0</td>\n",
              "      <td>0.0</td>\n",
              "      <td>...</td>\n",
              "      <td>0.0</td>\n",
              "      <td>0.0</td>\n",
              "      <td>0.0</td>\n",
              "      <td>0.0</td>\n",
              "      <td>0.0</td>\n",
              "      <td>0.0</td>\n",
              "      <td>0.0</td>\n",
              "      <td>0.0</td>\n",
              "      <td>0.0</td>\n",
              "      <td>1.0</td>\n",
              "    </tr>\n",
              "  </tbody>\n",
              "</table>\n",
              "<p>3 rows × 130 columns</p>\n",
              "</div>\n",
              "    <div class=\"colab-df-buttons\">\n",
              "\n",
              "  <div class=\"colab-df-container\">\n",
              "    <button class=\"colab-df-convert\" onclick=\"convertToInteractive('df-c3cf4abb-7f38-4eac-b3cf-988a75bfa2ea')\"\n",
              "            title=\"Convert this dataframe to an interactive table.\"\n",
              "            style=\"display:none;\">\n",
              "\n",
              "  <svg xmlns=\"http://www.w3.org/2000/svg\" height=\"24px\" viewBox=\"0 -960 960 960\">\n",
              "    <path d=\"M120-120v-720h720v720H120Zm60-500h600v-160H180v160Zm220 220h160v-160H400v160Zm0 220h160v-160H400v160ZM180-400h160v-160H180v160Zm440 0h160v-160H620v160ZM180-180h160v-160H180v160Zm440 0h160v-160H620v160Z\"/>\n",
              "  </svg>\n",
              "    </button>\n",
              "\n",
              "  <style>\n",
              "    .colab-df-container {\n",
              "      display:flex;\n",
              "      gap: 12px;\n",
              "    }\n",
              "\n",
              "    .colab-df-convert {\n",
              "      background-color: #E8F0FE;\n",
              "      border: none;\n",
              "      border-radius: 50%;\n",
              "      cursor: pointer;\n",
              "      display: none;\n",
              "      fill: #1967D2;\n",
              "      height: 32px;\n",
              "      padding: 0 0 0 0;\n",
              "      width: 32px;\n",
              "    }\n",
              "\n",
              "    .colab-df-convert:hover {\n",
              "      background-color: #E2EBFA;\n",
              "      box-shadow: 0px 1px 2px rgba(60, 64, 67, 0.3), 0px 1px 3px 1px rgba(60, 64, 67, 0.15);\n",
              "      fill: #174EA6;\n",
              "    }\n",
              "\n",
              "    .colab-df-buttons div {\n",
              "      margin-bottom: 4px;\n",
              "    }\n",
              "\n",
              "    [theme=dark] .colab-df-convert {\n",
              "      background-color: #3B4455;\n",
              "      fill: #D2E3FC;\n",
              "    }\n",
              "\n",
              "    [theme=dark] .colab-df-convert:hover {\n",
              "      background-color: #434B5C;\n",
              "      box-shadow: 0px 1px 3px 1px rgba(0, 0, 0, 0.15);\n",
              "      filter: drop-shadow(0px 1px 2px rgba(0, 0, 0, 0.3));\n",
              "      fill: #FFFFFF;\n",
              "    }\n",
              "  </style>\n",
              "\n",
              "    <script>\n",
              "      const buttonEl =\n",
              "        document.querySelector('#df-c3cf4abb-7f38-4eac-b3cf-988a75bfa2ea button.colab-df-convert');\n",
              "      buttonEl.style.display =\n",
              "        google.colab.kernel.accessAllowed ? 'block' : 'none';\n",
              "\n",
              "      async function convertToInteractive(key) {\n",
              "        const element = document.querySelector('#df-c3cf4abb-7f38-4eac-b3cf-988a75bfa2ea');\n",
              "        const dataTable =\n",
              "          await google.colab.kernel.invokeFunction('convertToInteractive',\n",
              "                                                    [key], {});\n",
              "        if (!dataTable) return;\n",
              "\n",
              "        const docLinkHtml = 'Like what you see? Visit the ' +\n",
              "          '<a target=\"_blank\" href=https://colab.research.google.com/notebooks/data_table.ipynb>data table notebook</a>'\n",
              "          + ' to learn more about interactive tables.';\n",
              "        element.innerHTML = '';\n",
              "        dataTable['output_type'] = 'display_data';\n",
              "        await google.colab.output.renderOutput(dataTable, element);\n",
              "        const docLink = document.createElement('div');\n",
              "        docLink.innerHTML = docLinkHtml;\n",
              "        element.appendChild(docLink);\n",
              "      }\n",
              "    </script>\n",
              "  </div>\n",
              "\n",
              "\n",
              "<div id=\"df-77606e50-8680-475e-9633-d7f4315a2e47\">\n",
              "  <button class=\"colab-df-quickchart\" onclick=\"quickchart('df-77606e50-8680-475e-9633-d7f4315a2e47')\"\n",
              "            title=\"Suggest charts\"\n",
              "            style=\"display:none;\">\n",
              "\n",
              "<svg xmlns=\"http://www.w3.org/2000/svg\" height=\"24px\"viewBox=\"0 0 24 24\"\n",
              "     width=\"24px\">\n",
              "    <g>\n",
              "        <path d=\"M19 3H5c-1.1 0-2 .9-2 2v14c0 1.1.9 2 2 2h14c1.1 0 2-.9 2-2V5c0-1.1-.9-2-2-2zM9 17H7v-7h2v7zm4 0h-2V7h2v10zm4 0h-2v-4h2v4z\"/>\n",
              "    </g>\n",
              "</svg>\n",
              "  </button>\n",
              "\n",
              "<style>\n",
              "  .colab-df-quickchart {\n",
              "      --bg-color: #E8F0FE;\n",
              "      --fill-color: #1967D2;\n",
              "      --hover-bg-color: #E2EBFA;\n",
              "      --hover-fill-color: #174EA6;\n",
              "      --disabled-fill-color: #AAA;\n",
              "      --disabled-bg-color: #DDD;\n",
              "  }\n",
              "\n",
              "  [theme=dark] .colab-df-quickchart {\n",
              "      --bg-color: #3B4455;\n",
              "      --fill-color: #D2E3FC;\n",
              "      --hover-bg-color: #434B5C;\n",
              "      --hover-fill-color: #FFFFFF;\n",
              "      --disabled-bg-color: #3B4455;\n",
              "      --disabled-fill-color: #666;\n",
              "  }\n",
              "\n",
              "  .colab-df-quickchart {\n",
              "    background-color: var(--bg-color);\n",
              "    border: none;\n",
              "    border-radius: 50%;\n",
              "    cursor: pointer;\n",
              "    display: none;\n",
              "    fill: var(--fill-color);\n",
              "    height: 32px;\n",
              "    padding: 0;\n",
              "    width: 32px;\n",
              "  }\n",
              "\n",
              "  .colab-df-quickchart:hover {\n",
              "    background-color: var(--hover-bg-color);\n",
              "    box-shadow: 0 1px 2px rgba(60, 64, 67, 0.3), 0 1px 3px 1px rgba(60, 64, 67, 0.15);\n",
              "    fill: var(--button-hover-fill-color);\n",
              "  }\n",
              "\n",
              "  .colab-df-quickchart-complete:disabled,\n",
              "  .colab-df-quickchart-complete:disabled:hover {\n",
              "    background-color: var(--disabled-bg-color);\n",
              "    fill: var(--disabled-fill-color);\n",
              "    box-shadow: none;\n",
              "  }\n",
              "\n",
              "  .colab-df-spinner {\n",
              "    border: 2px solid var(--fill-color);\n",
              "    border-color: transparent;\n",
              "    border-bottom-color: var(--fill-color);\n",
              "    animation:\n",
              "      spin 1s steps(1) infinite;\n",
              "  }\n",
              "\n",
              "  @keyframes spin {\n",
              "    0% {\n",
              "      border-color: transparent;\n",
              "      border-bottom-color: var(--fill-color);\n",
              "      border-left-color: var(--fill-color);\n",
              "    }\n",
              "    20% {\n",
              "      border-color: transparent;\n",
              "      border-left-color: var(--fill-color);\n",
              "      border-top-color: var(--fill-color);\n",
              "    }\n",
              "    30% {\n",
              "      border-color: transparent;\n",
              "      border-left-color: var(--fill-color);\n",
              "      border-top-color: var(--fill-color);\n",
              "      border-right-color: var(--fill-color);\n",
              "    }\n",
              "    40% {\n",
              "      border-color: transparent;\n",
              "      border-right-color: var(--fill-color);\n",
              "      border-top-color: var(--fill-color);\n",
              "    }\n",
              "    60% {\n",
              "      border-color: transparent;\n",
              "      border-right-color: var(--fill-color);\n",
              "    }\n",
              "    80% {\n",
              "      border-color: transparent;\n",
              "      border-right-color: var(--fill-color);\n",
              "      border-bottom-color: var(--fill-color);\n",
              "    }\n",
              "    90% {\n",
              "      border-color: transparent;\n",
              "      border-bottom-color: var(--fill-color);\n",
              "    }\n",
              "  }\n",
              "</style>\n",
              "\n",
              "  <script>\n",
              "    async function quickchart(key) {\n",
              "      const quickchartButtonEl =\n",
              "        document.querySelector('#' + key + ' button');\n",
              "      quickchartButtonEl.disabled = true;  // To prevent multiple clicks.\n",
              "      quickchartButtonEl.classList.add('colab-df-spinner');\n",
              "      try {\n",
              "        const charts = await google.colab.kernel.invokeFunction(\n",
              "            'suggestCharts', [key], {});\n",
              "      } catch (error) {\n",
              "        console.error('Error during call to suggestCharts:', error);\n",
              "      }\n",
              "      quickchartButtonEl.classList.remove('colab-df-spinner');\n",
              "      quickchartButtonEl.classList.add('colab-df-quickchart-complete');\n",
              "    }\n",
              "    (() => {\n",
              "      let quickchartButtonEl =\n",
              "        document.querySelector('#df-77606e50-8680-475e-9633-d7f4315a2e47 button');\n",
              "      quickchartButtonEl.style.display =\n",
              "        google.colab.kernel.accessAllowed ? 'block' : 'none';\n",
              "    })();\n",
              "  </script>\n",
              "</div>\n",
              "\n",
              "  <div id=\"id_7db0eb3d-0f60-45d9-86dc-9a0c7fa2d470\">\n",
              "    <style>\n",
              "      .colab-df-generate {\n",
              "        background-color: #E8F0FE;\n",
              "        border: none;\n",
              "        border-radius: 50%;\n",
              "        cursor: pointer;\n",
              "        display: none;\n",
              "        fill: #1967D2;\n",
              "        height: 32px;\n",
              "        padding: 0 0 0 0;\n",
              "        width: 32px;\n",
              "      }\n",
              "\n",
              "      .colab-df-generate:hover {\n",
              "        background-color: #E2EBFA;\n",
              "        box-shadow: 0px 1px 2px rgba(60, 64, 67, 0.3), 0px 1px 3px 1px rgba(60, 64, 67, 0.15);\n",
              "        fill: #174EA6;\n",
              "      }\n",
              "\n",
              "      [theme=dark] .colab-df-generate {\n",
              "        background-color: #3B4455;\n",
              "        fill: #D2E3FC;\n",
              "      }\n",
              "\n",
              "      [theme=dark] .colab-df-generate:hover {\n",
              "        background-color: #434B5C;\n",
              "        box-shadow: 0px 1px 3px 1px rgba(0, 0, 0, 0.15);\n",
              "        filter: drop-shadow(0px 1px 2px rgba(0, 0, 0, 0.3));\n",
              "        fill: #FFFFFF;\n",
              "      }\n",
              "    </style>\n",
              "    <button class=\"colab-df-generate\" onclick=\"generateWithVariable('false_row')\"\n",
              "            title=\"Generate code using this dataframe.\"\n",
              "            style=\"display:none;\">\n",
              "\n",
              "  <svg xmlns=\"http://www.w3.org/2000/svg\" height=\"24px\"viewBox=\"0 0 24 24\"\n",
              "       width=\"24px\">\n",
              "    <path d=\"M7,19H8.4L18.45,9,17,7.55,7,17.6ZM5,21V16.75L18.45,3.32a2,2,0,0,1,2.83,0l1.4,1.43a1.91,1.91,0,0,1,.58,1.4,1.91,1.91,0,0,1-.58,1.4L9.25,21ZM18.45,9,17,7.55Zm-12,3A5.31,5.31,0,0,0,4.9,8.1,5.31,5.31,0,0,0,1,6.5,5.31,5.31,0,0,0,4.9,4.9,5.31,5.31,0,0,0,6.5,1,5.31,5.31,0,0,0,8.1,4.9,5.31,5.31,0,0,0,12,6.5,5.46,5.46,0,0,0,6.5,12Z\"/>\n",
              "  </svg>\n",
              "    </button>\n",
              "    <script>\n",
              "      (() => {\n",
              "      const buttonEl =\n",
              "        document.querySelector('#id_7db0eb3d-0f60-45d9-86dc-9a0c7fa2d470 button.colab-df-generate');\n",
              "      buttonEl.style.display =\n",
              "        google.colab.kernel.accessAllowed ? 'block' : 'none';\n",
              "\n",
              "      buttonEl.onclick = () => {\n",
              "        google.colab.notebook.generateWithVariable('false_row');\n",
              "      }\n",
              "      })();\n",
              "    </script>\n",
              "  </div>\n",
              "\n",
              "    </div>\n",
              "  </div>\n"
            ],
            "application/vnd.google.colaboratory.intrinsic+json": {
              "type": "dataframe",
              "variable_name": "false_row"
            }
          },
          "metadata": {},
          "execution_count": 45
        }
      ],
      "source": [
        "#получим индексы ложнопредсказанных точек\n",
        "y_pred = gradient_boosting_model_new.predict(X_test)\n",
        "#получим массив индексов таких точек\n",
        "false_predictions = np.where(y_pred != y_test)[0]\n",
        "false_predictions\n",
        "#найдем строки с тамики индексами в нашем датасете\n",
        "false_row = df_total.iloc[false_predictions]\n",
        "false_row"
      ]
    },
    {
      "cell_type": "code",
      "execution_count": 46,
      "metadata": {
        "id": "fUKXLPn3WkJx",
        "colab": {
          "base_uri": "https://localhost:8080/"
        },
        "outputId": "639983f8-23f1-4f02-c261-0391af5a3563"
      },
      "outputs": [
        {
          "output_type": "stream",
          "name": "stdout",
          "text": [
            "    Akkermansia_muciniphila  Faecalibacterium_prausnitzii  Prevotella_copri  \\\n",
            "21                      NaN                           NaN               NaN   \n",
            "23                      NaN                           NaN               NaN   \n",
            "78                 2.163093                      4.576924          2.541073   \n",
            "\n",
            "    Fusobacterium_nucleatum  Index  \n",
            "21                  1.50853    NaN  \n",
            "23                  1.50853    NaN  \n",
            "78                      NaN    1.0  \n"
          ]
        }
      ],
      "source": [
        "#проверим, есть ли вообще в колонках ненулевые значения\n",
        "non_zero_values = false_row.applymap(lambda x: x if x != 0 else np.nan).dropna(axis=1, how='all')\n",
        "print(non_zero_values)\n"
      ]
    },
    {
      "cell_type": "markdown",
      "metadata": {
        "id": "PHINv346SoH8"
      },
      "source": [
        "**Почему данный образец был ошибочно классифицирован?** Как мы видим, данная строка содержит числовые значения всего одного признака из 131, что дает слишком мало информации об исследуемом образце для корректной работы модели."
      ]
    },
    {
      "cell_type": "markdown",
      "metadata": {
        "id": "AnWHklDWbgn8"
      },
      "source": [
        "###**14. Сохраним нашу модель**"
      ]
    },
    {
      "cell_type": "code",
      "execution_count": 47,
      "metadata": {
        "id": "jWS6RjeRbi9C"
      },
      "outputs": [],
      "source": [
        "gastr_or_healthy_classification_model = gradient_boosting_model_new"
      ]
    },
    {
      "cell_type": "code",
      "execution_count": 48,
      "metadata": {
        "id": "mWQDFTqXbjAD",
        "colab": {
          "base_uri": "https://localhost:8080/"
        },
        "outputId": "42fbe10e-e6cf-4a57-c5a8-d4b4f82ef14d"
      },
      "outputs": [
        {
          "output_type": "execute_result",
          "data": {
            "text/plain": [
              "['/content/drive/MyDrive/данные для петпроджекта/gastr_or_healthy_classification_model.joblib']"
            ]
          },
          "metadata": {},
          "execution_count": 48
        }
      ],
      "source": [
        "#сохранение модели\n",
        "\n",
        "from joblib import dump, load\n",
        "\n",
        "dump(gastr_or_healthy_classification_model, '/content/drive/MyDrive/данные для петпроджекта/gastr_or_healthy_classification_model.joblib')\n"
      ]
    },
    {
      "cell_type": "markdown",
      "metadata": {
        "id": "htV2h91cYX1Z"
      },
      "source": [
        "###**15. Определим, какие виды бактерий больше всего влияют на результат классификации и на основе этой информации создадим шаблон для загрузки новых данных в нашу модель**"
      ]
    },
    {
      "cell_type": "markdown",
      "source": [
        "**Оценка корреляции признаков**\n",
        "\n",
        "\n",
        "\n"
      ],
      "metadata": {
        "id": "T8sqIdwAGUGe"
      }
    },
    {
      "cell_type": "code",
      "source": [
        "feature_importances = gradient_boosting_model_new.feature_importances_\n",
        "\n",
        "\n",
        "feature_names = X_train.columns\n",
        "importances_df = pd.DataFrame({\n",
        "    'Feature': feature_names,\n",
        "    'Importance': feature_importances\n",
        "})\n",
        "\n",
        "\n",
        "importances_df = importances_df.sort_values(by='Importance', ascending=False)\n",
        "importances_df = importances_df.reset_index(drop=True)\n",
        "print(importances_df.head(50))\n"
      ],
      "metadata": {
        "colab": {
          "base_uri": "https://localhost:8080/"
        },
        "outputId": "798d76d3-ed86-4025-8e86-92b2538da52c",
        "id": "4a3dtNe8Gjiu"
      },
      "execution_count": 49,
      "outputs": [
        {
          "output_type": "stream",
          "name": "stdout",
          "text": [
            "                                              Feature  Importance\n",
            "0                        Faecalibacterium_prausnitzii    0.234292\n",
            "1                                Bacteroides_vulgatus    0.126877\n",
            "2                          Bacteroides_dorei/vulgatus    0.093939\n",
            "3                               Bacteroides_uniformis    0.068613\n",
            "4                              Parabacteroides_merdae    0.047032\n",
            "5                    Faecalibacterium_cf./prausnitzii    0.046355\n",
            "6                                 Desulfovibrio_piger    0.038738\n",
            "7                       Phascolarctobacterium_faecium    0.035671\n",
            "8                             Akkermansia_muciniphila    0.034958\n",
            "9                           Lachnospira_pectinoschiza    0.026034\n",
            "10                            Collinsella_aerofaciens    0.021206\n",
            "11                               Alistipes_putredinis    0.018873\n",
            "12                                   Prevotella_copri    0.017631\n",
            "13                            Fusobacterium_nucleatum    0.015584\n",
            "14                   Alistipes_finegoldii/onderdonkii    0.014990\n",
            "15                              Lactobacillus_ruminis    0.014815\n",
            "16                                  Dialister_invisus    0.012981\n",
            "17                                 Bacteroides_ovatus    0.012217\n",
            "18                                 Bacteroides_caccae    0.012158\n",
            "19     Bifidobacterium_adolescentis/faecale/stercoris    0.011310\n",
            "20                               Bacteroides_fragilis    0.011007\n",
            "21                          Sutterella_wadsworthensis    0.009084\n",
            "22  Escherichia/Shigella_albertii/boydii/coli/dyse...    0.008901\n",
            "23                   Parasutterella_excrementihominis    0.007766\n",
            "24          Bacteroides_cellulosilyticus/intestinalis    0.007612\n",
            "25                         Parabacteroides_distasonis    0.006667\n",
            "26  Bifidobacterium_catenulatum/kashiwanohense/pse...    0.005108\n",
            "27                              Holdemanella_biformis    0.004613\n",
            "28                           Odoribacter_splanchnicus    0.004127\n",
            "29                              Bacteroides_eggerthii    0.003287\n",
            "30              Erysipelotrichaceae_UCG-003_bacterium    0.003273\n",
            "31                             Bifidobacterium_longum    0.003127\n",
            "32                           Bacteroides_massiliensis    0.003059\n",
            "33                       Bacteroides_thetaiotaomicron    0.002968\n",
            "34                               Coprococcus_eutactus    0.001760\n",
            "35                        Bacteroides_fragilis/ovatus    0.001440\n",
            "36                                  Coprococcus_comes    0.001076\n",
            "37  Bifidobacterium_adolescentis/faecale/ruminanti...    0.001056\n",
            "38                                Ruminococcus_bromii    0.000999\n",
            "39         Bacteroides_thetaiotaomicron/xylanisolvens    0.000975\n",
            "40                             Roseburia_intestinalis    0.000968\n",
            "41                            Roseburia_inulinivorans    0.000831\n",
            "42                               Bacteroides_plebeius    0.000823\n",
            "43                    Fusicatenibacter_saccharivorans    0.000822\n",
            "44                 Bacteroides_fragilis/xylanisolvens    0.000775\n",
            "45                             Blautia_obeum/wexlerae    0.000657\n",
            "46                            Bifidobacterium_dentium    0.000467\n",
            "47                                    Alistipes_inops    0.000379\n",
            "48                         Bacteroides_dorei/fragilis    0.000344\n",
            "49                                Anaerostipes_hadrus    0.000332\n"
          ]
        }
      ]
    },
    {
      "cell_type": "code",
      "execution_count": 50,
      "metadata": {
        "id": "_IiKlVuyARdo",
        "colab": {
          "base_uri": "https://localhost:8080/"
        },
        "outputId": "eb819b5a-9714-44d4-8925-780f911b2153"
      },
      "outputs": [
        {
          "output_type": "execute_result",
          "data": {
            "text/plain": [
              "['Faecalibacterium_prausnitzii',\n",
              " 'Bacteroides_vulgatus',\n",
              " 'Bacteroides_dorei/vulgatus',\n",
              " 'Bacteroides_uniformis',\n",
              " 'Parabacteroides_merdae',\n",
              " 'Faecalibacterium_cf./prausnitzii',\n",
              " 'Desulfovibrio_piger',\n",
              " 'Phascolarctobacterium_faecium',\n",
              " 'Akkermansia_muciniphila',\n",
              " 'Lachnospira_pectinoschiza',\n",
              " 'Collinsella_aerofaciens',\n",
              " 'Alistipes_putredinis',\n",
              " 'Prevotella_copri',\n",
              " 'Fusobacterium_nucleatum',\n",
              " 'Alistipes_finegoldii/onderdonkii',\n",
              " 'Lactobacillus_ruminis',\n",
              " 'Dialister_invisus',\n",
              " 'Bacteroides_ovatus',\n",
              " 'Bacteroides_caccae',\n",
              " 'Bifidobacterium_adolescentis/faecale/stercoris',\n",
              " 'Bacteroides_fragilis',\n",
              " 'Sutterella_wadsworthensis',\n",
              " 'Escherichia/Shigella_albertii/boydii/coli/dysenteriae/fergusonii/flexneri/marmotae/sonnei',\n",
              " 'Parasutterella_excrementihominis',\n",
              " 'Bacteroides_cellulosilyticus/intestinalis',\n",
              " 'Parabacteroides_distasonis',\n",
              " 'Bifidobacterium_catenulatum/kashiwanohense/pseudocatenulatum',\n",
              " 'Holdemanella_biformis',\n",
              " 'Odoribacter_splanchnicus',\n",
              " 'Bacteroides_eggerthii',\n",
              " 'Erysipelotrichaceae_UCG-003_bacterium',\n",
              " 'Bifidobacterium_longum',\n",
              " 'Bacteroides_massiliensis',\n",
              " 'Bacteroides_thetaiotaomicron',\n",
              " 'Coprococcus_eutactus',\n",
              " 'Bacteroides_fragilis/ovatus',\n",
              " 'Coprococcus_comes',\n",
              " 'Bifidobacterium_adolescentis/faecale/ruminantium/stercoris',\n",
              " 'Ruminococcus_bromii',\n",
              " 'Bacteroides_thetaiotaomicron/xylanisolvens',\n",
              " 'Roseburia_intestinalis',\n",
              " 'Roseburia_inulinivorans',\n",
              " 'Bacteroides_plebeius',\n",
              " 'Fusicatenibacter_saccharivorans',\n",
              " 'Bacteroides_fragilis/xylanisolvens',\n",
              " 'Blautia_obeum/wexlerae',\n",
              " 'Bifidobacterium_dentium',\n",
              " 'Alistipes_inops',\n",
              " 'Bacteroides_dorei/fragilis',\n",
              " 'Anaerostipes_hadrus',\n",
              " 'Streptococcus_anginosus/milleri/mitis',\n",
              " 'Bacteroides_fragilis/koreensis/kribbi/ovatus',\n",
              " 'Prevotella_timonensis',\n",
              " 'Alistipes_finegoldii',\n",
              " 'Barnesiella_intestinihominis',\n",
              " 'Phascolarctobacterium_succinatutens',\n",
              " 'Dialister_succinatiphilus',\n",
              " 'Ruminococcus_bicirculans',\n",
              " 'Blautia_obeum',\n",
              " 'Veillonella_dispar/parvula',\n",
              " 'Blautia_faecis',\n",
              " 'Bacteroides_stercoris',\n",
              " 'Lachnospiraceae_NK4A136_group_bacterium',\n",
              " 'Coprobacter_fastidiosus',\n",
              " 'Bacteroides_finegoldii',\n",
              " 'Slackia_isoflavoniconvertens',\n",
              " 'Porphyromonas_asaccharolytica',\n",
              " 'Alistipes_shahii',\n",
              " 'Lactobacillus_crispatus/gasseri/helveticus/johnsonii/kefiranofaciens/paragasseri',\n",
              " 'Bacteroides_intestinalis',\n",
              " 'Bacteroides_coprocola',\n",
              " 'Bacteroides_salyersiae',\n",
              " 'Roseburia_faecis',\n",
              " 'Bacteroides_ovatus/xylanisolvens',\n",
              " 'Cloacibacillus_evryensis',\n",
              " 'Bacteroides_coprophilus',\n",
              " 'Bacteroides_clarus',\n",
              " 'Bilophila_wadsworthia',\n",
              " 'Megamonas_funiformis',\n",
              " 'Parabacteroides_johnsonii',\n",
              " 'Erysipelatoclostridium_ramosum',\n",
              " 'Streptococcus_lutetiensis/salivarius/thermophilus',\n",
              " 'Alistipes_massiliensis',\n",
              " 'Alistipes_ihumii',\n",
              " 'Actinomyces_turicensis',\n",
              " 'Clostridium_sensu_stricto_1_perfringens/thermophilus',\n",
              " 'Haemophilus_influenzae/parainfluenzae',\n",
              " 'Acidaminococcus_intestini',\n",
              " 'Lactobacillus_phage/plantarum/reuteri/salivarius',\n",
              " 'Ruminococcus_champanellensis',\n",
              " 'Monoglobus_pectinilyticus',\n",
              " 'Parasutterella_secunda',\n",
              " 'Dorea_longicatena',\n",
              " 'Eisenbergiella_massiliensis',\n",
              " 'Alistipes_obesi',\n",
              " 'Lachnoclostridium_urinimassiliense',\n",
              " 'Dorea_formicigenerans',\n",
              " 'Catenibacterium_mitsuokai',\n",
              " 'Streptococcus_alactolyticus/equinus/gallolyticus/macedonicus/pasteuri/pasteurianus',\n",
              " 'Fusobacterium_ulcerans/varium',\n",
              " 'Enterococcus_azikeevi/casseliflavus/durans/faecalis/faecium/hirae/lactis/mundtii/raffinosus/ratti/rivorum/thailandicus/villorum',\n",
              " 'Lactobacillus_fermentum/gasseri/reuteri/vaginalis',\n",
              " 'Blautia_coccoides/hansenii/marasmi/producta',\n",
              " 'Bacteroides_dorei',\n",
              " 'Lactococcus_formosensis/garvieae/lactis',\n",
              " 'Megasphaera_elsdenii',\n",
              " 'Blautia_massiliensis',\n",
              " 'Lactobacillus_brevis/casei/delbrueckii/paracasei/rhamnosus',\n",
              " 'Escherichia/Shigella_coli',\n",
              " 'Butyricimonas_virosa',\n",
              " 'Blautia_faecis/glucerasea/phocaeensis',\n",
              " 'Bifidobacterium_pullorum/saeculare/subtile',\n",
              " 'Bacteroides_rodentium',\n",
              " 'Flavonifractor_plautii',\n",
              " 'Intestinibacter_bartlettii',\n",
              " 'Klebsiella_aerogenes/oxytoca/pneumoniae/quasivariicola/variicola',\n",
              " 'Klebsiella spp.',\n",
              " 'Bacteroides_fragilis/ovatus/xylanisolvens',\n",
              " 'Mitsuokella_jalaludinii',\n",
              " 'Negativibacillus_massiliensis',\n",
              " 'Bacteroides_faecis/thetaiotaomicron',\n",
              " 'Parabacteroides_goldsteinii',\n",
              " 'Romboutsia_ilealis/timonensis',\n",
              " 'Roseburia_hominis',\n",
              " 'Bacteroides_barnesiae',\n",
              " 'Streptococcus_mitis/parasanguinis',\n",
              " 'Alistipes_indistinctus',\n",
              " 'Eggerthella_lenta',\n",
              " 'Weissella_cibaria/confusa/koreensis/minor']"
            ]
          },
          "metadata": {},
          "execution_count": 50
        }
      ],
      "source": [
        "#посмотрим корреляцию признаков и отклика (какие признаки больше других влияют на отклик)\n",
        "\n",
        "col_names = importances_df['Feature'].tolist()\n",
        "col_names"
      ]
    },
    {
      "cell_type": "code",
      "execution_count": 51,
      "metadata": {
        "id": "bhjTqyFzAa08"
      },
      "outputs": [],
      "source": [
        "#создаем шаблон датафрейма, в самом начале которого располагаются самые важные поля для заполнения (они больше всего влияют на результат)\n",
        "new_data = pd.DataFrame()\n",
        "for i in col_names:\n",
        "  new_data1 = pd.DataFrame(({i: [ ]}))\n",
        "  new_data = pd.concat([new_data, new_data1], axis=1)\n",
        "new_data\n",
        "\n",
        "#сохраним датафрейм\n",
        "new_data.to_excel('/content/drive/MyDrive/данные для петпроджекта/шаблон для загрузки новых данных.xlsx')\n"
      ]
    }
  ],
  "metadata": {
    "colab": {
      "provenance": [],
      "mount_file_id": "1iBZ8xplIl2Ks_vzYyZhrya9uQ62gv7WQ",
      "authorship_tag": "ABX9TyNINTXLwBivmw3X+/wZsE4X",
      "include_colab_link": true
    },
    "kernelspec": {
      "display_name": "Python 3",
      "name": "python3"
    },
    "language_info": {
      "name": "python"
    }
  },
  "nbformat": 4,
  "nbformat_minor": 0
}
