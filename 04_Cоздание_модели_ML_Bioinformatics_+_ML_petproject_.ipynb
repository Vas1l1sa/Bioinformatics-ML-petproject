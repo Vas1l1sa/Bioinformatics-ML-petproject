{
  "cells": [
    {
      "cell_type": "markdown",
      "metadata": {
        "id": "view-in-github",
        "colab_type": "text"
      },
      "source": [
        "<a href=\"https://colab.research.google.com/github/Vas1l1sa/Bioinformatics-ML-petproject/blob/main/04_C%D0%BE%D0%B7%D0%B4%D0%B0%D0%BD%D0%B8%D0%B5_%D0%BC%D0%BE%D0%B4%D0%B5%D0%BB%D0%B8_ML_Bioinformatics_%2B_ML_petproject_.ipynb\" target=\"_parent\"><img src=\"https://colab.research.google.com/assets/colab-badge.svg\" alt=\"Open In Colab\"/></a>"
      ]
    },
    {
      "cell_type": "code",
      "execution_count": 1,
      "metadata": {
        "id": "7U_AdtPkG4qQ"
      },
      "outputs": [],
      "source": [
        "import pandas as pd\n",
        "import numpy as np\n",
        "import seaborn as sns\n",
        "import matplotlib.pyplot as plt\n",
        "import sklearn\n"
      ]
    },
    {
      "cell_type": "code",
      "execution_count": 2,
      "metadata": {
        "id": "65TyiRakXmSn"
      },
      "outputs": [],
      "source": [
        "import warnings\n",
        "warnings.filterwarnings(\"ignore\", category=FutureWarning)\n",
        "warnings.filterwarnings(\"ignore\", category=RuntimeWarning)\n",
        "\n",
        "from sklearn.exceptions import FitFailedWarning\n",
        "warnings.simplefilter(\"ignore\", FitFailedWarning)\n"
      ]
    },
    {
      "cell_type": "markdown",
      "metadata": {
        "id": "emnANW3VUTbb"
      },
      "source": [
        "### Как разделить здоровых людей и людей с гастритом на основании различий в их микробиоте кишечника?\n",
        "\n"
      ]
    },
    {
      "cell_type": "markdown",
      "metadata": {
        "id": "5t25ldFwJDoZ"
      },
      "source": [
        "**Будем осуществлять supervised learning для задачи классификации с использованием следующих моделей машинного обучения:**\n",
        "\n",
        "**1.   Логистическая регрессия**\n",
        "\n",
        "**2.   KNN**\n",
        "\n",
        "**3.   SVM**\n",
        "\n",
        "**4.   Базовые деревья решений**\n",
        "\n",
        "**5.   Random forests**\n",
        "\n",
        "**6.   Boosting и AdaBoosting**\n",
        "\n",
        "**7.   Градиентный бустинг**\n",
        "\n",
        "\n",
        "\n",
        "\n"
      ]
    },
    {
      "cell_type": "markdown",
      "metadata": {
        "id": "LEY2qqpptFKO"
      },
      "source": [
        "###**1. Общая подготовка данных перед машинным обучением**"
      ]
    },
    {
      "cell_type": "code",
      "execution_count": 3,
      "metadata": {
        "id": "GuPRbdwipc0a"
      },
      "outputs": [],
      "source": [
        "#загрузим полученные ранее датасеты\n",
        "df = pd.read_csv('/content/drive/MyDrive/данные для петпроджекта/df.csv')\n",
        "df_healthy = pd.read_csv('/content/drive/MyDrive/данные для петпроджекта/df_healthy.csv')\n",
        "df_total = pd.read_csv('/content/drive/MyDrive/данные для петпроджекта/df_total.csv')"
      ]
    },
    {
      "cell_type": "code",
      "execution_count": 4,
      "metadata": {
        "colab": {
          "base_uri": "https://localhost:8080/"
        },
        "id": "4eTn6nWKx0Qn",
        "outputId": "a6322c89-d4c2-49fb-dede-e6723ea4f2e5"
      },
      "outputs": [
        {
          "output_type": "execute_result",
          "data": {
            "text/plain": [
              "274"
            ]
          },
          "metadata": {},
          "execution_count": 4
        }
      ],
      "source": [
        "len(df_total)"
      ]
    },
    {
      "cell_type": "code",
      "execution_count": 5,
      "metadata": {
        "id": "zCBOg6rPqoLN"
      },
      "outputs": [],
      "source": [
        "#разделим данные на признаки и отклик\n",
        "\n",
        "X = df_total.drop(['Index'], axis=1)\n",
        "y = df_total['Index']\n"
      ]
    },
    {
      "cell_type": "markdown",
      "metadata": {
        "id": "bMYjVLd9wv00"
      },
      "source": [
        "**В данной задаче нормировка признаков не требуется, т.к. все данные в датасете - процентное содержание того или иного вида в образце, т.е. по сути они уже отнормированы**"
      ]
    },
    {
      "cell_type": "code",
      "execution_count": 6,
      "metadata": {
        "colab": {
          "base_uri": "https://localhost:8080/",
          "height": 398
        },
        "id": "hnGJjmr4wHk5",
        "outputId": "782bc177-fa08-475d-89a7-20ccfde4e4fa"
      },
      "outputs": [
        {
          "output_type": "execute_result",
          "data": {
            "text/plain": [
              "not_null_sum                        0.858964\n",
              "Faecalibacterium_prausnitzii        0.699834\n",
              "Bacteroides_vulgatus                0.417186\n",
              "Bacteroides_dorei/vulgatus          0.411259\n",
              "Phascolarctobacterium_faecium       0.408868\n",
              "Parabacteroides_merdae              0.397475\n",
              "Lachnospira_pectinoschiza           0.367726\n",
              "Bacteroides_uniformis               0.363811\n",
              "Collinsella_aerofaciens             0.350600\n",
              "Faecalibacterium_cf./prausnitzii    0.346576\n",
              "Name: Index, dtype: float64"
            ],
            "text/html": [
              "<div>\n",
              "<style scoped>\n",
              "    .dataframe tbody tr th:only-of-type {\n",
              "        vertical-align: middle;\n",
              "    }\n",
              "\n",
              "    .dataframe tbody tr th {\n",
              "        vertical-align: top;\n",
              "    }\n",
              "\n",
              "    .dataframe thead th {\n",
              "        text-align: right;\n",
              "    }\n",
              "</style>\n",
              "<table border=\"1\" class=\"dataframe\">\n",
              "  <thead>\n",
              "    <tr style=\"text-align: right;\">\n",
              "      <th></th>\n",
              "      <th>Index</th>\n",
              "    </tr>\n",
              "  </thead>\n",
              "  <tbody>\n",
              "    <tr>\n",
              "      <th>not_null_sum</th>\n",
              "      <td>0.858964</td>\n",
              "    </tr>\n",
              "    <tr>\n",
              "      <th>Faecalibacterium_prausnitzii</th>\n",
              "      <td>0.699834</td>\n",
              "    </tr>\n",
              "    <tr>\n",
              "      <th>Bacteroides_vulgatus</th>\n",
              "      <td>0.417186</td>\n",
              "    </tr>\n",
              "    <tr>\n",
              "      <th>Bacteroides_dorei/vulgatus</th>\n",
              "      <td>0.411259</td>\n",
              "    </tr>\n",
              "    <tr>\n",
              "      <th>Phascolarctobacterium_faecium</th>\n",
              "      <td>0.408868</td>\n",
              "    </tr>\n",
              "    <tr>\n",
              "      <th>Parabacteroides_merdae</th>\n",
              "      <td>0.397475</td>\n",
              "    </tr>\n",
              "    <tr>\n",
              "      <th>Lachnospira_pectinoschiza</th>\n",
              "      <td>0.367726</td>\n",
              "    </tr>\n",
              "    <tr>\n",
              "      <th>Bacteroides_uniformis</th>\n",
              "      <td>0.363811</td>\n",
              "    </tr>\n",
              "    <tr>\n",
              "      <th>Collinsella_aerofaciens</th>\n",
              "      <td>0.350600</td>\n",
              "    </tr>\n",
              "    <tr>\n",
              "      <th>Faecalibacterium_cf./prausnitzii</th>\n",
              "      <td>0.346576</td>\n",
              "    </tr>\n",
              "  </tbody>\n",
              "</table>\n",
              "</div><br><label><b>dtype:</b> float64</label>"
            ]
          },
          "metadata": {},
          "execution_count": 6
        }
      ],
      "source": [
        "#посмотрим корреляцию признаков и отклика (какие признаки больше других влияют на отклик)\n",
        "\n",
        "np.abs(df_total.corr()['Index']).sort_values(ascending=False).drop('Index').head(10)\n"
      ]
    },
    {
      "cell_type": "markdown",
      "metadata": {
        "id": "zTiWOfQixNw0"
      },
      "source": [
        "**Ввиду того, что датасет получился довольно маленьким, сделаем разбивку данных только на обучающую и тестовую выборки (без hold-out test set).**\n",
        "\n",
        "**Для подбора оптимальных гиперпараметров будем применять кросс-валидацию (GridSearchCV) для тестовой выборки, т.к. от изменения разбивки данных результаты ошибок тоже будут меняться.**"
      ]
    },
    {
      "cell_type": "code",
      "execution_count": 7,
      "metadata": {
        "id": "DEakQV_vrgEB"
      },
      "outputs": [],
      "source": [
        "#разделим данные на тренировочную и тестовую выборки\n",
        "\n",
        "from sklearn.model_selection import train_test_split\n",
        "\n",
        "X_train, X_test, y_train, y_test = train_test_split(X, y, test_size=0.3, random_state=42)\n"
      ]
    },
    {
      "cell_type": "markdown",
      "metadata": {
        "id": "Sja6I-hrp3GA"
      },
      "source": [
        "###**2. Создание модели бинарной классификации на основе алгоритма логистической регрессии**\n"
      ]
    },
    {
      "cell_type": "code",
      "execution_count": 8,
      "metadata": {
        "id": "AlukpuXbDuUF"
      },
      "outputs": [],
      "source": [
        "#создадим модель логистической регрессии и подберем оптимальные гиперпараметры при помощи поиска по сетке и кросс-валидации\n",
        "\n",
        "from sklearn.linear_model import LogisticRegressionCV\n",
        "test_model1 = LogisticRegressionCV(cv = 5, max_iter = 50000, random_state=42) #устанавливаем параметр random_state, чтобы при нескольких запусках GridSearchCV со скорректированным списком гиперпараметров результаты получались уточненными, а не совершенно новыми\n"
      ]
    },
    {
      "cell_type": "code",
      "execution_count": 9,
      "metadata": {
        "id": "rrKu9dMy57oX"
      },
      "outputs": [],
      "source": [
        "#посмотрим информацию по гиперпараметрам этого алгоритма и на основании нее составим словарь parem_grid\n",
        "#help(LogisticRegressionCV())"
      ]
    },
    {
      "cell_type": "code",
      "execution_count": 10,
      "metadata": {
        "colab": {
          "base_uri": "https://localhost:8080/"
        },
        "id": "bwtp_NHTvQr_",
        "outputId": "1e7bb460-6f07-4909-83b7-815051ed76b6"
      },
      "outputs": [
        {
          "output_type": "execute_result",
          "data": {
            "text/plain": [
              "{'Cs': 2, 'dual': False, 'solver': 'lbfgs'}"
            ]
          },
          "metadata": {},
          "execution_count": 10
        }
      ],
      "source": [
        "#сделаем поиск по сетке для нахождения оптимальных гиперпараметров\n",
        "\n",
        "from sklearn.model_selection import GridSearchCV\n",
        "param_grid1 = [\n",
        "    {'Cs': [1, 2, 3], 'solver': ['lbfgs', 'newton-cg', 'sag', 'saga'], 'dual': [False]},\n",
        "    {'Cs': [1, 2, 3], 'solver': ['liblinear'], 'dual': [True, False]},\n",
        "]\n",
        "#разбила param_grid1 на 2 части, чтобы не выпадали ошибки при переборе некоторых комбинаций solver и dual\n",
        "grid1 = GridSearchCV(test_model1, param_grid1, error_score=np.nan)\n",
        "\n",
        "grid1.fit(X_train, y_train)\n",
        "grid1.best_params_\n",
        "#{'Cs': 2, 'dual': False, 'solver': 'lbfgs'}"
      ]
    },
    {
      "cell_type": "code",
      "execution_count": 11,
      "metadata": {
        "colab": {
          "base_uri": "https://localhost:8080/"
        },
        "id": "k6FPnM1QETBW",
        "outputId": "40478b83-d62c-49d3-ea5c-fde501d337c6"
      },
      "outputs": [
        {
          "output_type": "execute_result",
          "data": {
            "text/plain": [
              "array([0., 1., 0., 0., 1., 1., 1., 1., 1., 0., 1., 1., 1., 1., 1., 1., 1.,\n",
              "       0., 0., 1., 0., 1., 1., 0., 1., 1., 0., 0., 0., 0., 0., 0., 0., 0.,\n",
              "       0., 1., 1., 1., 0., 0., 0., 0., 0., 0., 0., 1., 0., 1., 0., 1., 0.,\n",
              "       1., 1., 0., 1., 0., 1., 0., 0., 1., 1., 0., 0., 0., 0., 0., 1., 0.,\n",
              "       1., 0., 0., 1., 1., 1., 0., 1., 1., 0., 1., 0., 0., 0., 1.])"
            ]
          },
          "metadata": {},
          "execution_count": 11
        }
      ],
      "source": [
        "#создадим модель с найденными оптимальными гиперпараметрами\n",
        "logistic_regression_model = LogisticRegressionCV(cv = 5, max_iter = 50000, Cs = 2, dual=False, solver='lbfgs')\n",
        "logistic_regression_model.fit(X_train, y_train)\n",
        "y_pred1 = logistic_regression_model.predict(X_test)\n",
        "y_pred1"
      ]
    },
    {
      "cell_type": "markdown",
      "metadata": {
        "id": "5Mxx_lJtuMx3"
      },
      "source": [
        "###**3. Создание модели бинарной классификации на основе алгоритма KNN**"
      ]
    },
    {
      "cell_type": "code",
      "execution_count": 12,
      "metadata": {
        "id": "7QT14qk5uuW5"
      },
      "outputs": [],
      "source": [
        "#создадим модель логистической регрессии и подберем оптимальные гиперпараметры при помощи поиска по сетке и кросс-валидации\n",
        "from sklearn.neighbors import KNeighborsClassifier\n",
        "test_model2 = KNeighborsClassifier()"
      ]
    },
    {
      "cell_type": "code",
      "execution_count": 13,
      "metadata": {
        "id": "qh67S_I5uudr"
      },
      "outputs": [],
      "source": [
        "#help(KNeighborsClassifier)"
      ]
    },
    {
      "cell_type": "code",
      "execution_count": 14,
      "metadata": {
        "colab": {
          "base_uri": "https://localhost:8080/"
        },
        "id": "YMaP2J4nuua8",
        "outputId": "77d69909-2019-4b5d-c9e3-9f9e768e4b03"
      },
      "outputs": [
        {
          "output_type": "execute_result",
          "data": {
            "text/plain": [
              "{'n_neighbors': 1}"
            ]
          },
          "metadata": {},
          "execution_count": 14
        }
      ],
      "source": [
        "#сделаем поиск по сетке для нахождения оптимальных гиперпараметров\n",
        "from sklearn.model_selection import GridSearchCV\n",
        "\n",
        "param_grid2 = {'n_neighbors': list(range(1,20))}\n",
        "\n",
        "grid2 = GridSearchCV(test_model2, param_grid2, cv=5, scoring='accuracy')\n",
        "grid2.fit(X_train, y_train)\n",
        "grid2.best_params_\n",
        "#{'n_neighbors': 1}"
      ]
    },
    {
      "cell_type": "code",
      "execution_count": 15,
      "metadata": {
        "colab": {
          "base_uri": "https://localhost:8080/"
        },
        "id": "D0qXSh85xgKt",
        "outputId": "8743583b-6739-4ec9-ce2b-e58a8ed73dc5"
      },
      "outputs": [
        {
          "output_type": "execute_result",
          "data": {
            "text/plain": [
              "array([0., 1., 1., 0., 1., 1., 1., 1., 1., 0., 1., 1., 1., 1., 1., 1., 1.,\n",
              "       0., 0., 1., 0., 1., 1., 0., 1., 1., 0., 0., 0., 0., 0., 0., 0., 0.,\n",
              "       0., 1., 1., 1., 0., 0., 0., 0., 0., 0., 0., 1., 0., 1., 0., 1., 0.,\n",
              "       1., 1., 0., 1., 0., 1., 0., 0., 1., 1., 0., 0., 0., 0., 1., 1., 0.,\n",
              "       1., 0., 0., 1., 1., 1., 0., 1., 1., 0., 1., 0., 0., 0., 1.])"
            ]
          },
          "metadata": {},
          "execution_count": 15
        }
      ],
      "source": [
        "#создадим модель с найденными оптимальными гиперпараметрами\n",
        "knn_model = KNeighborsClassifier(n_neighbors=1)\n",
        "knn_model.fit(X_train, y_train)\n",
        "y_pred2 = knn_model.predict(X_test)\n",
        "y_pred2"
      ]
    },
    {
      "cell_type": "markdown",
      "metadata": {
        "id": "qoiHqeCnx91b"
      },
      "source": [
        "###**4. Создание модели бинарной классификации на основе алгоритма SVM**"
      ]
    },
    {
      "cell_type": "code",
      "execution_count": 16,
      "metadata": {
        "id": "Lor1apF0uugw"
      },
      "outputs": [],
      "source": [
        "#создадим модель логистической регрессии и подберем оптимальные гиперпараметры при помощи поиска по сетке и кросс-валидации\n",
        "from sklearn.svm import SVC\n",
        "test_model3 = SVC()\n",
        "\n"
      ]
    },
    {
      "cell_type": "code",
      "execution_count": 17,
      "metadata": {
        "id": "sMwEIjSZy2PX"
      },
      "outputs": [],
      "source": [
        "#help(SVC)"
      ]
    },
    {
      "cell_type": "code",
      "execution_count": 18,
      "metadata": {
        "colab": {
          "base_uri": "https://localhost:8080/"
        },
        "id": "H3bOTKduyoV_",
        "outputId": "f6b319e6-be51-4b2b-f8d3-62e40a7e51d8"
      },
      "outputs": [
        {
          "output_type": "execute_result",
          "data": {
            "text/plain": [
              "{'C': 0.01, 'kernel': 'linear'}"
            ]
          },
          "metadata": {},
          "execution_count": 18
        }
      ],
      "source": [
        "#сделаем поиск по сетке для нахождения оптимальных гиперпараметров\n",
        "from sklearn.model_selection import GridSearchCV\n",
        "\n",
        "param_grid3 = {'kernel': ['linear', 'poly', 'rbf', 'sigmoid'], 'C': [0.01, 0.1, 1, 1.2, 1.4, 1.45, 1.46, 1.465, 1.47, 1.475, 1.48, 1.5, 1.52, 1.55, 1.7, 2, 5, 10, 15, 20, 25, 30]}\n",
        "\n",
        "grid3 = GridSearchCV(test_model3, cv=5, param_grid = param_grid3, scoring='accuracy')\n",
        "grid3.fit(X_train, y_train)\n",
        "grid3.best_params_\n",
        "#когда мы получили какое-то предварительно хорошее значение 'C', потом обязательно добавляем в список для перебора ближайшие к этому числу значения и запускаем повторный поиск по сетке\n",
        "#{'C': 0.01, 'kernel': 'linear'}"
      ]
    },
    {
      "cell_type": "code",
      "execution_count": 19,
      "metadata": {
        "colab": {
          "base_uri": "https://localhost:8080/"
        },
        "id": "-1QWjPfw2__R",
        "outputId": "952354d1-7c03-4f2b-bfa8-953c2dd71a51"
      },
      "outputs": [
        {
          "output_type": "execute_result",
          "data": {
            "text/plain": [
              "array([0., 1., 1., 0., 1., 1., 1., 1., 1., 0., 1., 1., 1., 1., 1., 1., 1.,\n",
              "       0., 0., 1., 0., 0., 1., 1., 1., 1., 0., 0., 0., 0., 0., 0., 0., 0.,\n",
              "       0., 1., 1., 1., 0., 0., 0., 0., 0., 0., 0., 1., 0., 1., 0., 1., 0.,\n",
              "       1., 1., 0., 1., 0., 1., 0., 0., 1., 1., 0., 0., 0., 0., 0., 1., 0.,\n",
              "       1., 0., 0., 1., 1., 1., 0., 1., 1., 0., 1., 0., 0., 0., 1.])"
            ]
          },
          "metadata": {},
          "execution_count": 19
        }
      ],
      "source": [
        "#создадим модель с найденными оптимальными гиперпараметрами\n",
        "svm_model = SVC(C=0.01, kernel='linear')\n",
        "svm_model.fit(X_train, y_train)\n",
        "y_pred3 = svm_model.predict(X_test)\n",
        "y_pred3"
      ]
    },
    {
      "cell_type": "markdown",
      "metadata": {
        "id": "9Zypps6GmYM1"
      },
      "source": [
        "###**5. Создание модели бинарной классификации на основе алгоритма базовых деревьев решений**"
      ]
    },
    {
      "cell_type": "code",
      "execution_count": 20,
      "metadata": {
        "id": "ieH8PqcJpA1o"
      },
      "outputs": [],
      "source": [
        "#создадим модель логистической регрессии и подберем оптимальные гиперпараметры при помощи поиска по сетке и кросс-валидации\n",
        "from sklearn.tree import DecisionTreeClassifier\n",
        "test_model4 = DecisionTreeClassifier(random_state=42) #устанавливаем параметр random_state, чтобы при нескольких запусках GridSearchCV со скорректированным списком гиперпараметров результаты получались уточненными, а не совершенно новыми\n"
      ]
    },
    {
      "cell_type": "code",
      "execution_count": 21,
      "metadata": {
        "id": "XMl1OTLppseX"
      },
      "outputs": [],
      "source": [
        "#help(DecisionTreeClassifier())"
      ]
    },
    {
      "cell_type": "code",
      "execution_count": 22,
      "metadata": {
        "colab": {
          "base_uri": "https://localhost:8080/"
        },
        "id": "G5lTe_q5pshH",
        "outputId": "63a9c627-7211-41fe-ccb8-c569343e8d76"
      },
      "outputs": [
        {
          "output_type": "execute_result",
          "data": {
            "text/plain": [
              "{'criterion': 'entropy', 'max_depth': 3}"
            ]
          },
          "metadata": {},
          "execution_count": 22
        }
      ],
      "source": [
        "#сделаем поиск по сетке для нахождения оптимальных гиперпараметров\n",
        "from sklearn.model_selection import GridSearchCV\n",
        "param_grid4 = {'max_depth': [1, 2, 3, 4, 5, 6, 7, 8, 9, 10], 'criterion': [\"gini\", \"entropy\", \"log_loss\"]}\n",
        "grid4 = GridSearchCV(test_model4, param_grid4, cv=5, scoring='accuracy')\n",
        "grid4.fit(X_train, y_train)\n",
        "grid4.best_params_\n",
        "#{'criterion': 'entropy', 'max_depth': 3}"
      ]
    },
    {
      "cell_type": "code",
      "execution_count": 23,
      "metadata": {
        "colab": {
          "base_uri": "https://localhost:8080/"
        },
        "id": "FEaNLvAhrgRZ",
        "outputId": "dd921233-7cdc-4fa6-96d5-5ce5c67d9874"
      },
      "outputs": [
        {
          "output_type": "execute_result",
          "data": {
            "text/plain": [
              "array([0., 1., 1., 0., 1., 1., 1., 1., 1., 0., 1., 1., 1., 1., 1., 1., 1.,\n",
              "       0., 0., 1., 0., 1., 1., 0., 1., 1., 0., 0., 0., 0., 0., 0., 0., 0.,\n",
              "       0., 1., 1., 1., 0., 0., 0., 0., 0., 0., 0., 1., 0., 1., 0., 1., 0.,\n",
              "       1., 1., 0., 1., 0., 1., 0., 0., 1., 1., 0., 0., 0., 0., 1., 1., 0.,\n",
              "       1., 0., 0., 1., 1., 1., 0., 1., 1., 0., 1., 0., 0., 0., 1.])"
            ]
          },
          "metadata": {},
          "execution_count": 23
        }
      ],
      "source": [
        "#создадим модель с найденными оптимальными гиперпараметрами\n",
        "decision_tree_model = DecisionTreeClassifier(criterion='entropy', max_depth=3)\n",
        "decision_tree_model.fit(X_train, y_train)\n",
        "y_pred4 = decision_tree_model.predict(X_test)\n",
        "y_pred4"
      ]
    },
    {
      "cell_type": "markdown",
      "metadata": {
        "id": "XQLmNLt8mxb8"
      },
      "source": [
        "###**6. Создание модели бинарной классификации на основе алгоритма Random forests**"
      ]
    },
    {
      "cell_type": "code",
      "execution_count": 24,
      "metadata": {
        "id": "3zmY7rEcpi-_"
      },
      "outputs": [],
      "source": [
        "#создадим модель логистической регрессии и подберем оптимальные гиперпараметры при помощи поиска по сетке и кросс-валидации\n",
        "from sklearn.ensemble import RandomForestClassifier\n",
        "test_model5 = RandomForestClassifier(random_state=42) #устанавливаем параметр random_state, чтобы при нескольких запусках GridSearchCV со скорректированным списком гиперпараметров результаты получались уточненными, а не совершенно новыми"
      ]
    },
    {
      "cell_type": "code",
      "execution_count": 25,
      "metadata": {
        "id": "_c1bjiClHlC1"
      },
      "outputs": [],
      "source": [
        "#help(RandomForestClassifier())"
      ]
    },
    {
      "cell_type": "code",
      "execution_count": 26,
      "metadata": {
        "colab": {
          "base_uri": "https://localhost:8080/"
        },
        "id": "K47f1tilu6Ia",
        "outputId": "28073af7-9902-4bed-bea7-be604ec6cfab"
      },
      "outputs": [
        {
          "output_type": "execute_result",
          "data": {
            "text/plain": [
              "{'max_features': 'sqrt', 'n_estimators': 10}"
            ]
          },
          "metadata": {},
          "execution_count": 26
        }
      ],
      "source": [
        "#сделаем поиск по сетке для нахождения оптимальных гиперпараметров\n",
        "from sklearn.model_selection import GridSearchCV\n",
        "param_grid5 = {'n_estimators': [5, 6, 7, 8, 9, 10, 12, 15, 20, 30, 40, 45, 50, 55, 60, 65, 70, 75, 80, 90, 100, 120, 140, 200, 300, 400, 500], 'max_features': ['sqrt', 'log2']}\n",
        "grid5 = GridSearchCV(test_model5, param_grid5, cv=5, scoring='accuracy', error_score=np.nan)\n",
        "grid5.fit(X_train, y_train)\n",
        "grid5.best_params_\n",
        "#когда мы получили какое-то предварительно хорошее значение 'n_estimators', потом обязательно добавляем в список для перебора ближайшие к этому числу значения и запускаем повторный поиск по сетке\n",
        "#{'max_features': 'sqrt', 'n_estimators': 10}\n"
      ]
    },
    {
      "cell_type": "code",
      "execution_count": 27,
      "metadata": {
        "colab": {
          "base_uri": "https://localhost:8080/"
        },
        "id": "n6Hj22hNvrMy",
        "outputId": "8fe9d82a-fbf0-489d-90a0-e744b217f205"
      },
      "outputs": [
        {
          "output_type": "execute_result",
          "data": {
            "text/plain": [
              "array([0., 1., 1., 0., 1., 1., 1., 1., 1., 0., 1., 1., 1., 1., 1., 1., 1.,\n",
              "       0., 0., 1., 0., 1., 1., 0., 1., 1., 0., 0., 0., 0., 0., 0., 0., 0.,\n",
              "       0., 1., 1., 1., 0., 0., 0., 0., 0., 0., 0., 1., 0., 1., 0., 1., 0.,\n",
              "       1., 1., 0., 1., 0., 1., 0., 0., 1., 1., 0., 0., 0., 0., 0., 1., 0.,\n",
              "       1., 0., 0., 1., 1., 1., 0., 1., 1., 0., 1., 0., 0., 0., 1.])"
            ]
          },
          "metadata": {},
          "execution_count": 27
        }
      ],
      "source": [
        "#создадим модель с найденными оптимальными гиперпараметрами\n",
        "random_forest_model = RandomForestClassifier(max_features='sqrt', n_estimators=10)\n",
        "random_forest_model.fit(X_train, y_train)\n",
        "y_pred5 = random_forest_model.predict(X_test)\n",
        "y_pred5"
      ]
    },
    {
      "cell_type": "markdown",
      "metadata": {
        "id": "odBiE4y0mydr"
      },
      "source": [
        "###**7. Создание модели бинарной классификации на основе алгоритма Boosting и AdaBoosting**"
      ]
    },
    {
      "cell_type": "code",
      "execution_count": 28,
      "metadata": {
        "id": "6-QDtZkqpjoX"
      },
      "outputs": [],
      "source": [
        "#создадим модель логистической регрессии и подберем оптимальные гиперпараметры при помощи поиска по сетке и кросс-валидации\n",
        "from sklearn.ensemble import AdaBoostClassifier\n",
        "test_model6 = AdaBoostClassifier()\n"
      ]
    },
    {
      "cell_type": "code",
      "execution_count": 29,
      "metadata": {
        "id": "WwZbNYrK_6f-"
      },
      "outputs": [],
      "source": [
        "#help(AdaBoostClassifier())"
      ]
    },
    {
      "cell_type": "code",
      "execution_count": 30,
      "metadata": {
        "colab": {
          "base_uri": "https://localhost:8080/"
        },
        "id": "KTP_EiZF9bfN",
        "outputId": "474bb09e-fac4-4b22-c955-3660c1ec9789"
      },
      "outputs": [
        {
          "output_type": "execute_result",
          "data": {
            "text/plain": [
              "{'n_estimators': 30}"
            ]
          },
          "metadata": {},
          "execution_count": 30
        }
      ],
      "source": [
        "#сделаем поиск по сетке для нахождения оптимальных гиперпараметров\n",
        "from sklearn.model_selection import GridSearchCV\n",
        "\n",
        "param_grid6 = {'n_estimators': [5, 7, 8, 9, 10, 11, 12, 15, 20, 30, 40, 50, 60, 70, 80, 90, 100, 120, 150]}\n",
        "\n",
        "grid6 = GridSearchCV(test_model6, param_grid6, cv=5, scoring='accuracy')\n",
        "grid6.fit(X_train, y_train)\n",
        "grid6.best_params_\n",
        "#{'n_estimators': 30}"
      ]
    },
    {
      "cell_type": "code",
      "execution_count": 31,
      "metadata": {
        "id": "4tkVWel39doV",
        "colab": {
          "base_uri": "https://localhost:8080/"
        },
        "outputId": "eb7e28ba-7c92-466a-fe8a-c789388bc38e"
      },
      "outputs": [
        {
          "output_type": "execute_result",
          "data": {
            "text/plain": [
              "array([0., 1., 1., 0., 1., 1., 1., 1., 1., 0., 1., 1., 1., 1., 1., 1., 1.,\n",
              "       0., 0., 1., 0., 1., 1., 0., 1., 1., 0., 0., 0., 0., 0., 0., 0., 0.,\n",
              "       0., 1., 1., 1., 0., 0., 0., 0., 0., 0., 0., 1., 0., 1., 0., 1., 0.,\n",
              "       1., 1., 0., 1., 0., 1., 0., 0., 1., 1., 0., 0., 0., 0., 1., 1., 0.,\n",
              "       1., 0., 0., 1., 1., 1., 0., 1., 1., 0., 1., 0., 0., 0., 1.])"
            ]
          },
          "metadata": {},
          "execution_count": 31
        }
      ],
      "source": [
        "#создадим модель с найденными оптимальными гиперпараметрами\n",
        "ada_boosting_model = AdaBoostClassifier(n_estimators=30)\n",
        "ada_boosting_model.fit(X_train, y_train)\n",
        "y_pred6 = ada_boosting_model.predict(X_test)\n",
        "y_pred6"
      ]
    },
    {
      "cell_type": "markdown",
      "metadata": {
        "id": "49sNCV5dnAWU"
      },
      "source": [
        "###**8. Создание модели бинарной классификации на основе алгоритма градиентного бустинга**"
      ]
    },
    {
      "cell_type": "code",
      "execution_count": 32,
      "metadata": {
        "id": "xwyAfSwTpkPn"
      },
      "outputs": [],
      "source": [
        "#создадим модель логистической регрессии и подберем оптимальные гиперпараметры при помощи поиска по сетке и кросс-валидации\n",
        "\n",
        "from sklearn.ensemble import GradientBoostingClassifier\n",
        "test_model7 = GradientBoostingClassifier(random_state=42) #устанавливаем параметр random_state, чтобы при нескольких запусках GridSearchCV со скорректированным списком гиперпараметров результаты получались уточненными, а не совершенно новыми\n"
      ]
    },
    {
      "cell_type": "code",
      "execution_count": 33,
      "metadata": {
        "id": "alY5nW8oBld-"
      },
      "outputs": [],
      "source": [
        "#help(GradientBoostingClassifier())"
      ]
    },
    {
      "cell_type": "code",
      "execution_count": 34,
      "metadata": {
        "id": "B2AfQis3BllG",
        "colab": {
          "base_uri": "https://localhost:8080/"
        },
        "outputId": "d93761d2-b12e-4ede-86ee-bbec07855abe"
      },
      "outputs": [
        {
          "output_type": "execute_result",
          "data": {
            "text/plain": [
              "{'learning_rate': 0.0005,\n",
              " 'loss': 'exponential',\n",
              " 'max_depth': 10,\n",
              " 'max_features': 'log2',\n",
              " 'n_estimators': 118}"
            ]
          },
          "metadata": {},
          "execution_count": 34
        }
      ],
      "source": [
        "#сделаем поиск по сетке для нахождения оптимальных гиперпараметров\n",
        "from sklearn.model_selection import GridSearchCV\n",
        "#param_grid7 = {'n_estimators': [10, 30, 50, 90, 100, 115, 118, 119, 120, 121, 122, 125, 150], 'learning_rate': [0.0005, 0.001, 0.0015, 0.002, 0.005, 0.01], 'max_depth': [3, 4, 5, 6, 7, 8, 9, 10, 11, 12], 'max_features' : ['None', 'sqrt', 'log2'], 'loss' : ['log_loss', 'exponential']}\n",
        "param_grid7 = {'n_estimators': [118, 119, 120, 121, 122, 125], 'learning_rate': [0.0005, 0.001, 0.0015, 0.002], 'max_depth': [8, 9, 10, 11, 12], 'max_features' : ['log2'], 'loss' : ['exponential']}\n",
        "grid7 = GridSearchCV(test_model7, param_grid7, cv=5, scoring='accuracy')\n",
        "grid7.fit(X_train, y_train)\n",
        "grid7.best_params_\n",
        "#{'learning_rate': 0.0005,'loss': 'exponential','max_depth': 10,'max_features': 'log2','n_estimators': 118}"
      ]
    },
    {
      "cell_type": "code",
      "execution_count": 35,
      "metadata": {
        "id": "juUlqzE6FnSH",
        "colab": {
          "base_uri": "https://localhost:8080/"
        },
        "outputId": "e3dd02bf-c0b9-4a26-8605-b0b849195606"
      },
      "outputs": [
        {
          "output_type": "execute_result",
          "data": {
            "text/plain": [
              "array([0., 1., 1., 0., 1., 1., 1., 1., 1., 0., 1., 1., 1., 1., 1., 1., 1.,\n",
              "       0., 0., 1., 0., 0., 1., 0., 1., 1., 0., 0., 0., 0., 0., 0., 0., 0.,\n",
              "       0., 1., 1., 1., 0., 0., 0., 0., 0., 0., 0., 1., 0., 1., 0., 1., 0.,\n",
              "       1., 1., 0., 1., 0., 1., 0., 0., 1., 1., 0., 0., 0., 0., 0., 1., 0.,\n",
              "       1., 0., 0., 1., 1., 1., 0., 1., 1., 0., 1., 0., 0., 0., 1.])"
            ]
          },
          "metadata": {},
          "execution_count": 35
        }
      ],
      "source": [
        "#создадим модель с найденными оптимальными гиперпараметрами\n",
        "gradient_boosting_model = GradientBoostingClassifier(learning_rate=0.0005, loss='exponential', max_depth=10, max_features='log2', n_estimators=118)\n",
        "gradient_boosting_model.fit(X_train, y_train)\n",
        "y_pred7 = gradient_boosting_model.predict(X_test)\n",
        "y_pred7"
      ]
    },
    {
      "cell_type": "markdown",
      "metadata": {
        "id": "9Em4P8ED9SBG"
      },
      "source": [
        "###**9. Напишем функцию для сравнения всех этих моделей между собой**"
      ]
    },
    {
      "cell_type": "code",
      "execution_count": 36,
      "metadata": {
        "id": "BBss72yCiuFH",
        "colab": {
          "base_uri": "https://localhost:8080/",
          "height": 1000
        },
        "outputId": "89fb6aa6-9f1e-4c77-f4bf-fb783beeb5b8"
      },
      "outputs": [
        {
          "output_type": "stream",
          "name": "stdout",
          "text": [
            "Evaluating model: LogisticRegressionCV\n",
            "Accuracy: 0.9879518072289156\n",
            "\n",
            "\n",
            "              precision    recall  f1-score   support\n",
            "\n",
            "         0.0       0.98      1.00      0.99        43\n",
            "         1.0       1.00      0.97      0.99        40\n",
            "\n",
            "    accuracy                           0.99        83\n",
            "   macro avg       0.99      0.99      0.99        83\n",
            "weighted avg       0.99      0.99      0.99        83\n",
            "\n"
          ]
        },
        {
          "output_type": "display_data",
          "data": {
            "text/plain": [
              "<Figure size 640x480 with 2 Axes>"
            ],
            "image/png": "[encoded data removed]"
          },
          "metadata": {}
        },
        {
          "output_type": "stream",
          "name": "stdout",
          "text": [
            "\n",
            "\n",
            "Evaluating model: KNeighborsClassifier\n",
            "Accuracy: 0.9879518072289156\n",
            "\n",
            "\n",
            "              precision    recall  f1-score   support\n",
            "\n",
            "         0.0       1.00      0.98      0.99        43\n",
            "         1.0       0.98      1.00      0.99        40\n",
            "\n",
            "    accuracy                           0.99        83\n",
            "   macro avg       0.99      0.99      0.99        83\n",
            "weighted avg       0.99      0.99      0.99        83\n",
            "\n"
          ]
        },
        {
          "output_type": "display_data",
          "data": {
            "text/plain": [
              "<Figure size 640x480 with 2 Axes>"
            ],
            "image/png": "[encoded data removed]"
          },
          "metadata": {}
        },
        {
          "output_type": "stream",
          "name": "stdout",
          "text": [
            "\n",
            "\n",
            "Evaluating model: SVC\n",
            "Accuracy: 0.9759036144578314\n",
            "\n",
            "\n",
            "              precision    recall  f1-score   support\n",
            "\n",
            "         0.0       0.98      0.98      0.98        43\n",
            "         1.0       0.97      0.97      0.97        40\n",
            "\n",
            "    accuracy                           0.98        83\n",
            "   macro avg       0.98      0.98      0.98        83\n",
            "weighted avg       0.98      0.98      0.98        83\n",
            "\n"
          ]
        },
        {
          "output_type": "display_data",
          "data": {
            "text/plain": [
              "<Figure size 640x480 with 2 Axes>"
            ],
            "image/png": "[encoded data removed]"
          },
          "metadata": {}
        },
        {
          "output_type": "stream",
          "name": "stdout",
          "text": [
            "\n",
            "\n",
            "Evaluating model: DecisionTreeClassifier\n",
            "Accuracy: 0.9879518072289156\n",
            "\n",
            "\n",
            "              precision    recall  f1-score   support\n",
            "\n",
            "         0.0       1.00      0.98      0.99        43\n",
            "         1.0       0.98      1.00      0.99        40\n",
            "\n",
            "    accuracy                           0.99        83\n",
            "   macro avg       0.99      0.99      0.99        83\n",
            "weighted avg       0.99      0.99      0.99        83\n",
            "\n"
          ]
        },
        {
          "output_type": "display_data",
          "data": {
            "text/plain": [
              "<Figure size 640x480 with 2 Axes>"
            ],
            "image/png": "[encoded data removed]"
          },
          "metadata": {}
        },
        {
          "output_type": "stream",
          "name": "stdout",
          "text": [
            "\n",
            "\n",
            "Evaluating model: RandomForestClassifier\n",
            "Accuracy: 0.9759036144578314\n",
            "\n",
            "\n",
            "              precision    recall  f1-score   support\n",
            "\n",
            "         0.0       1.00      0.95      0.98        43\n",
            "         1.0       0.95      1.00      0.98        40\n",
            "\n",
            "    accuracy                           0.98        83\n",
            "   macro avg       0.98      0.98      0.98        83\n",
            "weighted avg       0.98      0.98      0.98        83\n",
            "\n"
          ]
        },
        {
          "output_type": "display_data",
          "data": {
            "text/plain": [
              "<Figure size 640x480 with 2 Axes>"
            ],
            "image/png": "[encoded data removed]"
          },
          "metadata": {}
        },
        {
          "output_type": "stream",
          "name": "stdout",
          "text": [
            "\n",
            "\n",
            "Evaluating model: AdaBoostClassifier\n",
            "Accuracy: 0.9879518072289156\n",
            "\n",
            "\n",
            "              precision    recall  f1-score   support\n",
            "\n",
            "         0.0       1.00      0.98      0.99        43\n",
            "         1.0       0.98      1.00      0.99        40\n",
            "\n",
            "    accuracy                           0.99        83\n",
            "   macro avg       0.99      0.99      0.99        83\n",
            "weighted avg       0.99      0.99      0.99        83\n",
            "\n"
          ]
        },
        {
          "output_type": "display_data",
          "data": {
            "text/plain": [
              "<Figure size 640x480 with 2 Axes>"
            ],
            "image/png": "[encoded data removed]"
          },
          "metadata": {}
        },
        {
          "output_type": "stream",
          "name": "stdout",
          "text": [
            "\n",
            "\n",
            "Evaluating model: GradientBoostingClassifier\n",
            "Accuracy: 0.9879518072289156\n",
            "\n",
            "\n",
            "              precision    recall  f1-score   support\n",
            "\n",
            "         0.0       0.98      1.00      0.99        43\n",
            "         1.0       1.00      0.97      0.99        40\n",
            "\n",
            "    accuracy                           0.99        83\n",
            "   macro avg       0.99      0.99      0.99        83\n",
            "weighted avg       0.99      0.99      0.99        83\n",
            "\n"
          ]
        },
        {
          "output_type": "display_data",
          "data": {
            "text/plain": [
              "<Figure size 640x480 with 2 Axes>"
            ],
            "image/png": "[encoded data removed]"
          },
          "metadata": {}
        },
        {
          "output_type": "stream",
          "name": "stdout",
          "text": [
            "\n",
            "\n"
          ]
        }
      ],
      "source": [
        "from sklearn.metrics import mean_absolute_error, mean_squared_error, accuracy_score, classification_report, confusion_matrix\n",
        "from sklearn.metrics import ConfusionMatrixDisplay\n",
        "\n",
        "def run_models(models, X_train, y_train, X_test, y_test):\n",
        "    for model in models:\n",
        "        print(f\"Evaluating model: {model.__class__.__name__}\")\n",
        "\n",
        "        model.fit(X_train, y_train)\n",
        "        y_pred = model.predict(X_test)\n",
        "\n",
        "        # Вычисление метрик\n",
        "        accuracy = accuracy_score(y_test, y_pred)\n",
        "\n",
        "        # Вывод метрик\n",
        "        print(f'Accuracy: {accuracy}')\n",
        "        print('\\n')\n",
        "        print(classification_report(y_test, y_pred))\n",
        "\n",
        "        # Построение матрицы ошибок\n",
        "\n",
        "        ConfusionMatrixDisplay.from_estimator(model, X_test, y_test)\n",
        "        plt.title('Confusion Matrix for the model')\n",
        "        plt.show()\n",
        "\n",
        "        print('\\n')\n",
        "\n",
        "# Пример использования:\n",
        "models = [logistic_regression_model, knn_model, svm_model, decision_tree_model, random_forest_model, ada_boosting_model, gradient_boosting_model]\n",
        "\n",
        "run_models(models, X_train, y_train, X_test, y_test)\n"
      ]
    },
    {
      "cell_type": "markdown",
      "metadata": {
        "id": "_D8bFqg4Xf4z"
      },
      "source": [
        "###**10. Напишем функцию для выбора наилучшей модели машинного обучения для этой задачи**"
      ]
    },
    {
      "cell_type": "markdown",
      "metadata": {
        "id": "qBYJXhJcnTR5"
      },
      "source": [
        "**Выберем модель, которая показала наилучшие результаты. В нашем датасете классы сбалансированы, поэтому для оценки моделей можно смотреть на показатель accuracy**"
      ]
    },
    {
      "cell_type": "code",
      "execution_count": 37,
      "metadata": {
        "id": "_rBfSsC5vzpx",
        "colab": {
          "base_uri": "https://localhost:8080/"
        },
        "outputId": "e5875fdc-95ff-40fb-e7ec-ce899ef73af2"
      },
      "outputs": [
        {
          "output_type": "stream",
          "name": "stdout",
          "text": [
            "Best model(s) by accuracy (1.0):\n",
            " - RandomForestClassifier \n",
            "\n"
          ]
        }
      ],
      "source": [
        "#посмотрим, у какой из воделей наилучшая метрика accuracy\n",
        "def best_accuracy(models, X_train, y_train, X_test, y_test):\n",
        "    best_accuracy = 0\n",
        "    models_with_best_accuracy = []\n",
        "\n",
        "    for model in models:\n",
        "        model.fit(X_train, y_train)\n",
        "        y_pred = model.predict(X_test)\n",
        "        accuracy = accuracy_score(y_test, y_pred)\n",
        "\n",
        "        if accuracy > best_accuracy:\n",
        "            best_accuracy = accuracy\n",
        "            models_with_best_accuracy = [model]\n",
        "        #посмотрим, нет ли моделей с одинаковым accuracy\n",
        "        elif accuracy == best_accuracy:\n",
        "          models_with_best_accuracy.append(model)\n",
        "\n",
        "    print(f\"Best model(s) by accuracy ({best_accuracy:}):\")\n",
        "    for model in models_with_best_accuracy:\n",
        "        print(f\" - {model.__class__.__name__}\", '\\n')\n",
        "    return models_with_best_accuracy\n",
        "\n",
        "\n",
        "models = [logistic_regression_model, knn_model, svm_model, decision_tree_model, random_forest_model, ada_boosting_model, gradient_boosting_model]\n",
        "best_models = best_accuracy(models, X_train, y_train, X_test, y_test)\n"
      ]
    },
    {
      "cell_type": "markdown",
      "metadata": {
        "id": "WWFEH9lG36w9"
      },
      "source": [
        "**Таким образом, сразу несколько моделей показали одинаковые результаты по метрике accuracy**"
      ]
    },
    {
      "cell_type": "markdown",
      "metadata": {
        "id": "zxYR1lucpNxq"
      },
      "source": [
        "###**11. Посмотрим на лучшие модели отдельно, чтобы выбрать какую-то одну**"
      ]
    },
    {
      "cell_type": "markdown",
      "source": [
        "**Для медицинских задач крайне важно избегать ложноотрицательных результатов, поэтому сразу отметаем модели, у которых в правом верхнем квадрате матрицы ошибок стоят ненулевые значения**"
      ],
      "metadata": {
        "id": "yq9f8wxU97i5"
      }
    },
    {
      "cell_type": "code",
      "source": [
        "#применим написанную ранее функцию\n",
        "run_models(best_models, X_train, y_train, X_test, y_test)"
      ],
      "metadata": {
        "colab": {
          "base_uri": "https://localhost:8080/",
          "height": 732
        },
        "id": "ZalO60KN4dXj",
        "outputId": "c31a5ed6-ff2b-4da7-e08b-26553602f0aa"
      },
      "execution_count": 38,
      "outputs": [
        {
          "output_type": "stream",
          "name": "stdout",
          "text": [
            "Evaluating model: RandomForestClassifier\n",
            "Accuracy: 0.9879518072289156\n",
            "\n",
            "\n",
            "              precision    recall  f1-score   support\n",
            "\n",
            "         0.0       1.00      0.98      0.99        43\n",
            "         1.0       0.98      1.00      0.99        40\n",
            "\n",
            "    accuracy                           0.99        83\n",
            "   macro avg       0.99      0.99      0.99        83\n",
            "weighted avg       0.99      0.99      0.99        83\n",
            "\n"
          ]
        },
        {
          "output_type": "display_data",
          "data": {
            "text/plain": [
              "<Figure size 640x480 with 2 Axes>"
            ],
            "image/png": "[encoded data removed]"
          },
          "metadata": {}
        },
        {
          "output_type": "stream",
          "name": "stdout",
          "text": [
            "\n",
            "\n"
          ]
        }
      ]
    },
    {
      "cell_type": "markdown",
      "source": [
        "**Нам осталось выбрать наилучшую модель среди LogisticRegressionCV и GradientBoostingClassifier - они обе не выдают False Negative результатов**"
      ],
      "metadata": {
        "id": "UjMxX_CpFDzz"
      }
    },
    {
      "cell_type": "markdown",
      "source": [
        "\n",
        "\n",
        "\n",
        "\n",
        "**Будем выбирать наилучшую модель на основании следующих критериев:**\n",
        "\n",
        "\n",
        "\n",
        "\n",
        "**1. качество работы на маленьких датасетах**\n",
        "\n",
        "LogisticRegressionCV имеет более простую структуру, чем GradientBoostingClassifier, и на маленьких датасетах (у нас всего 274 строки) может показывать более стабильные результаты: она менее склонна к переобучению, так как не строит сложных взаимосвязей, которые могли бы подстраиваться под случайный шум в данных.\n",
        "\n",
        "**2. интерпретируемость результатов**\n",
        "\n",
        "LogisticRegressionCV имеет более простую и интерпретируемую структуру, особенно для небольших данных, тогда как взаимодействия между признаками в GradientBoostingClassifier могут быть очень неочевидными.\n",
        "\n",
        "LogisticRegressionCV позволяет увидеть влияние каждого признака (в нашей задаче конкретного вида бактерий) на конечный прогноз, что важно для дальнейших исследований того, какие именно виды бактерий и почему ассоциированы с развитием гастрита у человека.\n",
        "\n",
        "**Таким образом, для небольшого датасета с приоритетом на интерпретируемость, вероятно, лучше использовать LogisticRegressionCV.**"
      ],
      "metadata": {
        "id": "7uHPaqOS-s1c"
      }
    },
    {
      "cell_type": "markdown",
      "metadata": {
        "id": "EByz3mLbzBJf"
      },
      "source": [
        "###**12. Проверим, нет ли переобучения у нашей модели, т.к. метрики показывают довольно высокие значения**"
      ]
    },
    {
      "cell_type": "code",
      "execution_count": 39,
      "metadata": {
        "id": "_V3DUa33zFvu",
        "colab": {
          "base_uri": "https://localhost:8080/"
        },
        "outputId": "3f68fedc-92b3-440a-e481-2a92e689c69c"
      },
      "outputs": [
        {
          "output_type": "stream",
          "name": "stdout",
          "text": [
            "Лучший средний результат на кросс-валидации (accuracy): 0.9736842105263157\n",
            "Точность (accuracy) на тестовой выборке: 0.9879518072289156\n",
            "Точность (precision) на тестовой выборке: 1.0\n",
            "Полнота (recall) на тестовой выборке: 0.975\n",
            "F1-метрика на тестовой выборке: 0.9873417721518988\n"
          ]
        }
      ],
      "source": [
        "#посморим на лучший средний результат accuracy на кросс-валидации на обучающей выборке для logistic_regression_model\n",
        "best_cv_score = grid1.best_score_\n",
        "print(f'Лучший средний результат на кросс-валидации (accuracy): {best_cv_score}')\n",
        "\n",
        "#посморим на метрики accuracy и др. на тестовой выборке\n",
        "from sklearn.metrics import accuracy_score, precision_score, recall_score, f1_score\n",
        "\n",
        "y_pred_test = logistic_regression_model.predict(X_test)\n",
        "\n",
        "\n",
        "test_accuracy = accuracy_score(y_test, y_pred_test)\n",
        "test_precision = precision_score(y_test, y_pred_test)\n",
        "test_recall = recall_score(y_test, y_pred_test)\n",
        "test_f1 = f1_score(y_test, y_pred_test)\n",
        "\n",
        "print(f'Точность (accuracy) на тестовой выборке: {test_accuracy}')\n",
        "print(f'Точность (precision) на тестовой выборке: {test_precision}')\n",
        "print(f'Полнота (recall) на тестовой выборке: {test_recall}')\n",
        "print(f'F1-метрика на тестовой выборке: {test_f1}')"
      ]
    },
    {
      "cell_type": "code",
      "execution_count": 40,
      "metadata": {
        "colab": {
          "base_uri": "https://localhost:8080/"
        },
        "outputId": "1f6fe957-5361-4a9a-b44a-6edcf731b0cc",
        "id": "0FA9-C3hG3q7"
      },
      "outputs": [
        {
          "output_type": "stream",
          "name": "stdout",
          "text": [
            "Лучший средний результат на кросс-валидации (accuracy): 0.9947368421052631\n",
            "Точность (accuracy) на тестовой выборке: 0.9879518072289156\n",
            "Точность (precision) на тестовой выборке: 1.0\n",
            "Полнота (recall) на тестовой выборке: 0.975\n",
            "F1-метрика на тестовой выборке: 0.9873417721518988\n"
          ]
        }
      ],
      "source": [
        "#посморим на лучший средний результат accuracy на кросс-валидации на обучающей выборке для gradient_boosting_model\n",
        "best_cv_score = grid7.best_score_\n",
        "print(f'Лучший средний результат на кросс-валидации (accuracy): {best_cv_score}')\n",
        "\n",
        "#посморим на метрики accuracy и др. на тестовой выборке\n",
        "from sklearn.metrics import accuracy_score, precision_score, recall_score, f1_score\n",
        "\n",
        "y_pred_test = gradient_boosting_model.predict(X_test)\n",
        "\n",
        "\n",
        "test_accuracy = accuracy_score(y_test, y_pred_test)\n",
        "test_precision = precision_score(y_test, y_pred_test)\n",
        "test_recall = recall_score(y_test, y_pred_test)\n",
        "test_f1 = f1_score(y_test, y_pred_test)\n",
        "\n",
        "print(f'Точность (accuracy) на тестовой выборке: {test_accuracy}')\n",
        "print(f'Точность (precision) на тестовой выборке: {test_precision}')\n",
        "print(f'Полнота (recall) на тестовой выборке: {test_recall}')\n",
        "print(f'F1-метрика на тестовой выборке: {test_f1}')"
      ]
    },
    {
      "cell_type": "code",
      "execution_count": 40,
      "metadata": {
        "id": "_3RlWQaL44Xh"
      },
      "outputs": [],
      "source": []
    },
    {
      "cell_type": "markdown",
      "metadata": {
        "id": "LzV2YI7B5gkR"
      },
      "source": [
        "**Интерпретация метрик и их анализ на предмет переобучения**\n",
        "\n",
        "\n",
        "Точность 0.9736842105263157 на кросс-валидации говорит о том, что модель очень хорошо обучилась на данных из обучающей выборки.\n",
        "\n",
        "На тестовой выборке точность составляет 0.9879518072289156, а F1-метрика — 0.9873417721518988, что всего лишь немного ниже, чем результаты кросс-валидации.\n",
        "Precision и recall также достаточно высоки и близки к результатам на обучении. Это говорит о том, что модель не сильно потеряла в качестве на данных, которых она ранее не видела.\n",
        "\n",
        "Обычно при переобучении модель показывает существенно лучшие результаты на кросс-валидации или обучающей выборке, чем на тестовых данных.\n",
        "Здесь же расхождение метрик минимальное (разница в точности менее 1.2%), что указывает на то, что модель хорошо справляется и с новыми данными.\n",
        "\n",
        "Таким образом, переобучение, вероятно, отсутствует.\n",
        "Высокие значения всех метрик указывают на хороший подбор всех гиперпараметров и хорошее обучение модели - модель можно считать хорошо настроенной."
      ]
    },
    {
      "cell_type": "markdown",
      "metadata": {
        "id": "WGqF9pKPWWKb"
      },
      "source": [
        "###**13. Отдельно посмотрим на данные, которые модель классифицировала неверно**"
      ]
    },
    {
      "cell_type": "code",
      "execution_count": 43,
      "metadata": {
        "id": "hp1xFSuAO1Zy",
        "colab": {
          "base_uri": "https://localhost:8080/",
          "height": 130
        },
        "outputId": "369d5bea-468a-4078-f854-5a5605866059"
      },
      "outputs": [
        {
          "output_type": "execute_result",
          "data": {
            "text/plain": [
              "   Akkermansia_muciniphila  Alistipes_finegoldii  \\\n",
              "2                      0.0                   0.0   \n",
              "\n",
              "   Alistipes_finegoldii/onderdonkii  Alistipes_inops  Alistipes_massiliensis  \\\n",
              "2                               0.0              0.0                     0.0   \n",
              "\n",
              "   Alistipes_putredinis  Alistipes_shahii  Anaerostipes_hadrus  \\\n",
              "2                   0.0               0.0                  0.0   \n",
              "\n",
              "   Bacteroides_barnesiae  Bacteroides_caccae  ...  \\\n",
              "2                    0.0                 0.0  ...   \n",
              "\n",
              "   Enterococcus_azikeevi/casseliflavus/durans/faecalis/faecium/hirae/lactis/mundtii/raffinosus/ratti/rivorum/thailandicus/villorum  \\\n",
              "2                                                0.0                                                                                 \n",
              "\n",
              "   Fusobacterium_ulcerans/varium  Lachnoclostridium_urinimassiliense  \\\n",
              "2                            0.0                                 0.0   \n",
              "\n",
              "   Lactobacillus_crispatus/gasseri/helveticus/johnsonii/kefiranofaciens/paragasseri  \\\n",
              "2                                                0.0                                  \n",
              "\n",
              "   Lactobacillus_fermentum/gasseri/reuteri/vaginalis  \\\n",
              "2                                                0.0   \n",
              "\n",
              "   Lactobacillus_phage/plantarum/reuteri/salivarius  Roseburia_faecis  \\\n",
              "2                                               0.0               0.0   \n",
              "\n",
              "   Weissella_cibaria/confusa/koreensis/minor  not_null_sum  Index  \n",
              "2                                        0.0      0.070892    0.0  \n",
              "\n",
              "[1 rows x 131 columns]"
            ],
            "text/html": [
              "\n",
              "  <div id=\"df-ce363b47-80eb-4e17-955f-ac12a871869e\" class=\"colab-df-container\">\n",
              "    <div>\n",
              "<style scoped>\n",
              "    .dataframe tbody tr th:only-of-type {\n",
              "        vertical-align: middle;\n",
              "    }\n",
              "\n",
              "    .dataframe tbody tr th {\n",
              "        vertical-align: top;\n",
              "    }\n",
              "\n",
              "    .dataframe thead th {\n",
              "        text-align: right;\n",
              "    }\n",
              "</style>\n",
              "<table border=\"1\" class=\"dataframe\">\n",
              "  <thead>\n",
              "    <tr style=\"text-align: right;\">\n",
              "      <th></th>\n",
              "      <th>Akkermansia_muciniphila</th>\n",
              "      <th>Alistipes_finegoldii</th>\n",
              "      <th>Alistipes_finegoldii/onderdonkii</th>\n",
              "      <th>Alistipes_inops</th>\n",
              "      <th>Alistipes_massiliensis</th>\n",
              "      <th>Alistipes_putredinis</th>\n",
              "      <th>Alistipes_shahii</th>\n",
              "      <th>Anaerostipes_hadrus</th>\n",
              "      <th>Bacteroides_barnesiae</th>\n",
              "      <th>Bacteroides_caccae</th>\n",
              "      <th>...</th>\n",
              "      <th>Enterococcus_azikeevi/casseliflavus/durans/faecalis/faecium/hirae/lactis/mundtii/raffinosus/ratti/rivorum/thailandicus/villorum</th>\n",
              "      <th>Fusobacterium_ulcerans/varium</th>\n",
              "      <th>Lachnoclostridium_urinimassiliense</th>\n",
              "      <th>Lactobacillus_crispatus/gasseri/helveticus/johnsonii/kefiranofaciens/paragasseri</th>\n",
              "      <th>Lactobacillus_fermentum/gasseri/reuteri/vaginalis</th>\n",
              "      <th>Lactobacillus_phage/plantarum/reuteri/salivarius</th>\n",
              "      <th>Roseburia_faecis</th>\n",
              "      <th>Weissella_cibaria/confusa/koreensis/minor</th>\n",
              "      <th>not_null_sum</th>\n",
              "      <th>Index</th>\n",
              "    </tr>\n",
              "  </thead>\n",
              "  <tbody>\n",
              "    <tr>\n",
              "      <th>2</th>\n",
              "      <td>0.0</td>\n",
              "      <td>0.0</td>\n",
              "      <td>0.0</td>\n",
              "      <td>0.0</td>\n",
              "      <td>0.0</td>\n",
              "      <td>0.0</td>\n",
              "      <td>0.0</td>\n",
              "      <td>0.0</td>\n",
              "      <td>0.0</td>\n",
              "      <td>0.0</td>\n",
              "      <td>...</td>\n",
              "      <td>0.0</td>\n",
              "      <td>0.0</td>\n",
              "      <td>0.0</td>\n",
              "      <td>0.0</td>\n",
              "      <td>0.0</td>\n",
              "      <td>0.0</td>\n",
              "      <td>0.0</td>\n",
              "      <td>0.0</td>\n",
              "      <td>0.070892</td>\n",
              "      <td>0.0</td>\n",
              "    </tr>\n",
              "  </tbody>\n",
              "</table>\n",
              "<p>1 rows × 131 columns</p>\n",
              "</div>\n",
              "    <div class=\"colab-df-buttons\">\n",
              "\n",
              "  <div class=\"colab-df-container\">\n",
              "    <button class=\"colab-df-convert\" onclick=\"convertToInteractive('df-ce363b47-80eb-4e17-955f-ac12a871869e')\"\n",
              "            title=\"Convert this dataframe to an interactive table.\"\n",
              "            style=\"display:none;\">\n",
              "\n",
              "  <svg xmlns=\"http://www.w3.org/2000/svg\" height=\"24px\" viewBox=\"0 -960 960 960\">\n",
              "    <path d=\"M120-120v-720h720v720H120Zm60-500h600v-160H180v160Zm220 220h160v-160H400v160Zm0 220h160v-160H400v160ZM180-400h160v-160H180v160Zm440 0h160v-160H620v160ZM180-180h160v-160H180v160Zm440 0h160v-160H620v160Z\"/>\n",
              "  </svg>\n",
              "    </button>\n",
              "\n",
              "  <style>\n",
              "    .colab-df-container {\n",
              "      display:flex;\n",
              "      gap: 12px;\n",
              "    }\n",
              "\n",
              "    .colab-df-convert {\n",
              "      background-color: #E8F0FE;\n",
              "      border: none;\n",
              "      border-radius: 50%;\n",
              "      cursor: pointer;\n",
              "      display: none;\n",
              "      fill: #1967D2;\n",
              "      height: 32px;\n",
              "      padding: 0 0 0 0;\n",
              "      width: 32px;\n",
              "    }\n",
              "\n",
              "    .colab-df-convert:hover {\n",
              "      background-color: #E2EBFA;\n",
              "      box-shadow: 0px 1px 2px rgba(60, 64, 67, 0.3), 0px 1px 3px 1px rgba(60, 64, 67, 0.15);\n",
              "      fill: #174EA6;\n",
              "    }\n",
              "\n",
              "    .colab-df-buttons div {\n",
              "      margin-bottom: 4px;\n",
              "    }\n",
              "\n",
              "    [theme=dark] .colab-df-convert {\n",
              "      background-color: #3B4455;\n",
              "      fill: #D2E3FC;\n",
              "    }\n",
              "\n",
              "    [theme=dark] .colab-df-convert:hover {\n",
              "      background-color: #434B5C;\n",
              "      box-shadow: 0px 1px 3px 1px rgba(0, 0, 0, 0.15);\n",
              "      filter: drop-shadow(0px 1px 2px rgba(0, 0, 0, 0.3));\n",
              "      fill: #FFFFFF;\n",
              "    }\n",
              "  </style>\n",
              "\n",
              "    <script>\n",
              "      const buttonEl =\n",
              "        document.querySelector('#df-ce363b47-80eb-4e17-955f-ac12a871869e button.colab-df-convert');\n",
              "      buttonEl.style.display =\n",
              "        google.colab.kernel.accessAllowed ? 'block' : 'none';\n",
              "\n",
              "      async function convertToInteractive(key) {\n",
              "        const element = document.querySelector('#df-ce363b47-80eb-4e17-955f-ac12a871869e');\n",
              "        const dataTable =\n",
              "          await google.colab.kernel.invokeFunction('convertToInteractive',\n",
              "                                                    [key], {});\n",
              "        if (!dataTable) return;\n",
              "\n",
              "        const docLinkHtml = 'Like what you see? Visit the ' +\n",
              "          '<a target=\"_blank\" href=https://colab.research.google.com/notebooks/data_table.ipynb>data table notebook</a>'\n",
              "          + ' to learn more about interactive tables.';\n",
              "        element.innerHTML = '';\n",
              "        dataTable['output_type'] = 'display_data';\n",
              "        await google.colab.output.renderOutput(dataTable, element);\n",
              "        const docLink = document.createElement('div');\n",
              "        docLink.innerHTML = docLinkHtml;\n",
              "        element.appendChild(docLink);\n",
              "      }\n",
              "    </script>\n",
              "  </div>\n",
              "\n",
              "\n",
              "  <div id=\"id_ea3ed64a-869f-4a8a-b5d7-d8723286e2fe\">\n",
              "    <style>\n",
              "      .colab-df-generate {\n",
              "        background-color: #E8F0FE;\n",
              "        border: none;\n",
              "        border-radius: 50%;\n",
              "        cursor: pointer;\n",
              "        display: none;\n",
              "        fill: #1967D2;\n",
              "        height: 32px;\n",
              "        padding: 0 0 0 0;\n",
              "        width: 32px;\n",
              "      }\n",
              "\n",
              "      .colab-df-generate:hover {\n",
              "        background-color: #E2EBFA;\n",
              "        box-shadow: 0px 1px 2px rgba(60, 64, 67, 0.3), 0px 1px 3px 1px rgba(60, 64, 67, 0.15);\n",
              "        fill: #174EA6;\n",
              "      }\n",
              "\n",
              "      [theme=dark] .colab-df-generate {\n",
              "        background-color: #3B4455;\n",
              "        fill: #D2E3FC;\n",
              "      }\n",
              "\n",
              "      [theme=dark] .colab-df-generate:hover {\n",
              "        background-color: #434B5C;\n",
              "        box-shadow: 0px 1px 3px 1px rgba(0, 0, 0, 0.15);\n",
              "        filter: drop-shadow(0px 1px 2px rgba(0, 0, 0, 0.3));\n",
              "        fill: #FFFFFF;\n",
              "      }\n",
              "    </style>\n",
              "    <button class=\"colab-df-generate\" onclick=\"generateWithVariable('false_row')\"\n",
              "            title=\"Generate code using this dataframe.\"\n",
              "            style=\"display:none;\">\n",
              "\n",
              "  <svg xmlns=\"http://www.w3.org/2000/svg\" height=\"24px\"viewBox=\"0 0 24 24\"\n",
              "       width=\"24px\">\n",
              "    <path d=\"M7,19H8.4L18.45,9,17,7.55,7,17.6ZM5,21V16.75L18.45,3.32a2,2,0,0,1,2.83,0l1.4,1.43a1.91,1.91,0,0,1,.58,1.4,1.91,1.91,0,0,1-.58,1.4L9.25,21ZM18.45,9,17,7.55Zm-12,3A5.31,5.31,0,0,0,4.9,8.1,5.31,5.31,0,0,0,1,6.5,5.31,5.31,0,0,0,4.9,4.9,5.31,5.31,0,0,0,6.5,1,5.31,5.31,0,0,0,8.1,4.9,5.31,5.31,0,0,0,12,6.5,5.46,5.46,0,0,0,6.5,12Z\"/>\n",
              "  </svg>\n",
              "    </button>\n",
              "    <script>\n",
              "      (() => {\n",
              "      const buttonEl =\n",
              "        document.querySelector('#id_ea3ed64a-869f-4a8a-b5d7-d8723286e2fe button.colab-df-generate');\n",
              "      buttonEl.style.display =\n",
              "        google.colab.kernel.accessAllowed ? 'block' : 'none';\n",
              "\n",
              "      buttonEl.onclick = () => {\n",
              "        google.colab.notebook.generateWithVariable('false_row');\n",
              "      }\n",
              "      })();\n",
              "    </script>\n",
              "  </div>\n",
              "\n",
              "    </div>\n",
              "  </div>\n"
            ],
            "application/vnd.google.colaboratory.intrinsic+json": {
              "type": "dataframe",
              "variable_name": "false_row"
            }
          },
          "metadata": {},
          "execution_count": 43
        }
      ],
      "source": [
        "import numpy as np\n",
        "#индексы ложнопредсказанных точек\n",
        "\n",
        "y_pred = logistic_regression_model.predict(X_test)\n",
        "\n",
        "false_predictions = np.where(y_pred != y_test)[0] #получим массив индексов таких точек\n",
        "false_predictions\n",
        "#найдем строки с тамики индексами в нашем датасете\n",
        "false_row = df_total.iloc[false_predictions]\n",
        "false_row"
      ]
    },
    {
      "cell_type": "code",
      "execution_count": 44,
      "metadata": {
        "id": "fUKXLPn3WkJx",
        "colab": {
          "base_uri": "https://localhost:8080/"
        },
        "outputId": "d07840b9-881f-4c78-fdfe-04e534f5cb4c"
      },
      "outputs": [
        {
          "output_type": "execute_result",
          "data": {
            "text/plain": [
              "1.50853"
            ]
          },
          "metadata": {},
          "execution_count": 44
        }
      ],
      "source": [
        "#проверим, есть ли вообще в колонках ненулевые значения\n",
        "false_row.sum(axis=1)\n",
        "1.50853"
      ]
    },
    {
      "cell_type": "code",
      "execution_count": 45,
      "metadata": {
        "id": "a5pEZ1zDRTkC",
        "colab": {
          "base_uri": "https://localhost:8080/"
        },
        "outputId": "3b0f4aea-70a5-44dc-ad91-f8190dc80690"
      },
      "outputs": [
        {
          "output_type": "execute_result",
          "data": {
            "text/plain": [
              "Index([], dtype='object')"
            ]
          },
          "metadata": {},
          "execution_count": 45
        }
      ],
      "source": [
        "#посотрим, это значение одного признака или сумма значений нескольких признаков\n",
        "df_total.columns[false_row.isin([1.50853]).any()]"
      ]
    },
    {
      "cell_type": "markdown",
      "metadata": {
        "id": "PHINv346SoH8"
      },
      "source": [
        "**Почему данный образец был ошибочно классифицирован?** Как мы видим, данная строка содержит числовые значения всего одного признака из 131, что дает слишком мало информации об исследуемом образце для корректной работы модели."
      ]
    },
    {
      "cell_type": "markdown",
      "source": [
        "**Найдем еще несколько метрик для оценки нашей модели**"
      ],
      "metadata": {
        "id": "qh0Slx9sEJ0D"
      }
    },
    {
      "cell_type": "code",
      "source": [
        "#найдем метрики AUC-ROC и PRC-AUC для logistic_regression_model\n",
        "from sklearn.metrics import roc_curve, auc, precision_recall_curve\n",
        "\n",
        "# Пример для модели логистической регрессии\n",
        "logistic_regression_model.fit(X_train, y_train)\n",
        "y_probs = logistic_regression_model.predict_proba(X_test)[:, 1]  # Вероятности положительного класса\n",
        "\n",
        "fpr, tpr, _ = roc_curve(y_test, y_probs)\n",
        "roc_auc = auc(fpr, tpr)\n",
        "\n",
        "print(f\"AUC-ROC: {roc_auc: }\")\n",
        "\n",
        "precision, recall, _ = precision_recall_curve(y_test, y_probs)\n",
        "prc_auc = auc(recall, precision)\n",
        "\n",
        "print(f\"PRC-AUC: {prc_auc: }\")\n"
      ],
      "metadata": {
        "id": "XJZ8iiYmCsDr"
      },
      "execution_count": null,
      "outputs": []
    },
    {
      "cell_type": "markdown",
      "metadata": {
        "id": "AnWHklDWbgn8"
      },
      "source": [
        "###**14. Сохраним нашу модель**"
      ]
    },
    {
      "cell_type": "code",
      "execution_count": null,
      "metadata": {
        "id": "jWS6RjeRbi9C"
      },
      "outputs": [],
      "source": [
        "gastr_or_healthy_classification_model = gradient_boosting_model"
      ]
    },
    {
      "cell_type": "code",
      "execution_count": null,
      "metadata": {
        "id": "mWQDFTqXbjAD"
      },
      "outputs": [],
      "source": [
        "#сохранение модели\n",
        "\n",
        "from joblib import dump, load\n",
        "\n",
        "dump(gastr_or_healthy_classification_model, '/content/drive/MyDrive/данные для петпроджекта/gastr_or_healthy_classification_model.joblib')\n"
      ]
    },
    {
      "cell_type": "markdown",
      "metadata": {
        "id": "htV2h91cYX1Z"
      },
      "source": [
        "###**15. Определим, какие виды бактерий больше всего влияют на результат классификации и на основе этой информации создадим шаблон для загрузки новых данных в нашу модель**"
      ]
    },
    {
      "cell_type": "code",
      "execution_count": null,
      "metadata": {
        "id": "_IiKlVuyARdo"
      },
      "outputs": [],
      "source": [
        "#посмотрим корреляцию признаков и отклика (какие признаки больше других влияют на отклик)\n",
        "\n",
        "corr_ser = np.abs(df_total.corr()['Index']).sort_values(ascending=False).drop('Index')\n",
        "corr_ser = pd.DataFrame(corr_ser)\n",
        "col_names = corr_ser.index.tolist()\n",
        "col_names"
      ]
    },
    {
      "cell_type": "code",
      "execution_count": null,
      "metadata": {
        "id": "bhjTqyFzAa08"
      },
      "outputs": [],
      "source": [
        "#создаем шаблон датафрейма, в самом начале которого располагаются самые важные поля для заполнения (они больше всего влияют на результат)\n",
        "new_data = pd.DataFrame()\n",
        "for i in col_names:\n",
        "  new_data1 = pd.DataFrame(({i: [ ]}))\n",
        "  new_data = pd.concat([new_data, new_data1], axis=1)\n",
        "new_data\n",
        "\n",
        "#сохраним датафрейм\n",
        "new_data.to_excel('/content/drive/MyDrive/данные для петпроджекта/шаблон для загрузки новых данных.xlsx')\n"
      ]
    }
  ],
  "metadata": {
    "colab": {
      "provenance": [],
      "mount_file_id": "1I6p5McI9wXzM0u2u5ZOf_p_2r5LTnmcn",
      "authorship_tag": "ABX9TyP8EduEWVasU+5tMp0JWGLA",
      "include_colab_link": true
    },
    "kernelspec": {
      "display_name": "Python 3",
      "name": "python3"
    },
    "language_info": {
      "name": "python"
    }
  },
  "nbformat": 4,
  "nbformat_minor": 0
}