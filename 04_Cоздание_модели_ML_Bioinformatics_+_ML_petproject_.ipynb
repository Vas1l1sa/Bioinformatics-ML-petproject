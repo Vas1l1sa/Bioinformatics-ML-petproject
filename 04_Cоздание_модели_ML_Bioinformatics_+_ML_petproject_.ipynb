{
  "cells": [
    {
      "cell_type": "markdown",
      "metadata": {
        "id": "view-in-github",
        "colab_type": "text"
      },
      "source": [
        "<a href=\"https://colab.research.google.com/github/Vas1l1sa/Bioinformatics-ML-petproject/blob/main/04_C%D0%BE%D0%B7%D0%B4%D0%B0%D0%BD%D0%B8%D0%B5_%D0%BC%D0%BE%D0%B4%D0%B5%D0%BB%D0%B8_ML_Bioinformatics_%2B_ML_petproject_.ipynb\" target=\"_parent\"><img src=\"https://colab.research.google.com/assets/colab-badge.svg\" alt=\"Open In Colab\"/></a>"
      ]
    },
    {
      "cell_type": "code",
      "execution_count": 1,
      "metadata": {
        "id": "7U_AdtPkG4qQ"
      },
      "outputs": [],
      "source": [
        "import pandas as pd\n",
        "import numpy as np\n",
        "import seaborn as sns\n",
        "import matplotlib.pyplot as plt\n",
        "import sklearn\n"
      ]
    },
    {
      "cell_type": "code",
      "execution_count": 2,
      "metadata": {
        "id": "65TyiRakXmSn"
      },
      "outputs": [],
      "source": [
        "import warnings\n",
        "warnings.filterwarnings(\"ignore\", category=FutureWarning)\n",
        "\n",
        "from sklearn.exceptions import FitFailedWarning\n",
        "warnings.simplefilter(\"ignore\", FitFailedWarning)\n"
      ]
    },
    {
      "cell_type": "markdown",
      "metadata": {
        "id": "emnANW3VUTbb"
      },
      "source": [
        "### Как разделить здоровых людей и людей с гастритом на основании различий в их микробиоте кишечника?\n",
        "\n"
      ]
    },
    {
      "cell_type": "markdown",
      "metadata": {
        "id": "5t25ldFwJDoZ"
      },
      "source": [
        "**Будем осуществлять supervised learning для задачи классификации с использованием следующих моделей машинного обучения:**\n",
        "\n",
        "**1.   Логистическая регрессия**\n",
        "\n",
        "**2.   KNN**\n",
        "\n",
        "**3.   SVM**\n",
        "\n",
        "**4.   Базовые деревья решений**\n",
        "\n",
        "**5.   Random forests**\n",
        "\n",
        "**6.   Boosting и AdaBoosting**\n",
        "\n",
        "**7.   Градиентный бустинг**\n",
        "\n",
        "\n",
        "\n",
        "\n"
      ]
    },
    {
      "cell_type": "markdown",
      "metadata": {
        "id": "LEY2qqpptFKO"
      },
      "source": [
        "###**1. Общая подготовка данных перед машинным обучением**"
      ]
    },
    {
      "cell_type": "code",
      "execution_count": 3,
      "metadata": {
        "id": "GuPRbdwipc0a"
      },
      "outputs": [],
      "source": [
        "#загрузим полученные ранее датасеты\n",
        "df = pd.read_csv('/content/drive/MyDrive/данные для петпроджекта/df.csv')\n",
        "df_healthy = pd.read_csv('/content/drive/MyDrive/данные для петпроджекта/df_healthy.csv')\n",
        "df_total = pd.read_csv('/content/drive/MyDrive/данные для петпроджекта/df_total.csv')"
      ]
    },
    {
      "cell_type": "code",
      "execution_count": 4,
      "metadata": {
        "colab": {
          "base_uri": "https://localhost:8080/"
        },
        "id": "4eTn6nWKx0Qn",
        "outputId": "d2ce6436-9603-41c9-c6d6-d033d6c14e05"
      },
      "outputs": [
        {
          "output_type": "execute_result",
          "data": {
            "text/plain": [
              "274"
            ]
          },
          "metadata": {},
          "execution_count": 4
        }
      ],
      "source": [
        "len(df_total)"
      ]
    },
    {
      "cell_type": "code",
      "execution_count": 5,
      "metadata": {
        "id": "zCBOg6rPqoLN"
      },
      "outputs": [],
      "source": [
        "#разделим данные на признаки и отклик\n",
        "\n",
        "X = df_total.drop(['Index'], axis=1)\n",
        "y = df_total['Index']\n"
      ]
    },
    {
      "cell_type": "markdown",
      "metadata": {
        "id": "bMYjVLd9wv00"
      },
      "source": [
        "**В данной задаче нормировка признаков не требуется, т.к. все данные в датасете - процентное содержание того или иного вида в образце, т.е. по сути они уже отнормированы**"
      ]
    },
    {
      "cell_type": "code",
      "execution_count": 6,
      "metadata": {
        "colab": {
          "base_uri": "https://localhost:8080/",
          "height": 398
        },
        "id": "hnGJjmr4wHk5",
        "outputId": "03b25d81-1131-48fd-a1ca-6c9fcbcc1383"
      },
      "outputs": [
        {
          "output_type": "execute_result",
          "data": {
            "text/plain": [
              "not_null_sum                        0.858964\n",
              "Faecalibacterium_prausnitzii        0.699834\n",
              "Bacteroides_vulgatus                0.417186\n",
              "Bacteroides_dorei/vulgatus          0.411259\n",
              "Phascolarctobacterium_faecium       0.408868\n",
              "Parabacteroides_merdae              0.397475\n",
              "Lachnospira_pectinoschiza           0.367726\n",
              "Bacteroides_uniformis               0.363811\n",
              "Collinsella_aerofaciens             0.350600\n",
              "Faecalibacterium_cf./prausnitzii    0.346576\n",
              "Name: Index, dtype: float64"
            ],
            "text/html": [
              "<div>\n",
              "<style scoped>\n",
              "    .dataframe tbody tr th:only-of-type {\n",
              "        vertical-align: middle;\n",
              "    }\n",
              "\n",
              "    .dataframe tbody tr th {\n",
              "        vertical-align: top;\n",
              "    }\n",
              "\n",
              "    .dataframe thead th {\n",
              "        text-align: right;\n",
              "    }\n",
              "</style>\n",
              "<table border=\"1\" class=\"dataframe\">\n",
              "  <thead>\n",
              "    <tr style=\"text-align: right;\">\n",
              "      <th></th>\n",
              "      <th>Index</th>\n",
              "    </tr>\n",
              "  </thead>\n",
              "  <tbody>\n",
              "    <tr>\n",
              "      <th>not_null_sum</th>\n",
              "      <td>0.858964</td>\n",
              "    </tr>\n",
              "    <tr>\n",
              "      <th>Faecalibacterium_prausnitzii</th>\n",
              "      <td>0.699834</td>\n",
              "    </tr>\n",
              "    <tr>\n",
              "      <th>Bacteroides_vulgatus</th>\n",
              "      <td>0.417186</td>\n",
              "    </tr>\n",
              "    <tr>\n",
              "      <th>Bacteroides_dorei/vulgatus</th>\n",
              "      <td>0.411259</td>\n",
              "    </tr>\n",
              "    <tr>\n",
              "      <th>Phascolarctobacterium_faecium</th>\n",
              "      <td>0.408868</td>\n",
              "    </tr>\n",
              "    <tr>\n",
              "      <th>Parabacteroides_merdae</th>\n",
              "      <td>0.397475</td>\n",
              "    </tr>\n",
              "    <tr>\n",
              "      <th>Lachnospira_pectinoschiza</th>\n",
              "      <td>0.367726</td>\n",
              "    </tr>\n",
              "    <tr>\n",
              "      <th>Bacteroides_uniformis</th>\n",
              "      <td>0.363811</td>\n",
              "    </tr>\n",
              "    <tr>\n",
              "      <th>Collinsella_aerofaciens</th>\n",
              "      <td>0.350600</td>\n",
              "    </tr>\n",
              "    <tr>\n",
              "      <th>Faecalibacterium_cf./prausnitzii</th>\n",
              "      <td>0.346576</td>\n",
              "    </tr>\n",
              "  </tbody>\n",
              "</table>\n",
              "</div><br><label><b>dtype:</b> float64</label>"
            ]
          },
          "metadata": {},
          "execution_count": 6
        }
      ],
      "source": [
        "#посмотрим корреляцию признаков и отклика (какие признаки больше других влияют на отклик)\n",
        "\n",
        "np.abs(df_total.corr()['Index']).sort_values(ascending=False).drop('Index').head(10)\n"
      ]
    },
    {
      "cell_type": "markdown",
      "metadata": {
        "id": "zTiWOfQixNw0"
      },
      "source": [
        "**Ввиду того, что датасет получился довольно маленьким, сделаем разбивку данных только на обучающую и тестовую выборки (без hold-out test set).**\n",
        "\n",
        "**Для подбора оптимальных гиперпараметров будем применять кросс-валидацию (GridSearchCV) для тестовой выборки, т.к. от изменения разбивки данных результаты ошибок тоже будут меняться.**"
      ]
    },
    {
      "cell_type": "code",
      "execution_count": 7,
      "metadata": {
        "id": "DEakQV_vrgEB"
      },
      "outputs": [],
      "source": [
        "#разделим данные на тренировочную и тестовую выборки\n",
        "\n",
        "from sklearn.model_selection import train_test_split\n",
        "\n",
        "X_train, X_test, y_train, y_test = train_test_split(X, y, test_size=0.3, random_state=42)\n"
      ]
    },
    {
      "cell_type": "markdown",
      "metadata": {
        "id": "Sja6I-hrp3GA"
      },
      "source": [
        "###**2. Создание модели бинарной классификации на основе алгоритма логистической регрессии**\n"
      ]
    },
    {
      "cell_type": "code",
      "execution_count": 8,
      "metadata": {
        "id": "AlukpuXbDuUF"
      },
      "outputs": [],
      "source": [
        "#создадим модель логистической регрессии и подберем оптимальные гиперпараметры при помощи поиска по сетке и кросс-валидации\n",
        "\n",
        "from sklearn.linear_model import LogisticRegressionCV\n",
        "test_model1 = LogisticRegressionCV(cv = 5, max_iter = 50000, random_state=42) #устанавливаем параметр random_state, чтобы при нескольких запусках GridSearchCV со скорректированным списком гиперпараметров результаты получались уточненными, а не совершенно новыми\n"
      ]
    },
    {
      "cell_type": "code",
      "execution_count": 9,
      "metadata": {
        "id": "rrKu9dMy57oX"
      },
      "outputs": [],
      "source": [
        "#посмотрим информацию по гиперпараметрам этого алгоритма и на основании нее составим словарь parem_grid\n",
        "#help(LogisticRegressionCV())"
      ]
    },
    {
      "cell_type": "code",
      "execution_count": 10,
      "metadata": {
        "colab": {
          "base_uri": "https://localhost:8080/"
        },
        "id": "bwtp_NHTvQr_",
        "outputId": "dc43f8c6-8f8d-4194-e286-7d41bf944e68"
      },
      "outputs": [
        {
          "output_type": "execute_result",
          "data": {
            "text/plain": [
              "{'Cs': 2, 'dual': False, 'solver': 'lbfgs'}"
            ]
          },
          "metadata": {},
          "execution_count": 10
        }
      ],
      "source": [
        "#сделаем поиск по сетке для нахождения оптимальных гиперпараметров\n",
        "\n",
        "from sklearn.model_selection import GridSearchCV\n",
        "param_grid1 = [\n",
        "    {'Cs': [1, 2, 3], 'solver': ['lbfgs', 'newton-cg', 'sag', 'saga'], 'dual': [False]},\n",
        "    {'Cs': [1, 2, 3], 'solver': ['liblinear'], 'dual': [True, False]},\n",
        "]\n",
        "#разбила param_grid1 на 2 части, чтобы не выпадали ошибки при переборе некоторых комбинаций solver и dual\n",
        "grid1 = GridSearchCV(test_model1, param_grid1, error_score=np.nan)\n",
        "\n",
        "grid1.fit(X_train, y_train)\n",
        "grid1.best_params_"
      ]
    },
    {
      "cell_type": "code",
      "execution_count": 11,
      "metadata": {
        "colab": {
          "base_uri": "https://localhost:8080/"
        },
        "id": "k6FPnM1QETBW",
        "outputId": "2ba5558a-6a49-459a-aa31-d4f3fcfd362c"
      },
      "outputs": [
        {
          "output_type": "execute_result",
          "data": {
            "text/plain": [
              "array([0., 1., 1., 0., 1., 1., 1., 1., 1., 0., 1., 1., 1., 1., 1., 1., 1.,\n",
              "       0., 0., 1., 0., 0., 1., 0., 1., 1., 0., 0., 0., 0., 0., 0., 0., 0.,\n",
              "       0., 1., 1., 1., 0., 0., 0., 0., 0., 0., 0., 1., 0., 1., 0., 1., 0.,\n",
              "       1., 1., 0., 1., 0., 1., 0., 0., 1., 1., 0., 0., 0., 0., 1., 1., 0.,\n",
              "       1., 0., 0., 1., 1., 1., 0., 1., 1., 0., 1., 0., 0., 0., 1.])"
            ]
          },
          "metadata": {},
          "execution_count": 11
        }
      ],
      "source": [
        "#создадим модель с найденными оптимальными гиперпараметрами\n",
        "logistic_regression_model = LogisticRegressionCV(cv = 5, max_iter = 50000, Cs = 3, dual=False, solver='sag')\n",
        "logistic_regression_model.fit(X_train, y_train)\n",
        "y_pred1 = logistic_regression_model.predict(X_test)\n",
        "y_pred1"
      ]
    },
    {
      "cell_type": "markdown",
      "metadata": {
        "id": "5Mxx_lJtuMx3"
      },
      "source": [
        "###**3. Создание модели бинарной классификации на основе алгоритма KNN**"
      ]
    },
    {
      "cell_type": "code",
      "execution_count": 12,
      "metadata": {
        "id": "7QT14qk5uuW5"
      },
      "outputs": [],
      "source": [
        "#создадим модель логистической регрессии и подберем оптимальные гиперпараметры при помощи поиска по сетке и кросс-валидации\n",
        "from sklearn.neighbors import KNeighborsClassifier\n",
        "test_model2 = KNeighborsClassifier()"
      ]
    },
    {
      "cell_type": "code",
      "execution_count": 13,
      "metadata": {
        "id": "qh67S_I5uudr"
      },
      "outputs": [],
      "source": [
        "#help(KNeighborsClassifier)"
      ]
    },
    {
      "cell_type": "code",
      "execution_count": 14,
      "metadata": {
        "colab": {
          "base_uri": "https://localhost:8080/"
        },
        "id": "YMaP2J4nuua8",
        "outputId": "4585b99b-ed49-4641-f91a-aba1aabdc973"
      },
      "outputs": [
        {
          "output_type": "stream",
          "name": "stderr",
          "text": [
            "/usr/local/lib/python3.10/dist-packages/numpy/ma/core.py:2820: RuntimeWarning: invalid value encountered in cast\n",
            "  _data = np.array(data, dtype=dtype, copy=copy,\n"
          ]
        },
        {
          "output_type": "execute_result",
          "data": {
            "text/plain": [
              "{'n_neighbors': 1}"
            ]
          },
          "metadata": {},
          "execution_count": 14
        }
      ],
      "source": [
        "#сделаем поиск по сетке для нахождения оптимальных гиперпараметров\n",
        "from sklearn.model_selection import GridSearchCV\n",
        "\n",
        "param_grid2 = {'n_neighbors': list(range(1,20))}\n",
        "\n",
        "grid2 = GridSearchCV(test_model2, param_grid2, cv=5, scoring='accuracy')\n",
        "grid2.fit(X_train, y_train)\n",
        "grid2.best_params_\n",
        "#{'n_neighbors': 1}"
      ]
    },
    {
      "cell_type": "code",
      "execution_count": 15,
      "metadata": {
        "colab": {
          "base_uri": "https://localhost:8080/"
        },
        "id": "D0qXSh85xgKt",
        "outputId": "f59f67cb-46ce-47e5-aa3f-6265f4d311e3"
      },
      "outputs": [
        {
          "output_type": "execute_result",
          "data": {
            "text/plain": [
              "array([0., 1., 1., 0., 1., 1., 1., 1., 1., 0., 1., 1., 1., 1., 1., 1., 1.,\n",
              "       0., 0., 1., 0., 1., 1., 0., 1., 1., 0., 0., 0., 0., 0., 0., 0., 0.,\n",
              "       0., 1., 1., 1., 0., 0., 0., 0., 0., 0., 0., 1., 0., 1., 0., 1., 0.,\n",
              "       1., 1., 0., 1., 0., 1., 0., 0., 1., 1., 0., 0., 0., 0., 1., 1., 0.,\n",
              "       1., 0., 0., 1., 1., 1., 0., 1., 1., 0., 1., 0., 0., 0., 1.])"
            ]
          },
          "metadata": {},
          "execution_count": 15
        }
      ],
      "source": [
        "#создадим модель с найденными оптимальными гиперпараметрами\n",
        "knn_model = KNeighborsClassifier(n_neighbors=1)\n",
        "knn_model.fit(X_train, y_train)\n",
        "y_pred2 = knn_model.predict(X_test)\n",
        "y_pred2"
      ]
    },
    {
      "cell_type": "markdown",
      "metadata": {
        "id": "qoiHqeCnx91b"
      },
      "source": [
        "###**4. Создание модели бинарной классификации на основе алгоритма SVM**"
      ]
    },
    {
      "cell_type": "code",
      "execution_count": 16,
      "metadata": {
        "id": "Lor1apF0uugw"
      },
      "outputs": [],
      "source": [
        "#создадим модель логистической регрессии и подберем оптимальные гиперпараметры при помощи поиска по сетке и кросс-валидации\n",
        "from sklearn.svm import SVC\n",
        "test_model3 = SVC()\n",
        "\n"
      ]
    },
    {
      "cell_type": "code",
      "execution_count": 17,
      "metadata": {
        "id": "sMwEIjSZy2PX"
      },
      "outputs": [],
      "source": [
        "#help(SVC)"
      ]
    },
    {
      "cell_type": "code",
      "execution_count": 18,
      "metadata": {
        "colab": {
          "base_uri": "https://localhost:8080/"
        },
        "id": "H3bOTKduyoV_",
        "outputId": "d15387ee-179c-45fb-8d58-c1469fcfa855"
      },
      "outputs": [
        {
          "output_type": "execute_result",
          "data": {
            "text/plain": [
              "{'C': 0.01, 'kernel': 'linear'}"
            ]
          },
          "metadata": {},
          "execution_count": 18
        }
      ],
      "source": [
        "#сделаем поиск по сетке для нахождения оптимальных гиперпараметров\n",
        "from sklearn.model_selection import GridSearchCV\n",
        "\n",
        "param_grid3 = {'kernel': ['linear', 'poly', 'rbf', 'sigmoid'], 'C': [0.01, 0.1, 1, 1.2, 1.4, 1.45, 1.46, 1.465, 1.47, 1.475, 1.48, 1.5, 1.52, 1.55, 1.7, 2, 5, 10, 15, 20, 25, 30]}\n",
        "\n",
        "grid3 = GridSearchCV(test_model3, cv=5, param_grid = param_grid3, scoring='accuracy')\n",
        "grid3.fit(X_train, y_train)\n",
        "grid3.best_params_\n",
        "#когда мы получили какое-то предварительно хорошее значение 'C', потом обязательно добавляем в список для перебора ближайшие к этому числу значения и запускаем повторный поиск по сетке"
      ]
    },
    {
      "cell_type": "code",
      "execution_count": 19,
      "metadata": {
        "colab": {
          "base_uri": "https://localhost:8080/"
        },
        "id": "-1QWjPfw2__R",
        "outputId": "8ec94d61-37e0-4ef1-b7c6-5b9ab80ce3ba"
      },
      "outputs": [
        {
          "output_type": "execute_result",
          "data": {
            "text/plain": [
              "array([0., 1., 1., 0., 1., 1., 1., 1., 1., 1., 1., 1., 1., 1., 1., 1., 1.,\n",
              "       0., 0., 1., 0., 1., 1., 1., 1., 1., 0., 0., 0., 0., 0., 0., 0., 0.,\n",
              "       0., 1., 1., 1., 0., 0., 0., 0., 0., 0., 0., 1., 0., 1., 0., 1., 0.,\n",
              "       1., 1., 0., 1., 0., 1., 0., 0., 1., 1., 0., 0., 0., 0., 1., 1., 0.,\n",
              "       1., 0., 0., 1., 1., 1., 0., 1., 1., 0., 1., 0., 0., 0., 1.])"
            ]
          },
          "metadata": {},
          "execution_count": 19
        }
      ],
      "source": [
        "#создадим модель с найденными оптимальными гиперпараметрами\n",
        "svm_model = SVC(C=1.465, kernel='sigmoid')\n",
        "svm_model.fit(X_train, y_train)\n",
        "y_pred3 = svm_model.predict(X_test)\n",
        "y_pred3"
      ]
    },
    {
      "cell_type": "markdown",
      "metadata": {
        "id": "9Zypps6GmYM1"
      },
      "source": [
        "###**5. Создание модели бинарной классификации на основе алгоритма базовых деревьев решений**"
      ]
    },
    {
      "cell_type": "code",
      "execution_count": 20,
      "metadata": {
        "id": "ieH8PqcJpA1o"
      },
      "outputs": [],
      "source": [
        "#создадим модель логистической регрессии и подберем оптимальные гиперпараметры при помощи поиска по сетке и кросс-валидации\n",
        "from sklearn.tree import DecisionTreeClassifier\n",
        "test_model4 = DecisionTreeClassifier(random_state=42) #устанавливаем параметр random_state, чтобы при нескольких запусках GridSearchCV со скорректированным списком гиперпараметров результаты получались уточненными, а не совершенно новыми\n"
      ]
    },
    {
      "cell_type": "code",
      "execution_count": 21,
      "metadata": {
        "id": "XMl1OTLppseX"
      },
      "outputs": [],
      "source": [
        "#help(DecisionTreeClassifier())"
      ]
    },
    {
      "cell_type": "code",
      "execution_count": 22,
      "metadata": {
        "colab": {
          "base_uri": "https://localhost:8080/"
        },
        "id": "G5lTe_q5pshH",
        "outputId": "a4b9adef-9aef-4519-cd5e-8acac02b33a7"
      },
      "outputs": [
        {
          "output_type": "execute_result",
          "data": {
            "text/plain": [
              "{'criterion': 'entropy', 'max_depth': 3}"
            ]
          },
          "metadata": {},
          "execution_count": 22
        }
      ],
      "source": [
        "#сделаем поиск по сетке для нахождения оптимальных гиперпараметров\n",
        "from sklearn.model_selection import GridSearchCV\n",
        "param_grid4 = {'max_depth': [1, 2, 3, 4, 5, 6, 7, 8, 9, 10], 'criterion': [\"gini\", \"entropy\", \"log_loss\"]}\n",
        "grid4 = GridSearchCV(test_model4, param_grid4, cv=5, scoring='accuracy')\n",
        "grid4.fit(X_train, y_train)\n",
        "grid4.best_params_"
      ]
    },
    {
      "cell_type": "code",
      "execution_count": 23,
      "metadata": {
        "colab": {
          "base_uri": "https://localhost:8080/"
        },
        "id": "FEaNLvAhrgRZ",
        "outputId": "624eff58-fe34-4eb9-ca3f-eade68010d36"
      },
      "outputs": [
        {
          "output_type": "execute_result",
          "data": {
            "text/plain": [
              "array([0., 1., 0., 0., 1., 1., 1., 1., 1., 0., 1., 1., 1., 1., 1., 1., 1.,\n",
              "       0., 0., 1., 0., 1., 1., 0., 1., 1., 0., 0., 0., 0., 0., 0., 0., 0.,\n",
              "       0., 1., 1., 1., 0., 0., 0., 0., 0., 0., 0., 1., 0., 1., 0., 1., 0.,\n",
              "       1., 1., 0., 1., 0., 1., 0., 0., 1., 1., 0., 0., 0., 0., 0., 1., 0.,\n",
              "       1., 0., 0., 0., 1., 1., 0., 1., 1., 0., 1., 0., 0., 0., 1.])"
            ]
          },
          "metadata": {},
          "execution_count": 23
        }
      ],
      "source": [
        "#создадим модель с найденными оптимальными гиперпараметрами\n",
        "decision_tree_model = DecisionTreeClassifier(criterion='gini', max_depth=2)\n",
        "decision_tree_model.fit(X_train, y_train)\n",
        "y_pred4 = decision_tree_model.predict(X_test)\n",
        "y_pred4"
      ]
    },
    {
      "cell_type": "markdown",
      "metadata": {
        "id": "XQLmNLt8mxb8"
      },
      "source": [
        "###**6. Создание модели бинарной классификации на основе алгоритма Random forests**"
      ]
    },
    {
      "cell_type": "code",
      "execution_count": 24,
      "metadata": {
        "id": "3zmY7rEcpi-_"
      },
      "outputs": [],
      "source": [
        "#создадим модель логистической регрессии и подберем оптимальные гиперпараметры при помощи поиска по сетке и кросс-валидации\n",
        "from sklearn.ensemble import RandomForestClassifier\n",
        "test_model5 = RandomForestClassifier(random_state=42) #устанавливаем параметр random_state, чтобы при нескольких запусках GridSearchCV со скорректированным списком гиперпараметров результаты получались уточненными, а не совершенно новыми"
      ]
    },
    {
      "cell_type": "code",
      "execution_count": 25,
      "metadata": {
        "id": "_c1bjiClHlC1"
      },
      "outputs": [],
      "source": [
        "#help(RandomForestClassifier())"
      ]
    },
    {
      "cell_type": "code",
      "execution_count": 26,
      "metadata": {
        "colab": {
          "base_uri": "https://localhost:8080/"
        },
        "id": "K47f1tilu6Ia",
        "outputId": "01cbe369-f53a-450c-c16a-07982d660b26"
      },
      "outputs": [
        {
          "output_type": "stream",
          "name": "stderr",
          "text": [
            "/usr/local/lib/python3.10/dist-packages/numpy/ma/core.py:2820: RuntimeWarning: invalid value encountered in cast\n",
            "  _data = np.array(data, dtype=dtype, copy=copy,\n"
          ]
        },
        {
          "output_type": "execute_result",
          "data": {
            "text/plain": [
              "{'max_features': 'sqrt', 'n_estimators': 10}"
            ]
          },
          "metadata": {},
          "execution_count": 26
        }
      ],
      "source": [
        "#сделаем поиск по сетке для нахождения оптимальных гиперпараметров\n",
        "from sklearn.model_selection import GridSearchCV\n",
        "param_grid5 = {'n_estimators': [5, 6, 7, 8, 9, 10, 12, 15, 20, 30, 40, 45, 50, 55, 60, 65, 70, 75, 80, 90, 100, 120, 140, 200, 300, 400, 500], 'max_features': ['sqrt', 'log2']}\n",
        "grid5 = GridSearchCV(test_model5, param_grid5, cv=5, scoring='accuracy', error_score=np.nan)\n",
        "grid5.fit(X_train, y_train)\n",
        "grid5.best_params_\n",
        "#когда мы получили какое-то предварительно хорошее значение 'n_estimators', потом обязательно добавляем в список для перебора ближайшие к этому числу значения и запускаем повторный поиск по сетке\n"
      ]
    },
    {
      "cell_type": "code",
      "execution_count": 27,
      "metadata": {
        "colab": {
          "base_uri": "https://localhost:8080/"
        },
        "id": "n6Hj22hNvrMy",
        "outputId": "90ae4905-78e6-4684-cad4-b203a8171268"
      },
      "outputs": [
        {
          "output_type": "execute_result",
          "data": {
            "text/plain": [
              "array([0., 1., 1., 0., 1., 1., 1., 1., 1., 0., 1., 1., 1., 1., 1., 1., 1.,\n",
              "       0., 0., 1., 0., 0., 1., 1., 1., 1., 0., 0., 0., 0., 0., 0., 0., 0.,\n",
              "       0., 1., 1., 1., 0., 0., 0., 0., 0., 0., 0., 1., 0., 1., 0., 1., 0.,\n",
              "       1., 1., 0., 1., 0., 1., 0., 0., 1., 1., 0., 0., 0., 0., 0., 1., 0.,\n",
              "       1., 0., 0., 1., 1., 1., 0., 1., 1., 0., 1., 0., 0., 0., 1.])"
            ]
          },
          "metadata": {},
          "execution_count": 27
        }
      ],
      "source": [
        "#создадим модель с найденными оптимальными гиперпараметрами\n",
        "random_forest_model = RandomForestClassifier(max_features='sqrt', n_estimators=8)\n",
        "random_forest_model.fit(X_train, y_train)\n",
        "y_pred5 = random_forest_model.predict(X_test)\n",
        "y_pred5"
      ]
    },
    {
      "cell_type": "markdown",
      "metadata": {
        "id": "odBiE4y0mydr"
      },
      "source": [
        "###**7. Создание модели бинарной классификации на основе алгоритма Boosting и AdaBoosting**"
      ]
    },
    {
      "cell_type": "code",
      "execution_count": 28,
      "metadata": {
        "id": "6-QDtZkqpjoX"
      },
      "outputs": [],
      "source": [
        "#создадим модель логистической регрессии и подберем оптимальные гиперпараметры при помощи поиска по сетке и кросс-валидации\n",
        "from sklearn.ensemble import AdaBoostClassifier\n",
        "test_model6 = AdaBoostClassifier()\n"
      ]
    },
    {
      "cell_type": "code",
      "execution_count": 29,
      "metadata": {
        "id": "WwZbNYrK_6f-"
      },
      "outputs": [],
      "source": [
        "#help(AdaBoostClassifier())"
      ]
    },
    {
      "cell_type": "code",
      "execution_count": 30,
      "metadata": {
        "colab": {
          "base_uri": "https://localhost:8080/"
        },
        "id": "KTP_EiZF9bfN",
        "outputId": "da8bae25-039c-487b-8e63-7121d447a8f2"
      },
      "outputs": [
        {
          "output_type": "execute_result",
          "data": {
            "text/plain": [
              "{'n_estimators': 30}"
            ]
          },
          "metadata": {},
          "execution_count": 30
        }
      ],
      "source": [
        "#сделаем поиск по сетке для нахождения оптимальных гиперпараметров\n",
        "from sklearn.model_selection import GridSearchCV\n",
        "\n",
        "param_grid6 = {'n_estimators': [5, 7, 8, 9, 10, 11, 12, 15, 20, 30, 40, 50, 60, 70, 80, 90, 100, 120, 150]}\n",
        "\n",
        "grid6 = GridSearchCV(test_model6, param_grid6, cv=5, scoring='accuracy')\n",
        "grid6.fit(X_train, y_train)\n",
        "grid6.best_params_"
      ]
    },
    {
      "cell_type": "code",
      "execution_count": 31,
      "metadata": {
        "colab": {
          "base_uri": "https://localhost:8080/"
        },
        "id": "4tkVWel39doV",
        "outputId": "d59a62cb-3e0d-40ee-ee60-cd6e2afa3fe3"
      },
      "outputs": [
        {
          "output_type": "execute_result",
          "data": {
            "text/plain": [
              "array([0., 1., 1., 0., 1., 1., 1., 1., 1., 0., 1., 1., 1., 1., 1., 1., 1.,\n",
              "       0., 0., 1., 0., 1., 1., 0., 1., 1., 0., 0., 0., 0., 0., 0., 0., 0.,\n",
              "       0., 1., 1., 1., 0., 0., 0., 0., 0., 0., 0., 1., 0., 1., 0., 1., 0.,\n",
              "       1., 1., 0., 1., 0., 1., 0., 0., 1., 1., 0., 0., 0., 0., 1., 1., 0.,\n",
              "       1., 0., 0., 1., 1., 1., 0., 1., 1., 0., 1., 0., 0., 0., 1.])"
            ]
          },
          "metadata": {},
          "execution_count": 31
        }
      ],
      "source": [
        "#создадим модель с найденными оптимальными гиперпараметрами\n",
        "ada_boosting_model = AdaBoostClassifier(n_estimators=10)\n",
        "ada_boosting_model.fit(X_train, y_train)\n",
        "y_pred6 = ada_boosting_model.predict(X_test)\n",
        "y_pred6"
      ]
    },
    {
      "cell_type": "markdown",
      "metadata": {
        "id": "49sNCV5dnAWU"
      },
      "source": [
        "###**8. Создание модели бинарной классификации на основе алгоритма градиентного бустинга**"
      ]
    },
    {
      "cell_type": "code",
      "execution_count": 32,
      "metadata": {
        "id": "xwyAfSwTpkPn"
      },
      "outputs": [],
      "source": [
        "#создадим модель логистической регрессии и подберем оптимальные гиперпараметры при помощи поиска по сетке и кросс-валидации\n",
        "\n",
        "from sklearn.ensemble import GradientBoostingClassifier\n",
        "test_model7 = GradientBoostingClassifier(random_state=42) #устанавливаем параметр random_state, чтобы при нескольких запусках GridSearchCV со скорректированным списком гиперпараметров результаты получались уточненными, а не совершенно новыми\n"
      ]
    },
    {
      "cell_type": "code",
      "execution_count": 33,
      "metadata": {
        "id": "alY5nW8oBld-"
      },
      "outputs": [],
      "source": [
        "#help(GradientBoostingClassifier())"
      ]
    },
    {
      "cell_type": "code",
      "execution_count": 34,
      "metadata": {
        "colab": {
          "base_uri": "https://localhost:8080/"
        },
        "id": "B2AfQis3BllG",
        "outputId": "2b6897eb-c38a-4f98-9741-94e9caa29b9a"
      },
      "outputs": [
        {
          "output_type": "execute_result",
          "data": {
            "text/plain": [
              "{'learning_rate': 0.0005,\n",
              " 'loss': 'exponential',\n",
              " 'max_depth': 10,\n",
              " 'max_features': 'log2',\n",
              " 'n_estimators': 118}"
            ]
          },
          "metadata": {},
          "execution_count": 34
        }
      ],
      "source": [
        "#сделаем поиск по сетке для нахождения оптимальных гиперпараметров\n",
        "from sklearn.model_selection import GridSearchCV\n",
        "#param_grid7 = {'n_estimators': [10, 30, 50, 90, 100, 115, 118, 119, 120, 121, 122, 125, 150], 'learning_rate': [0.0005, 0.001, 0.0015, 0.002, 0.005, 0.01], 'max_depth': [3, 4, 5, 6, 7, 8, 9, 10, 11, 12], 'max_features' : ['None', 'sqrt', 'log2'], 'loss' : ['log_loss', 'exponential']}\n",
        "param_grid7 = {'n_estimators': [118, 119, 120, 121, 122, 125], 'learning_rate': [0.0005, 0.001, 0.0015, 0.002], 'max_depth': [8, 9, 10, 11, 12], 'max_features' : ['log2'], 'loss' : ['exponential']}\n",
        "grid7 = GridSearchCV(test_model7, param_grid7, cv=5, scoring='accuracy')\n",
        "grid7.fit(X_train, y_train)\n",
        "grid7.best_params_"
      ]
    },
    {
      "cell_type": "code",
      "execution_count": 35,
      "metadata": {
        "colab": {
          "base_uri": "https://localhost:8080/"
        },
        "id": "juUlqzE6FnSH",
        "outputId": "55b3b380-4e8d-4446-b48d-7ef2100c8b97"
      },
      "outputs": [
        {
          "output_type": "execute_result",
          "data": {
            "text/plain": [
              "array([0., 1., 1., 0., 1., 1., 1., 1., 1., 0., 1., 1., 1., 1., 1., 1., 1.,\n",
              "       0., 0., 1., 0., 1., 1., 0., 1., 1., 0., 0., 0., 0., 0., 0., 0., 0.,\n",
              "       0., 1., 1., 1., 0., 0., 0., 0., 0., 0., 0., 1., 0., 1., 0., 1., 0.,\n",
              "       1., 1., 0., 1., 0., 1., 0., 0., 1., 1., 0., 0., 0., 0., 0., 1., 0.,\n",
              "       1., 0., 0., 1., 1., 1., 0., 1., 1., 0., 1., 0., 0., 0., 1.])"
            ]
          },
          "metadata": {},
          "execution_count": 35
        }
      ],
      "source": [
        "#создадим модель с найденными оптимальными гиперпараметрами\n",
        "gradient_boosting_model = GradientBoostingClassifier(learning_rate=0.001, loss='exponential', max_depth=10, max_features='log2', n_estimators=120)\n",
        "gradient_boosting_model.fit(X_train, y_train)\n",
        "y_pred7 = gradient_boosting_model.predict(X_test)\n",
        "y_pred7"
      ]
    },
    {
      "cell_type": "markdown",
      "metadata": {
        "id": "9Em4P8ED9SBG"
      },
      "source": [
        "###**9. Напишем функцию для сранения всех этих моделей между собой**"
      ]
    },
    {
      "cell_type": "code",
      "execution_count": 36,
      "metadata": {
        "colab": {
          "base_uri": "https://localhost:8080/",
          "height": 1000
        },
        "id": "BBss72yCiuFH",
        "outputId": "1b0c733b-b1cd-4cc1-b795-7e7008536223"
      },
      "outputs": [
        {
          "output_type": "stream",
          "name": "stdout",
          "text": [
            "Evaluating model: LogisticRegressionCV\n",
            "Accuracy: 0.9759036144578314\n",
            "\n",
            "\n",
            "              precision    recall  f1-score   support\n",
            "\n",
            "         0.0       0.98      0.98      0.98        43\n",
            "         1.0       0.97      0.97      0.97        40\n",
            "\n",
            "    accuracy                           0.98        83\n",
            "   macro avg       0.98      0.98      0.98        83\n",
            "weighted avg       0.98      0.98      0.98        83\n",
            "\n"
          ]
        },
        {
          "output_type": "display_data",
          "data": {
            "text/plain": [
              "<Figure size 640x480 with 2 Axes>"
            ],
            "image/png": "[encoded data removed]"
          },
          "metadata": {}
        },
        {
          "output_type": "stream",
          "name": "stdout",
          "text": [
            "\n",
            "\n",
            "Evaluating model: KNeighborsClassifier\n",
            "Accuracy: 0.9879518072289156\n",
            "\n",
            "\n",
            "              precision    recall  f1-score   support\n",
            "\n",
            "         0.0       1.00      0.98      0.99        43\n",
            "         1.0       0.98      1.00      0.99        40\n",
            "\n",
            "    accuracy                           0.99        83\n",
            "   macro avg       0.99      0.99      0.99        83\n",
            "weighted avg       0.99      0.99      0.99        83\n",
            "\n"
          ]
        },
        {
          "output_type": "display_data",
          "data": {
            "text/plain": [
              "<Figure size 640x480 with 2 Axes>"
            ],
            "image/png": "[encoded data removed]"
          },
          "metadata": {}
        },
        {
          "output_type": "stream",
          "name": "stdout",
          "text": [
            "\n",
            "\n",
            "Evaluating model: SVC\n",
            "Accuracy: 0.963855421686747\n",
            "\n",
            "\n",
            "              precision    recall  f1-score   support\n",
            "\n",
            "         0.0       1.00      0.93      0.96        43\n",
            "         1.0       0.93      1.00      0.96        40\n",
            "\n",
            "    accuracy                           0.96        83\n",
            "   macro avg       0.97      0.97      0.96        83\n",
            "weighted avg       0.97      0.96      0.96        83\n",
            "\n"
          ]
        },
        {
          "output_type": "display_data",
          "data": {
            "text/plain": [
              "<Figure size 640x480 with 2 Axes>"
            ],
            "image/png": "[encoded data removed]"
          },
          "metadata": {}
        },
        {
          "output_type": "stream",
          "name": "stdout",
          "text": [
            "\n",
            "\n",
            "Evaluating model: DecisionTreeClassifier\n",
            "Accuracy: 0.9759036144578314\n",
            "\n",
            "\n",
            "              precision    recall  f1-score   support\n",
            "\n",
            "         0.0       0.96      1.00      0.98        43\n",
            "         1.0       1.00      0.95      0.97        40\n",
            "\n",
            "    accuracy                           0.98        83\n",
            "   macro avg       0.98      0.97      0.98        83\n",
            "weighted avg       0.98      0.98      0.98        83\n",
            "\n"
          ]
        },
        {
          "output_type": "display_data",
          "data": {
            "text/plain": [
              "<Figure size 640x480 with 2 Axes>"
            ],
            "image/png": "[encoded data removed]"
          },
          "metadata": {}
        },
        {
          "output_type": "stream",
          "name": "stdout",
          "text": [
            "\n",
            "\n",
            "Evaluating model: RandomForestClassifier\n",
            "Accuracy: 1.0\n",
            "\n",
            "\n",
            "              precision    recall  f1-score   support\n",
            "\n",
            "         0.0       1.00      1.00      1.00        43\n",
            "         1.0       1.00      1.00      1.00        40\n",
            "\n",
            "    accuracy                           1.00        83\n",
            "   macro avg       1.00      1.00      1.00        83\n",
            "weighted avg       1.00      1.00      1.00        83\n",
            "\n"
          ]
        },
        {
          "output_type": "display_data",
          "data": {
            "text/plain": [
              "<Figure size 640x480 with 2 Axes>"
            ],
            "image/png": "[encoded data removed]"
          },
          "metadata": {}
        },
        {
          "output_type": "stream",
          "name": "stdout",
          "text": [
            "\n",
            "\n",
            "Evaluating model: AdaBoostClassifier\n",
            "Accuracy: 0.9879518072289156\n",
            "\n",
            "\n",
            "              precision    recall  f1-score   support\n",
            "\n",
            "         0.0       1.00      0.98      0.99        43\n",
            "         1.0       0.98      1.00      0.99        40\n",
            "\n",
            "    accuracy                           0.99        83\n",
            "   macro avg       0.99      0.99      0.99        83\n",
            "weighted avg       0.99      0.99      0.99        83\n",
            "\n"
          ]
        },
        {
          "output_type": "display_data",
          "data": {
            "text/plain": [
              "<Figure size 640x480 with 2 Axes>"
            ],
            "image/png": "[encoded data removed]"
          },
          "metadata": {}
        },
        {
          "output_type": "stream",
          "name": "stdout",
          "text": [
            "\n",
            "\n",
            "Evaluating model: GradientBoostingClassifier\n",
            "Accuracy: 0.9879518072289156\n",
            "\n",
            "\n",
            "              precision    recall  f1-score   support\n",
            "\n",
            "         0.0       0.98      1.00      0.99        43\n",
            "         1.0       1.00      0.97      0.99        40\n",
            "\n",
            "    accuracy                           0.99        83\n",
            "   macro avg       0.99      0.99      0.99        83\n",
            "weighted avg       0.99      0.99      0.99        83\n",
            "\n"
          ]
        },
        {
          "output_type": "display_data",
          "data": {
            "text/plain": [
              "<Figure size 640x480 with 2 Axes>"
            ],
            "image/png": "[encoded data removed]"
          },
          "metadata": {}
        },
        {
          "output_type": "stream",
          "name": "stdout",
          "text": [
            "\n",
            "\n"
          ]
        }
      ],
      "source": [
        "from sklearn.metrics import mean_absolute_error, mean_squared_error, accuracy_score, classification_report, confusion_matrix\n",
        "from sklearn.metrics import ConfusionMatrixDisplay\n",
        "\n",
        "def run_models(models, X_train, y_train, X_test, y_test):\n",
        "    for model in models:\n",
        "        print(f\"Evaluating model: {model.__class__.__name__}\")\n",
        "\n",
        "        model.fit(X_train, y_train)\n",
        "        y_pred = model.predict(X_test)\n",
        "\n",
        "        # Вычисление метрик\n",
        "        accuracy = accuracy_score(y_test, y_pred)\n",
        "\n",
        "        # Вывод метрик\n",
        "        print(f'Accuracy: {accuracy}')\n",
        "        print('\\n')\n",
        "        print(classification_report(y_test, y_pred))\n",
        "\n",
        "        # Построение матрицы ошибок\n",
        "\n",
        "        ConfusionMatrixDisplay.from_estimator(model, X_test, y_test)\n",
        "        plt.title('Confusion Matrix for the model')\n",
        "        plt.show()\n",
        "\n",
        "        print('\\n')\n",
        "\n",
        "# Пример использования:\n",
        "models = [logistic_regression_model, knn_model, svm_model, decision_tree_model, random_forest_model, ada_boosting_model, gradient_boosting_model]\n",
        "\n",
        "run_models(models, X_train, y_train, X_test, y_test)\n"
      ]
    },
    {
      "cell_type": "markdown",
      "metadata": {
        "id": "_D8bFqg4Xf4z"
      },
      "source": [
        "###**10. Напишем функцию для выбора наилучшей модели машинного обучения для этой задачи**"
      ]
    },
    {
      "cell_type": "markdown",
      "metadata": {
        "id": "qBYJXhJcnTR5"
      },
      "source": [
        "**Выберем модель, которая показала наилучшие результаты. В нашем датасете классы сбалансированы, поэтому для оценки моделей можно смотреть на показатель accuracy**"
      ]
    },
    {
      "cell_type": "code",
      "execution_count": 37,
      "metadata": {
        "colab": {
          "base_uri": "https://localhost:8080/"
        },
        "id": "_rBfSsC5vzpx",
        "outputId": "00a7685d-53d9-4760-8095-28b593ff9f49"
      },
      "outputs": [
        {
          "output_type": "stream",
          "name": "stdout",
          "text": [
            "Best model by accuracy: GradientBoostingClassifier with accuracy: 1.0\n"
          ]
        }
      ],
      "source": [
        "#посмотрим, у какой из воделей наилучшая метрика accuracy\n",
        "def best_accuracy(models, X_train, y_train, X_test, y_test):\n",
        "    best_accuracy = 0\n",
        "    best_model_by_accuracy = None\n",
        "\n",
        "    for model in models:\n",
        "        model.fit(X_train, y_train)\n",
        "        y_pred = model.predict(X_test)\n",
        "        accuracy = accuracy_score(y_test, y_pred)\n",
        "\n",
        "        if accuracy > best_accuracy:\n",
        "            best_accuracy = accuracy\n",
        "            best_model_by_accuracy = model\n",
        "    print(f\"Best model by accuracy: {best_model_by_accuracy.__class__.__name__} with accuracy: {best_accuracy}\")\n",
        "\n",
        "\n",
        "\n",
        "models = [logistic_regression_model, knn_model, svm_model, decision_tree_model, random_forest_model, ada_boosting_model, gradient_boosting_model]\n",
        "best_accuracy(models, X_train, y_train, X_test, y_test)"
      ]
    },
    {
      "cell_type": "markdown",
      "metadata": {
        "id": "WWFEH9lG36w9"
      },
      "source": [
        "**Таким образом, модель gradient_boosting_model (GradientBoostingClassifier ()) с подобранными гиперпараметрами оказалась наилучшей**"
      ]
    },
    {
      "cell_type": "markdown",
      "metadata": {
        "id": "zxYR1lucpNxq"
      },
      "source": [
        "###**11. Посмотрим на лучшую модель отдельно**"
      ]
    },
    {
      "cell_type": "code",
      "execution_count": 38,
      "metadata": {
        "colab": {
          "base_uri": "https://localhost:8080/",
          "height": 698
        },
        "id": "shNX_NB2dkN4",
        "outputId": "f52628d4-dfee-4ca3-d557-dce59eb9c7dc"
      },
      "outputs": [
        {
          "output_type": "stream",
          "name": "stdout",
          "text": [
            "Метрики для gradient_boosting_model\n",
            "Accuracy: 1.0\n",
            "\n",
            "\n",
            "              precision    recall  f1-score   support\n",
            "\n",
            "         0.0       1.00      1.00      1.00        43\n",
            "         1.0       1.00      1.00      1.00        40\n",
            "\n",
            "    accuracy                           1.00        83\n",
            "   macro avg       1.00      1.00      1.00        83\n",
            "weighted avg       1.00      1.00      1.00        83\n",
            "\n"
          ]
        },
        {
          "output_type": "display_data",
          "data": {
            "text/plain": [
              "<Figure size 640x480 with 2 Axes>"
            ],
            "image/png": "[encoded data removed]"
          },
          "metadata": {}
        }
      ],
      "source": [
        "gradient_boosting_model.fit(X_train, y_train)\n",
        "y_pred = gradient_boosting_model.predict(X_test)\n",
        "\n",
        "# Вычисление метрик\n",
        "rmse = np.sqrt(mean_squared_error(y_test, y_pred))\n",
        "mae = mean_absolute_error(y_test, y_pred)\n",
        "accuracy = accuracy_score(y_test, y_pred)\n",
        "\n",
        "# Вывод метрик\n",
        "print('Метрики для gradient_boosting_model')\n",
        "print(f'Accuracy: {accuracy}')\n",
        "print('\\n')\n",
        "print(classification_report(y_test, y_pred))\n",
        "\n",
        "# Построение матрицы ошибок\n",
        "\n",
        "ConfusionMatrixDisplay.from_estimator(gradient_boosting_model, X_test, y_test)\n",
        "plt.title('Confusion Matrix for gradient_boosting_model')\n",
        "plt.show()"
      ]
    },
    {
      "cell_type": "markdown",
      "metadata": {
        "id": "EByz3mLbzBJf"
      },
      "source": [
        "###**12. Проверим, нет ли переобучения у нашей модели, т.к. метрики показывают довольно высокие значения**"
      ]
    },
    {
      "cell_type": "code",
      "execution_count": 39,
      "metadata": {
        "colab": {
          "base_uri": "https://localhost:8080/"
        },
        "id": "_V3DUa33zFvu",
        "outputId": "98391524-5ad5-4dce-e9d1-bcd463726d97"
      },
      "outputs": [
        {
          "output_type": "stream",
          "name": "stdout",
          "text": [
            "Лучший средний результат на кросс-валидации (accuracy): 0.9947368421052631\n"
          ]
        }
      ],
      "source": [
        "#посморим на лучший средний результат accuracy на кросс-валидации на обучающей выборке\n",
        "best_cv_score = grid7.best_score_\n",
        "print(f'Лучший средний результат на кросс-валидации (accuracy): {best_cv_score}')"
      ]
    },
    {
      "cell_type": "code",
      "execution_count": 40,
      "metadata": {
        "colab": {
          "base_uri": "https://localhost:8080/"
        },
        "id": "_3RlWQaL44Xh",
        "outputId": "915b10a0-f800-4316-8edb-aa89aca52906"
      },
      "outputs": [
        {
          "output_type": "stream",
          "name": "stdout",
          "text": [
            "Точность (accuracy) на тестовой выборке: 1.0\n",
            "Точность (precision) на тестовой выборке: 1.0\n",
            "Полнота (recall) на тестовой выборке: 1.0\n",
            "F1-метрика на тестовой выборке: 1.0\n"
          ]
        }
      ],
      "source": [
        "#посморим на метрики accuracy и др. на тестовой выборке\n",
        "from sklearn.metrics import accuracy_score, precision_score, recall_score, f1_score\n",
        "\n",
        "y_pred_test = gradient_boosting_model.predict(X_test)\n",
        "\n",
        "\n",
        "test_accuracy = accuracy_score(y_test, y_pred_test)\n",
        "test_precision = precision_score(y_test, y_pred_test)\n",
        "test_recall = recall_score(y_test, y_pred_test)\n",
        "test_f1 = f1_score(y_test, y_pred_test)\n",
        "\n",
        "print(f'Точность (accuracy) на тестовой выборке: {test_accuracy}')\n",
        "print(f'Точность (precision) на тестовой выборке: {test_precision}')\n",
        "print(f'Полнота (recall) на тестовой выборке: {test_recall}')\n",
        "print(f'F1-метрика на тестовой выборке: {test_f1}')"
      ]
    },
    {
      "cell_type": "markdown",
      "metadata": {
        "id": "LzV2YI7B5gkR"
      },
      "source": [
        "**Интерпретация метрик и их анализ на предмет переобучения**\n",
        "\n",
        "\n",
        "Точность 1.0 на кросс-валидации говорит о том, что модель очень хорошо обучилась на данных из обучающей выборки.\n",
        "\n",
        "На тестовой выборке точность составляет 0.9879, а F1-метрика — 0.9873, что всего лишь немного ниже, чем результаты кросс-валидации.\n",
        "Precision и recall также достаточно высоки и близки к результатам на обучении. Это говорит о том, что модель не сильно потеряла в качестве на данных, которых она ранее не видела.\n",
        "\n",
        "Обычно при переобучении модель показывает существенно лучшие результаты на кросс-валидации или обучающей выборке, чем на тестовых данных.\n",
        "Здесь же расхождение метрик минимальное (разница в точности менее 1.2%), что указывает на то, что модель хорошо справляется и с новыми данными.\n",
        "\n",
        "Таким образом, переобучение, вероятно, отсутствует.\n",
        "Высокие значения всех метрик указывают на хороший подбор всех гиперпараметров и хорошее обучение модели - модель можно считать хорошо настроенной."
      ]
    },
    {
      "cell_type": "markdown",
      "metadata": {
        "id": "WGqF9pKPWWKb"
      },
      "source": [
        "###**13. Отдельно посмотрим на данные, которые модель классифицировала неверно**"
      ]
    },
    {
      "cell_type": "code",
      "execution_count": 41,
      "metadata": {
        "colab": {
          "base_uri": "https://localhost:8080/",
          "height": 109
        },
        "id": "hp1xFSuAO1Zy",
        "outputId": "37f05ae1-5716-4551-b542-4b0662f265b8"
      },
      "outputs": [
        {
          "output_type": "execute_result",
          "data": {
            "text/plain": [
              "Empty DataFrame\n",
              "Columns: [Akkermansia_muciniphila, Alistipes_finegoldii, Alistipes_finegoldii/onderdonkii, Alistipes_inops, Alistipes_massiliensis, Alistipes_putredinis, Alistipes_shahii, Anaerostipes_hadrus, Bacteroides_barnesiae, Bacteroides_caccae, Bacteroides_cellulosilyticus/intestinalis, Bacteroides_clarus, Bacteroides_coprocola, Bacteroides_coprophilus, Bacteroides_dorei/fragilis, Bacteroides_dorei/vulgatus, Bacteroides_eggerthii, Bacteroides_faecis/thetaiotaomicron, Bacteroides_finegoldii, Bacteroides_fragilis, Bacteroides_fragilis/koreensis/kribbi/ovatus, Bacteroides_fragilis/ovatus, Bacteroides_fragilis/ovatus/xylanisolvens, Bacteroides_fragilis/xylanisolvens, Bacteroides_massiliensis, Bacteroides_ovatus, Bacteroides_ovatus/xylanisolvens, Bacteroides_plebeius, Bacteroides_rodentium, Bacteroides_salyersiae, Bacteroides_stercoris, Bacteroides_thetaiotaomicron, Bacteroides_thetaiotaomicron/xylanisolvens, Bacteroides_uniformis, Bacteroides_vulgatus, Barnesiella_intestinihominis, Bifidobacterium_adolescentis/faecale/ruminantium/stercoris, Bifidobacterium_adolescentis/faecale/stercoris, Bifidobacterium_catenulatum/kashiwanohense/pseudocatenulatum, Bifidobacterium_longum, Bifidobacterium_pullorum/saeculare/subtile, Bilophila_wadsworthia, Blautia_faecis, Blautia_faecis/glucerasea/phocaeensis, Blautia_massiliensis, Blautia_obeum/wexlerae, Butyricimonas_virosa, Catenibacterium_mitsuokai, Cloacibacillus_evryensis, Clostridium_sensu_stricto_1_perfringens/thermophilus, Collinsella_aerofaciens, Coprobacter_fastidiosus, Coprococcus_comes, Coprococcus_eutactus, Desulfovibrio_piger, Dialister_invisus, Dialister_succinatiphilus, Dorea_longicatena, Erysipelatoclostridium_ramosum, Erysipelotrichaceae_UCG-003_bacterium, Escherichia/Shigella_albertii/boydii/coli/dysenteriae/fergusonii/flexneri/marmotae/sonnei, Faecalibacterium_cf./prausnitzii, Faecalibacterium_prausnitzii, Flavonifractor_plautii, Fusicatenibacter_saccharivorans, Haemophilus_influenzae/parainfluenzae, Holdemanella_biformis, Intestinibacter_bartlettii, Klebsiella_aerogenes/oxytoca/pneumoniae/quasivariicola/variicola, Klebsiella spp., Lachnospira_pectinoschiza, Lachnospiraceae_NK4A136_group_bacterium, Lactobacillus_ruminis, Megamonas_funiformis, Mitsuokella_jalaludinii, Monoglobus_pectinilyticus, Negativibacillus_massiliensis, Odoribacter_splanchnicus, Parabacteroides_distasonis, Parabacteroides_goldsteinii, Parabacteroides_johnsonii, Parabacteroides_merdae, Parasutterella_excrementihominis, Parasutterella_secunda, Phascolarctobacterium_faecium, Phascolarctobacterium_succinatutens, Prevotella_copri, Romboutsia_ilealis/timonensis, Roseburia_hominis, Roseburia_intestinalis, Roseburia_inulinivorans, Ruminococcus_bicirculans, Ruminococcus_bromii, Ruminococcus_champanellensis, Streptococcus_lutetiensis/salivarius/thermophilus, Streptococcus_mitis/parasanguinis, Sutterella_wadsworthensis, Veillonella_dispar/parvula, Actinomyces_turicensis, Alistipes_ihumii, ...]\n",
              "Index: []\n",
              "\n",
              "[0 rows x 131 columns]"
            ],
            "text/html": [
              "\n",
              "  <div id=\"df-483a5c88-c0da-4351-8375-1b9bf7b51a0a\" class=\"colab-df-container\">\n",
              "    <div>\n",
              "<style scoped>\n",
              "    .dataframe tbody tr th:only-of-type {\n",
              "        vertical-align: middle;\n",
              "    }\n",
              "\n",
              "    .dataframe tbody tr th {\n",
              "        vertical-align: top;\n",
              "    }\n",
              "\n",
              "    .dataframe thead th {\n",
              "        text-align: right;\n",
              "    }\n",
              "</style>\n",
              "<table border=\"1\" class=\"dataframe\">\n",
              "  <thead>\n",
              "    <tr style=\"text-align: right;\">\n",
              "      <th></th>\n",
              "      <th>Akkermansia_muciniphila</th>\n",
              "      <th>Alistipes_finegoldii</th>\n",
              "      <th>Alistipes_finegoldii/onderdonkii</th>\n",
              "      <th>Alistipes_inops</th>\n",
              "      <th>Alistipes_massiliensis</th>\n",
              "      <th>Alistipes_putredinis</th>\n",
              "      <th>Alistipes_shahii</th>\n",
              "      <th>Anaerostipes_hadrus</th>\n",
              "      <th>Bacteroides_barnesiae</th>\n",
              "      <th>Bacteroides_caccae</th>\n",
              "      <th>...</th>\n",
              "      <th>Enterococcus_azikeevi/casseliflavus/durans/faecalis/faecium/hirae/lactis/mundtii/raffinosus/ratti/rivorum/thailandicus/villorum</th>\n",
              "      <th>Fusobacterium_ulcerans/varium</th>\n",
              "      <th>Lachnoclostridium_urinimassiliense</th>\n",
              "      <th>Lactobacillus_crispatus/gasseri/helveticus/johnsonii/kefiranofaciens/paragasseri</th>\n",
              "      <th>Lactobacillus_fermentum/gasseri/reuteri/vaginalis</th>\n",
              "      <th>Lactobacillus_phage/plantarum/reuteri/salivarius</th>\n",
              "      <th>Roseburia_faecis</th>\n",
              "      <th>Weissella_cibaria/confusa/koreensis/minor</th>\n",
              "      <th>not_null_sum</th>\n",
              "      <th>Index</th>\n",
              "    </tr>\n",
              "  </thead>\n",
              "  <tbody>\n",
              "  </tbody>\n",
              "</table>\n",
              "<p>0 rows × 131 columns</p>\n",
              "</div>\n",
              "    <div class=\"colab-df-buttons\">\n",
              "\n",
              "  <div class=\"colab-df-container\">\n",
              "    <button class=\"colab-df-convert\" onclick=\"convertToInteractive('df-483a5c88-c0da-4351-8375-1b9bf7b51a0a')\"\n",
              "            title=\"Convert this dataframe to an interactive table.\"\n",
              "            style=\"display:none;\">\n",
              "\n",
              "  <svg xmlns=\"http://www.w3.org/2000/svg\" height=\"24px\" viewBox=\"0 -960 960 960\">\n",
              "    <path d=\"M120-120v-720h720v720H120Zm60-500h600v-160H180v160Zm220 220h160v-160H400v160Zm0 220h160v-160H400v160ZM180-400h160v-160H180v160Zm440 0h160v-160H620v160ZM180-180h160v-160H180v160Zm440 0h160v-160H620v160Z\"/>\n",
              "  </svg>\n",
              "    </button>\n",
              "\n",
              "  <style>\n",
              "    .colab-df-container {\n",
              "      display:flex;\n",
              "      gap: 12px;\n",
              "    }\n",
              "\n",
              "    .colab-df-convert {\n",
              "      background-color: #E8F0FE;\n",
              "      border: none;\n",
              "      border-radius: 50%;\n",
              "      cursor: pointer;\n",
              "      display: none;\n",
              "      fill: #1967D2;\n",
              "      height: 32px;\n",
              "      padding: 0 0 0 0;\n",
              "      width: 32px;\n",
              "    }\n",
              "\n",
              "    .colab-df-convert:hover {\n",
              "      background-color: #E2EBFA;\n",
              "      box-shadow: 0px 1px 2px rgba(60, 64, 67, 0.3), 0px 1px 3px 1px rgba(60, 64, 67, 0.15);\n",
              "      fill: #174EA6;\n",
              "    }\n",
              "\n",
              "    .colab-df-buttons div {\n",
              "      margin-bottom: 4px;\n",
              "    }\n",
              "\n",
              "    [theme=dark] .colab-df-convert {\n",
              "      background-color: #3B4455;\n",
              "      fill: #D2E3FC;\n",
              "    }\n",
              "\n",
              "    [theme=dark] .colab-df-convert:hover {\n",
              "      background-color: #434B5C;\n",
              "      box-shadow: 0px 1px 3px 1px rgba(0, 0, 0, 0.15);\n",
              "      filter: drop-shadow(0px 1px 2px rgba(0, 0, 0, 0.3));\n",
              "      fill: #FFFFFF;\n",
              "    }\n",
              "  </style>\n",
              "\n",
              "    <script>\n",
              "      const buttonEl =\n",
              "        document.querySelector('#df-483a5c88-c0da-4351-8375-1b9bf7b51a0a button.colab-df-convert');\n",
              "      buttonEl.style.display =\n",
              "        google.colab.kernel.accessAllowed ? 'block' : 'none';\n",
              "\n",
              "      async function convertToInteractive(key) {\n",
              "        const element = document.querySelector('#df-483a5c88-c0da-4351-8375-1b9bf7b51a0a');\n",
              "        const dataTable =\n",
              "          await google.colab.kernel.invokeFunction('convertToInteractive',\n",
              "                                                    [key], {});\n",
              "        if (!dataTable) return;\n",
              "\n",
              "        const docLinkHtml = 'Like what you see? Visit the ' +\n",
              "          '<a target=\"_blank\" href=https://colab.research.google.com/notebooks/data_table.ipynb>data table notebook</a>'\n",
              "          + ' to learn more about interactive tables.';\n",
              "        element.innerHTML = '';\n",
              "        dataTable['output_type'] = 'display_data';\n",
              "        await google.colab.output.renderOutput(dataTable, element);\n",
              "        const docLink = document.createElement('div');\n",
              "        docLink.innerHTML = docLinkHtml;\n",
              "        element.appendChild(docLink);\n",
              "      }\n",
              "    </script>\n",
              "  </div>\n",
              "\n",
              "\n",
              "  <div id=\"id_ae2c0b56-5636-401a-8bbf-c1569bfaf1d4\">\n",
              "    <style>\n",
              "      .colab-df-generate {\n",
              "        background-color: #E8F0FE;\n",
              "        border: none;\n",
              "        border-radius: 50%;\n",
              "        cursor: pointer;\n",
              "        display: none;\n",
              "        fill: #1967D2;\n",
              "        height: 32px;\n",
              "        padding: 0 0 0 0;\n",
              "        width: 32px;\n",
              "      }\n",
              "\n",
              "      .colab-df-generate:hover {\n",
              "        background-color: #E2EBFA;\n",
              "        box-shadow: 0px 1px 2px rgba(60, 64, 67, 0.3), 0px 1px 3px 1px rgba(60, 64, 67, 0.15);\n",
              "        fill: #174EA6;\n",
              "      }\n",
              "\n",
              "      [theme=dark] .colab-df-generate {\n",
              "        background-color: #3B4455;\n",
              "        fill: #D2E3FC;\n",
              "      }\n",
              "\n",
              "      [theme=dark] .colab-df-generate:hover {\n",
              "        background-color: #434B5C;\n",
              "        box-shadow: 0px 1px 3px 1px rgba(0, 0, 0, 0.15);\n",
              "        filter: drop-shadow(0px 1px 2px rgba(0, 0, 0, 0.3));\n",
              "        fill: #FFFFFF;\n",
              "      }\n",
              "    </style>\n",
              "    <button class=\"colab-df-generate\" onclick=\"generateWithVariable('false_row')\"\n",
              "            title=\"Generate code using this dataframe.\"\n",
              "            style=\"display:none;\">\n",
              "\n",
              "  <svg xmlns=\"http://www.w3.org/2000/svg\" height=\"24px\"viewBox=\"0 0 24 24\"\n",
              "       width=\"24px\">\n",
              "    <path d=\"M7,19H8.4L18.45,9,17,7.55,7,17.6ZM5,21V16.75L18.45,3.32a2,2,0,0,1,2.83,0l1.4,1.43a1.91,1.91,0,0,1,.58,1.4,1.91,1.91,0,0,1-.58,1.4L9.25,21ZM18.45,9,17,7.55Zm-12,3A5.31,5.31,0,0,0,4.9,8.1,5.31,5.31,0,0,0,1,6.5,5.31,5.31,0,0,0,4.9,4.9,5.31,5.31,0,0,0,6.5,1,5.31,5.31,0,0,0,8.1,4.9,5.31,5.31,0,0,0,12,6.5,5.46,5.46,0,0,0,6.5,12Z\"/>\n",
              "  </svg>\n",
              "    </button>\n",
              "    <script>\n",
              "      (() => {\n",
              "      const buttonEl =\n",
              "        document.querySelector('#id_ae2c0b56-5636-401a-8bbf-c1569bfaf1d4 button.colab-df-generate');\n",
              "      buttonEl.style.display =\n",
              "        google.colab.kernel.accessAllowed ? 'block' : 'none';\n",
              "\n",
              "      buttonEl.onclick = () => {\n",
              "        google.colab.notebook.generateWithVariable('false_row');\n",
              "      }\n",
              "      })();\n",
              "    </script>\n",
              "  </div>\n",
              "\n",
              "    </div>\n",
              "  </div>\n"
            ],
            "application/vnd.google.colaboratory.intrinsic+json": {
              "type": "dataframe",
              "variable_name": "false_row"
            }
          },
          "metadata": {},
          "execution_count": 41
        }
      ],
      "source": [
        "import numpy as np\n",
        "#индексы ложнопредсказанных точек\n",
        "false_predictions = np.where(y_pred != y_test)[0] #получим массив индексов таких точек\n",
        "false_predictions\n",
        "#найдем строки с тамики индексами в нашем датасете\n",
        "false_row = df_total.iloc[false_predictions]\n",
        "false_row"
      ]
    },
    {
      "cell_type": "code",
      "execution_count": 42,
      "metadata": {
        "colab": {
          "base_uri": "https://localhost:8080/"
        },
        "id": "fUKXLPn3WkJx",
        "outputId": "0b1f8e3c-e188-408c-f913-74b48113edf0"
      },
      "outputs": [
        {
          "output_type": "execute_result",
          "data": {
            "text/plain": [
              "1.50853"
            ]
          },
          "metadata": {},
          "execution_count": 42
        }
      ],
      "source": [
        "#проверим, есть ли вообще в колонках ненулевые значения\n",
        "false_row.sum(axis=1)\n",
        "1.50853"
      ]
    },
    {
      "cell_type": "code",
      "execution_count": 43,
      "metadata": {
        "colab": {
          "base_uri": "https://localhost:8080/"
        },
        "id": "a5pEZ1zDRTkC",
        "outputId": "21193f1b-d62f-4c72-e88a-69011f3618b5"
      },
      "outputs": [
        {
          "output_type": "execute_result",
          "data": {
            "text/plain": [
              "Index([], dtype='object')"
            ]
          },
          "metadata": {},
          "execution_count": 43
        }
      ],
      "source": [
        "#посотрим, это значение одного признака или сумма значений нескольких признаков\n",
        "df_total.columns[false_row.isin([1.50853]).any()]"
      ]
    },
    {
      "cell_type": "markdown",
      "metadata": {
        "id": "PHINv346SoH8"
      },
      "source": [
        "**Почему данный образец был ошибочно классифицирован?** Как мы видим, данная строка содержит числовые значения всего одного признака из 131, что дает слишком мало информации об исследуемом образце для корректной работы модели."
      ]
    },
    {
      "cell_type": "markdown",
      "metadata": {
        "id": "AnWHklDWbgn8"
      },
      "source": [
        "###**14. Сохраним нашу модель**"
      ]
    },
    {
      "cell_type": "code",
      "execution_count": 44,
      "metadata": {
        "id": "jWS6RjeRbi9C"
      },
      "outputs": [],
      "source": [
        "gastr_or_healthy_classification_model = gradient_boosting_model"
      ]
    },
    {
      "cell_type": "code",
      "execution_count": 45,
      "metadata": {
        "colab": {
          "base_uri": "https://localhost:8080/"
        },
        "id": "mWQDFTqXbjAD",
        "outputId": "9325158c-44b8-493b-b3ec-27ffc928f57d"
      },
      "outputs": [
        {
          "output_type": "execute_result",
          "data": {
            "text/plain": [
              "['/content/drive/MyDrive/данные для петпроджекта/gastr_or_healthy_classification_model.joblib']"
            ]
          },
          "metadata": {},
          "execution_count": 45
        }
      ],
      "source": [
        "#сохранение модели\n",
        "\n",
        "from joblib import dump, load\n",
        "\n",
        "dump(gastr_or_healthy_classification_model, '/content/drive/MyDrive/данные для петпроджекта/gastr_or_healthy_classification_model.joblib')\n"
      ]
    },
    {
      "cell_type": "markdown",
      "metadata": {
        "id": "htV2h91cYX1Z"
      },
      "source": [
        "###**15. Определим, какие виды бактерий больше всего влияют на результат классификации и на основе этой информации создадим шаблон для загрузки новых данных в нашу модель**"
      ]
    },
    {
      "cell_type": "code",
      "execution_count": 46,
      "metadata": {
        "colab": {
          "base_uri": "https://localhost:8080/"
        },
        "id": "_IiKlVuyARdo",
        "outputId": "59fba03b-5719-4f20-9ef4-be0b00c3c364"
      },
      "outputs": [
        {
          "output_type": "execute_result",
          "data": {
            "text/plain": [
              "['not_null_sum',\n",
              " 'Faecalibacterium_prausnitzii',\n",
              " 'Bacteroides_vulgatus',\n",
              " 'Bacteroides_dorei/vulgatus',\n",
              " 'Phascolarctobacterium_faecium',\n",
              " 'Parabacteroides_merdae',\n",
              " 'Lachnospira_pectinoschiza',\n",
              " 'Bacteroides_uniformis',\n",
              " 'Collinsella_aerofaciens',\n",
              " 'Faecalibacterium_cf./prausnitzii',\n",
              " 'Alistipes_putredinis',\n",
              " 'Alistipes_finegoldii/onderdonkii',\n",
              " 'Akkermansia_muciniphila',\n",
              " 'Erysipelotrichaceae_UCG-003_bacterium',\n",
              " 'Desulfovibrio_piger',\n",
              " 'Bifidobacterium_adolescentis/faecale/stercoris',\n",
              " 'Bacteroides_caccae',\n",
              " 'Parasutterella_excrementihominis',\n",
              " 'Bifidobacterium_longum',\n",
              " 'Sutterella_wadsworthensis',\n",
              " 'Prevotella_copri',\n",
              " 'Dialister_invisus',\n",
              " 'Bacteroides_cellulosilyticus/intestinalis',\n",
              " 'Bacteroides_fragilis',\n",
              " 'Bacteroides_massiliensis',\n",
              " 'Lachnospiraceae_NK4A136_group_bacterium',\n",
              " 'Bacteroides_fragilis/ovatus',\n",
              " 'Fusobacterium_nucleatum',\n",
              " 'Escherichia/Shigella_albertii/boydii/coli/dysenteriae/fergusonii/flexneri/marmotae/sonnei',\n",
              " 'Alistipes_inops',\n",
              " 'Parabacteroides_distasonis',\n",
              " 'Fusicatenibacter_saccharivorans',\n",
              " 'Bacteroides_fragilis/xylanisolvens',\n",
              " 'Roseburia_intestinalis',\n",
              " 'Bifidobacterium_catenulatum/kashiwanohense/pseudocatenulatum',\n",
              " 'Ruminococcus_bromii',\n",
              " 'Bacteroides_plebeius',\n",
              " 'Bacteroides_stercoris',\n",
              " 'Roseburia_inulinivorans',\n",
              " 'Ruminococcus_bicirculans',\n",
              " 'Bacteroides_finegoldii',\n",
              " 'Bacteroides_thetaiotaomicron/xylanisolvens',\n",
              " 'Bacteroides_coprocola',\n",
              " 'Coprococcus_comes',\n",
              " 'Barnesiella_intestinihominis',\n",
              " 'Odoribacter_splanchnicus',\n",
              " 'Dorea_longicatena',\n",
              " 'Bifidobacterium_adolescentis/faecale/ruminantium/stercoris',\n",
              " 'Blautia_obeum/wexlerae',\n",
              " 'Alistipes_shahii',\n",
              " 'Bacteroides_clarus',\n",
              " 'Coprococcus_eutactus',\n",
              " 'Parabacteroides_johnsonii',\n",
              " 'Phascolarctobacterium_succinatutens',\n",
              " 'Lactobacillus_ruminis',\n",
              " 'Bacteroides_eggerthii',\n",
              " 'Slackia_isoflavoniconvertens',\n",
              " 'Bilophila_wadsworthia',\n",
              " 'Bacteroides_ovatus/xylanisolvens',\n",
              " 'Alistipes_finegoldii',\n",
              " 'Bacteroides_fragilis/koreensis/kribbi/ovatus',\n",
              " 'Bacteroides_fragilis/ovatus/xylanisolvens',\n",
              " 'Flavonifractor_plautii',\n",
              " 'Escherichia/Shigella_coli',\n",
              " 'Bacteroides_dorei/fragilis',\n",
              " 'Streptococcus_lutetiensis/salivarius/thermophilus',\n",
              " 'Bacteroides_thetaiotaomicron',\n",
              " 'Klebsiella_aerogenes/oxytoca/pneumoniae/quasivariicola/variicola',\n",
              " 'Dialister_succinatiphilus',\n",
              " 'Erysipelatoclostridium_ramosum',\n",
              " 'Dorea_formicigenerans',\n",
              " 'Blautia_faecis',\n",
              " 'Bacteroides_salyersiae',\n",
              " 'Alistipes_massiliensis',\n",
              " 'Alistipes_obesi',\n",
              " 'Blautia_faecis/glucerasea/phocaeensis',\n",
              " 'Ruminococcus_champanellensis',\n",
              " 'Veillonella_dispar/parvula',\n",
              " 'Blautia_obeum',\n",
              " 'Roseburia_faecis',\n",
              " 'Anaerostipes_hadrus',\n",
              " 'Roseburia_hominis',\n",
              " 'Alistipes_ihumii',\n",
              " 'Klebsiella spp.',\n",
              " 'Holdemanella_biformis',\n",
              " 'Coprobacter_fastidiosus',\n",
              " 'Lachnoclostridium_urinimassiliense',\n",
              " 'Bacteroides_faecis/thetaiotaomicron',\n",
              " 'Megasphaera_elsdenii',\n",
              " 'Megamonas_funiformis',\n",
              " 'Parasutterella_secunda',\n",
              " 'Bacteroides_intestinalis',\n",
              " 'Haemophilus_influenzae/parainfluenzae',\n",
              " 'Blautia_coccoides/hansenii/marasmi/producta',\n",
              " 'Lactobacillus_brevis/casei/delbrueckii/paracasei/rhamnosus',\n",
              " 'Mitsuokella_jalaludinii',\n",
              " 'Actinomyces_turicensis',\n",
              " 'Negativibacillus_massiliensis',\n",
              " 'Lactobacillus_phage/plantarum/reuteri/salivarius',\n",
              " 'Enterococcus_azikeevi/casseliflavus/durans/faecalis/faecium/hirae/lactis/mundtii/raffinosus/ratti/rivorum/thailandicus/villorum',\n",
              " 'Bacteroides_dorei',\n",
              " 'Streptococcus_alactolyticus/equinus/gallolyticus/macedonicus/pasteuri/pasteurianus',\n",
              " 'Lactobacillus_fermentum/gasseri/reuteri/vaginalis',\n",
              " 'Lactobacillus_crispatus/gasseri/helveticus/johnsonii/kefiranofaciens/paragasseri',\n",
              " 'Bacteroides_rodentium',\n",
              " 'Butyricimonas_virosa',\n",
              " 'Blautia_massiliensis',\n",
              " 'Alistipes_indistinctus',\n",
              " 'Parabacteroides_goldsteinii',\n",
              " 'Bacteroides_barnesiae',\n",
              " 'Cloacibacillus_evryensis',\n",
              " 'Bifidobacterium_pullorum/saeculare/subtile',\n",
              " 'Streptococcus_mitis/parasanguinis',\n",
              " 'Eggerthella_lenta',\n",
              " 'Streptococcus_anginosus/milleri/mitis',\n",
              " 'Acidaminococcus_intestini',\n",
              " 'Monoglobus_pectinilyticus',\n",
              " 'Eisenbergiella_massiliensis',\n",
              " 'Lactococcus_formosensis/garvieae/lactis',\n",
              " 'Clostridium_sensu_stricto_1_perfringens/thermophilus',\n",
              " 'Bacteroides_coprophilus',\n",
              " 'Intestinibacter_bartlettii',\n",
              " 'Fusobacterium_ulcerans/varium',\n",
              " 'Weissella_cibaria/confusa/koreensis/minor',\n",
              " 'Catenibacterium_mitsuokai',\n",
              " 'Prevotella_timonensis',\n",
              " 'Romboutsia_ilealis/timonensis',\n",
              " 'Porphyromonas_asaccharolytica',\n",
              " 'Bacteroides_ovatus',\n",
              " 'Bifidobacterium_dentium']"
            ]
          },
          "metadata": {},
          "execution_count": 46
        }
      ],
      "source": [
        "#посмотрим корреляцию признаков и отклика (какие признаки больше других влияют на отклик)\n",
        "\n",
        "corr_ser = np.abs(df_total.corr()['Index']).sort_values(ascending=False).drop('Index')\n",
        "corr_ser = pd.DataFrame(corr_ser)\n",
        "col_names = corr_ser.index.tolist()\n",
        "col_names"
      ]
    },
    {
      "cell_type": "code",
      "execution_count": 47,
      "metadata": {
        "id": "bhjTqyFzAa08"
      },
      "outputs": [],
      "source": [
        "#создаем шаблон датафрейма, в самом начале которого располагаются самые важные поля для заполнения (они больше всего влияют на результат)\n",
        "new_data = pd.DataFrame()\n",
        "for i in col_names:\n",
        "  new_data1 = pd.DataFrame(({i: [ ]}))\n",
        "  new_data = pd.concat([new_data, new_data1], axis=1)\n",
        "new_data\n",
        "\n",
        "#сохраним датафрейм\n",
        "new_data.to_excel('/content/drive/MyDrive/данные для петпроджекта/шаблон для загрузки новых данных.xlsx')\n"
      ]
    }
  ],
  "metadata": {
    "colab": {
      "provenance": [],
      "mount_file_id": "1I6p5McI9wXzM0u2u5ZOf_p_2r5LTnmcn",
      "authorship_tag": "ABX9TyOvYVNDfNW4pOtIRkkrFCZx",
      "include_colab_link": true
    },
    "kernelspec": {
      "display_name": "Python 3",
      "name": "python3"
    },
    "language_info": {
      "name": "python"
    }
  },
  "nbformat": 4,
  "nbformat_minor": 0
}